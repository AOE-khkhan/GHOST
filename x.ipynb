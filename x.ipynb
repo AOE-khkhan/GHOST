{
 "cells": [
  {
   "cell_type": "code",
   "execution_count": null,
   "metadata": {},
   "outputs": [],
   "source": [
    "%load_ext autoreload\n",
    "%autoreload 2"
   ]
  },
  {
   "cell_type": "code",
   "execution_count": null,
   "metadata": {},
   "outputs": [],
   "source": [
    "import os\n",
    "\n",
    "from matplotlib import pyplot as plt\n",
    "import numpy as np\n"
   ]
  },
  {
   "cell_type": "code",
   "execution_count": null,
   "metadata": {},
   "outputs": [],
   "source": [
    "def simulate_experience(img_dir=None):\n",
    "\t# the image paths\n",
    "\timage_names = sorted(os.listdir(img_dir))\n",
    "\n",
    "\tfor image_name in image_names:\n",
    "\t\tyield image_name"
   ]
  },
  {
   "cell_type": "code",
   "execution_count": null,
   "metadata": {},
   "outputs": [],
   "source": [
    "img_dir = 'test/images'\n",
    "image_names = simulate_experience(img_dir)\n",
    "for i, image_name in enumerate(image_names):\n",
    "    idx = image_name.split('.')[0]\n",
    "    feature_map = np.loadtxt('results/feature_maps/feature_map_{}.txt'.format(idx))\n",
    "    image = np.loadtxt('results/images/image_{}.txt'.format(idx))\n",
    "\n",
    "    w=10\n",
    "    h=10\n",
    "    fig=plt.figure(figsize=(8, 8))\n",
    "    columns = 2\n",
    "    rows = 1\n",
    "    li = [0, image, feature_map]\n",
    "    for i in range(1, columns*rows +1):\n",
    "        ax = fig.add_subplot(rows, columns, i)\n",
    "        ax.set_title(idx)\n",
    "        plt.imshow(li[i], cmap='gray')\n",
    "    plt.show()"
   ]
  },
  {
   "cell_type": "code",
   "execution_count": 292,
   "metadata": {},
   "outputs": [],
   "source": [
    "idx = \"img_99c\"\n",
    "feature_map = np.loadtxt('results/feature_maps/feature_map_{}.txt'.format(idx))\n",
    "image = np.loadtxt('results/images/image_{}.txt'.format(idx))"
   ]
  },
  {
   "cell_type": "code",
   "execution_count": 302,
   "metadata": {},
   "outputs": [
    {
     "data": {
      "text/plain": [
       "array([[ 0.        ,  0.        ,  0.        ,  0.        ,  0.        ,\n",
       "         0.        ,  0.        ,  0.        ,  0.        ,  0.        ,\n",
       "         0.        ,  0.        ,  0.        ,  0.        ,  0.        ,\n",
       "         0.        ,  0.        ,  0.        ,  0.        ,  0.        ,\n",
       "         0.        ,  0.        ,  0.        ,  0.        ,  0.        ,\n",
       "         0.        ],\n",
       "       [ 0.        ,  0.        ,  0.        ,  0.        ,  0.12003111,\n",
       "         0.        ,  0.        ,  0.        ,  0.        ,  0.        ,\n",
       "         0.        ,  0.        ,  0.        ,  0.        ,  0.        ,\n",
       "         0.        ,  0.        ,  0.        ,  0.        ,  0.        ,\n",
       "         0.        ,  0.        ,  0.        ,  0.        ,  0.        ,\n",
       "         0.        ],\n",
       "       [ 0.        ,  0.        ,  0.        ,  0.        ,  0.1927    ,\n",
       "         0.        ,  0.        ,  0.        ,  0.        ,  0.        ,\n",
       "         0.        ,  0.        ,  0.        ,  0.        ,  0.        ,\n",
       "         0.        ,  0.        ,  0.        ,  0.        ,  0.        ,\n",
       "         0.        ,  0.        ,  0.        ,  0.12003111,  0.        ,\n",
       "         0.        ],\n",
       "       [ 0.        ,  0.        ,  0.        ,  0.        ,  0.        ,\n",
       "         0.        ,  0.        ,  0.        ,  0.        ,  0.        ,\n",
       "         0.        ,  0.        ,  0.        ,  0.        ,  0.        ,\n",
       "         0.        ,  0.        ,  0.        ,  0.        ,  0.        ,\n",
       "         0.        ,  0.        ,  0.        ,  0.12003111,  0.        ,\n",
       "         0.        ],\n",
       "       [ 0.        ,  0.        ,  0.        ,  0.        ,  0.        ,\n",
       "         0.        ,  0.        ,  0.        ,  0.        ,  0.        ,\n",
       "         0.        ,  0.        ,  0.        ,  0.        ,  0.        ,\n",
       "         0.        ,  0.        ,  0.        ,  0.        ,  0.        ,\n",
       "         0.        ,  0.        ,  0.        ,  0.12003111,  0.        ,\n",
       "         0.        ],\n",
       "       [ 0.        ,  0.        ,  0.        ,  0.        ,  0.        ,\n",
       "         0.        ,  0.        ,  0.        ,  0.        ,  0.        ,\n",
       "         0.        ,  0.        ,  0.        ,  0.        ,  0.        ,\n",
       "         0.        ,  0.        ,  0.        ,  0.        ,  0.        ,\n",
       "         0.        ,  0.        ,  0.        ,  0.        ,  0.        ,\n",
       "         0.        ],\n",
       "       [ 0.        ,  0.        ,  0.        ,  0.        ,  0.        ,\n",
       "         0.        ,  0.        ,  0.        ,  0.        ,  0.        ,\n",
       "         0.        ,  0.        ,  0.        ,  0.        ,  0.        ,\n",
       "         0.        ,  0.        ,  0.        ,  0.        ,  0.        ,\n",
       "         0.        ,  0.        ,  0.        ,  0.        ,  0.        ,\n",
       "         0.        ],\n",
       "       [ 0.        ,  0.        ,  0.        ,  0.        ,  0.        ,\n",
       "         0.        ,  0.        ,  0.        ,  0.        ,  0.        ,\n",
       "         0.        ,  0.        ,  0.        ,  0.        ,  0.        ,\n",
       "         0.        ,  0.        ,  0.        ,  0.        ,  0.        ,\n",
       "         0.        ,  0.        ,  0.        ,  0.        ,  0.        ,\n",
       "         0.        ],\n",
       "       [ 0.        ,  0.        ,  0.        ,  0.        ,  0.        ,\n",
       "         0.        ,  0.        ,  0.        ,  0.        ,  0.        ,\n",
       "         0.        ,  0.        ,  0.        ,  0.        ,  0.        ,\n",
       "         0.        ,  0.        ,  0.        ,  0.        ,  0.        ,\n",
       "         0.        ,  0.        ,  0.        ,  0.        ,  0.        ,\n",
       "         0.        ],\n",
       "       [ 0.        ,  0.        ,  0.        ,  0.        ,  0.        ,\n",
       "         0.        ,  0.        ,  0.        ,  0.        ,  0.        ,\n",
       "         0.        ,  0.        ,  0.        ,  0.        ,  0.        ,\n",
       "         0.        ,  0.        ,  0.        ,  0.        ,  0.        ,\n",
       "         0.        ,  0.        ,  0.        ,  0.        ,  0.        ,\n",
       "         0.        ],\n",
       "       [ 0.        ,  0.        ,  0.        ,  0.        ,  0.        ,\n",
       "         0.        ,  0.        ,  0.        ,  0.        ,  0.        ,\n",
       "         0.        ,  0.        ,  0.        ,  0.        ,  0.        ,\n",
       "         0.        ,  0.        ,  0.        ,  0.        ,  0.        ,\n",
       "         0.        ,  0.        ,  0.        ,  0.        ,  0.        ,\n",
       "         0.        ],\n",
       "       [ 0.        ,  0.        ,  0.        ,  0.        ,  0.        ,\n",
       "         0.        ,  0.        ,  0.        ,  0.        ,  0.        ,\n",
       "         0.        ,  0.        ,  0.        ,  0.        ,  0.        ,\n",
       "         0.        ,  0.        ,  0.        ,  0.        ,  0.        ,\n",
       "         0.        ,  0.        ,  0.        ,  0.        ,  0.        ,\n",
       "         0.        ],\n",
       "       [ 0.        ,  0.        ,  0.        ,  0.        ,  0.        ,\n",
       "         0.        ,  0.        ,  0.        ,  0.        ,  0.        ,\n",
       "         0.        ,  0.        ,  0.        ,  0.        ,  0.        ,\n",
       "         0.        ,  0.        ,  0.        ,  0.        ,  0.        ,\n",
       "         0.        ,  0.        ,  0.        ,  0.        ,  0.        ,\n",
       "         0.        ],\n",
       "       [ 0.        ,  0.        ,  0.        ,  0.        ,  0.        ,\n",
       "         0.        ,  0.        ,  0.        ,  0.        ,  0.        ,\n",
       "         0.        ,  0.        ,  0.        ,  0.        ,  0.        ,\n",
       "         0.        ,  0.        ,  0.        ,  0.        ,  0.        ,\n",
       "         0.        ,  0.        ,  0.        ,  0.        ,  0.        ,\n",
       "         0.        ],\n",
       "       [ 0.        ,  0.        ,  0.        ,  0.        ,  0.        ,\n",
       "         0.        ,  0.        ,  0.        ,  0.        ,  0.        ,\n",
       "         0.        ,  0.        ,  0.        ,  0.        ,  0.        ,\n",
       "         0.        ,  0.        ,  0.        ,  0.        ,  0.        ,\n",
       "         0.        ,  0.        ,  0.        ,  0.        ,  0.        ,\n",
       "         0.        ],\n",
       "       [ 0.        ,  0.        ,  0.        ,  0.        ,  0.        ,\n",
       "         0.        ,  0.        ,  0.        ,  0.        ,  0.        ,\n",
       "         0.        ,  0.        ,  0.        ,  0.        ,  0.        ,\n",
       "         0.        ,  0.        ,  0.        ,  0.        ,  0.        ,\n",
       "         0.        ,  0.        ,  0.        ,  0.        ,  0.        ,\n",
       "         0.        ],\n",
       "       [ 0.        ,  0.        ,  0.        ,  0.        ,  0.        ,\n",
       "         0.        ,  0.        ,  0.        ,  0.        ,  0.        ,\n",
       "         0.        ,  0.        ,  0.        ,  0.        ,  0.        ,\n",
       "         0.        ,  0.        ,  0.        ,  0.        ,  0.        ,\n",
       "         0.        ,  0.        ,  0.        ,  0.        ,  0.        ,\n",
       "         0.        ],\n",
       "       [ 0.        ,  0.        ,  0.        ,  0.        ,  0.        ,\n",
       "         0.        ,  0.        ,  0.        ,  0.        ,  0.        ,\n",
       "         0.        ,  0.        ,  0.        ,  0.        ,  0.        ,\n",
       "         0.        ,  0.        ,  0.        ,  0.        ,  0.        ,\n",
       "         0.        ,  0.        ,  0.        ,  0.        ,  0.        ,\n",
       "        84.1667    ],\n",
       "       [ 0.        ,  0.        ,  0.        ,  0.        ,  0.        ,\n",
       "         0.        ,  0.        ,  0.        ,  0.        ,  0.        ,\n",
       "         0.        ,  0.        ,  0.        ,  0.        ,  0.        ,\n",
       "         0.        ,  0.        ,  0.        ,  0.        ,  0.        ,\n",
       "         0.        ,  0.        ,  0.        ,  0.        ,  0.        ,\n",
       "         0.12003111],\n",
       "       [ 0.        ,  0.        ,  0.        ,  0.        ,  0.        ,\n",
       "         0.        ,  0.        ,  0.        ,  0.        ,  0.        ,\n",
       "         0.        ,  0.        ,  0.        ,  0.        ,  0.        ,\n",
       "         0.        ,  0.        ,  0.        ,  0.        ,  0.        ,\n",
       "         0.        ,  0.        ,  0.        ,  0.        ,  0.12003111,\n",
       "         0.12003111],\n",
       "       [ 0.        ,  0.        ,  0.        ,  0.        ,  0.        ,\n",
       "         0.        ,  0.        ,  0.        ,  0.        ,  0.        ,\n",
       "         0.        ,  0.        ,  0.        ,  0.        ,  0.        ,\n",
       "         0.        ,  0.        ,  0.        ,  0.        ,  0.        ,\n",
       "         0.        ,  0.        ,  0.        ,  0.        ,  0.12003111,\n",
       "         0.12003111],\n",
       "       [ 0.        ,  0.        ,  0.        ,  0.        ,  0.        ,\n",
       "         0.        ,  0.        ,  0.        ,  0.        ,  0.        ,\n",
       "         0.        ,  0.        ,  0.        ,  0.        ,  0.        ,\n",
       "         0.        ,  0.        ,  0.        ,  0.        ,  0.        ,\n",
       "         0.        ,  0.        ,  0.        ,  0.        ,  0.12003111,\n",
       "         0.15683627],\n",
       "       [ 0.        ,  0.        ,  0.        ,  0.        ,  0.        ,\n",
       "         0.        ,  0.        ,  0.        ,  0.        ,  0.        ,\n",
       "         0.        ,  0.        ,  0.        ,  0.        ,  0.        ,\n",
       "         0.        ,  0.        ,  0.        ,  0.        ,  0.        ,\n",
       "         0.        ,  0.        ,  0.        ,  0.        ,  1.87615725,\n",
       "         0.20726873],\n",
       "       [ 0.12003111,  0.15683627,  0.        ,  0.        ,  0.        ,\n",
       "         0.        ,  0.        ,  0.        ,  0.        ,  0.        ,\n",
       "         0.        ,  0.        ,  0.        ,  0.        ,  0.        ,\n",
       "         0.        ,  0.        ,  0.        ,  0.        ,  0.        ,\n",
       "         0.        ,  0.        ,  0.15683627, 84.1667    ,  0.15683627,\n",
       "         0.15683627],\n",
       "       [ 0.        ,  0.        ,  0.        ,  0.        ,  0.        ,\n",
       "         0.        ,  0.        ,  0.        ,  0.        ,  0.        ,\n",
       "         0.        ,  0.        ,  0.        ,  0.        ,  0.        ,\n",
       "         0.        ,  0.        ,  0.        ,  0.        ,  0.        ,\n",
       "         0.        ,  0.        ,  0.        ,  0.        ,  0.        ,\n",
       "         0.        ],\n",
       "       [ 0.        ,  0.        ,  0.        ,  0.        ,  0.        ,\n",
       "         0.        ,  0.        ,  0.        ,  0.        ,  0.        ,\n",
       "         0.        ,  0.        ,  0.        ,  0.        ,  0.        ,\n",
       "         0.        ,  0.        ,  0.        ,  0.        ,  0.        ,\n",
       "         0.        ,  0.        ,  0.        ,  0.        ,  0.        ,\n",
       "         0.        ]])"
      ]
     },
     "execution_count": 302,
     "metadata": {},
     "output_type": "execute_result"
    }
   ],
   "source": [
    "feature_map"
   ]
  },
  {
   "cell_type": "code",
   "execution_count": 313,
   "metadata": {},
   "outputs": [],
   "source": [
    "def loadtxt(idx, x='feature_map'):\n",
    "    return np.loadtxt('results/{}s/{}_{}.txt'.format(x, x, idx))\n",
    "\n",
    "def sim(a, b):\n",
    "    return np.sqrt(np.sum(abs(a - b)**2))"
   ]
  },
  {
   "cell_type": "code",
   "execution_count": 354,
   "metadata": {},
   "outputs": [
    {
     "name": "stdout",
     "output_type": "stream",
     "text": [
      "IMG_20190724_215614.jpg 0.30713458954388895 0.012763895313792966\n",
      "IMG_20190724_215615.jpg 0.006800707499967029 0.012929648063978914\n",
      "IMG_20190724_215616.jpg 0.008312739094484342 0.013266607026215169\n",
      "IMG_20190724_215617.jpg 0.01009341953330916 0.014153975515923903\n",
      "IMG_20190724_215618.jpg 0.011596356159063159 0.0161568385526231\n",
      "IMG_20190724_215619.jpg 0.007389521380394613 0.012340481320454549\n",
      "IMG_20190724_215620.jpg 0.009083794020277064 0.011628211665256075\n",
      "IMG_20190724_215621.jpg 0.009439257963988508 0.012462712975594188\n",
      "IMG_20190724_215622.jpg 0.007542107957366488 0.012008663710632342\n",
      "IMG_20190724_215623.jpg 0.007819824076399334 0.012903071383439595\n",
      "IMG_20190724_215624.jpg 0.008815787659755039 0.012211942554748776\n",
      "IMG_20190724_215625.jpg 0.010319154556789363 0.011217312834438279\n",
      "IMG_20190724_215626.jpg 0.00994640742269568 0.012178163963235953\n",
      "IMG_20190724_215628.jpg 0.013441367420729046 0.014564628778343944\n",
      "IMG_20190724_215628_1.jpg 0.013992755270479417 0.0159701390062638\n",
      "IMG_20190724_215629.jpg 0.013190859312462387 0.015281945791389959\n",
      "IMG_20190724_215630.jpg 0.011845513706261003 0.013073729831212246\n",
      "IMG_20190724_215631.jpg 0.013055006253270258 0.013297375292270007\n",
      "IMG_20190724_215632.jpg 0.010486577054517617 0.011099925010265691\n",
      "IMG_20190724_215633.jpg 0.01202814836743995 0.012136034084891388\n",
      "IMG_20190724_215634.jpg 0.011519073261644874 0.012094837750446437\n"
     ]
    }
   ],
   "source": [
    "img_dir = 'test/photos'\n",
    "image_names = simulate_experience(img_dir)\n",
    "for i, image_name in enumerate(image_names):\n",
    "    if i == 0:\n",
    "        last_idx = image_name.split('.')[0]\n",
    "        continue\n",
    "    idx = image_name.split('.')[0]\n",
    "    a_fm = loadtxt(idx)\n",
    "    b_fm = loadtxt(last_idx)\n",
    "    fm_diff = sim(a_fm, b_fm) / sim(np.full(a_fm.shape, 255), 0)\n",
    "\n",
    "    a_img = loadtxt(last_idx, 'image')\n",
    "    b_img = loadtxt(idx, 'image')\n",
    "    img_diff = sim(a_img, b_img) / sim(np.full(a_img.shape, 255), 0)\n",
    "\n",
    "    print(image_name, fm_diff, img_diff)\n",
    "    last_idx = idx"
   ]
  },
  {
   "cell_type": "code",
   "execution_count": 345,
   "metadata": {},
   "outputs": [],
   "source": [
    "idx = \"IMG_20190724_215634\"\n",
    "feature_map = loadtxt(idx)\n",
    "image = loadtxt(idx, 'image')"
   ]
  },
  {
   "cell_type": "code",
   "execution_count": 346,
   "metadata": {},
   "outputs": [
    {
     "data": {
      "text/plain": [
       "<matplotlib.image.AxesImage at 0x2c30736ca90>"
      ]
     },
     "execution_count": 346,
     "metadata": {},
     "output_type": "execute_result"
    },
    {
     "data": {
      "image/png": "[encoded data removed]",
      "text/plain": [
       "<Figure size 432x288 with 1 Axes>"
      ]
     },
     "metadata": {
      "needs_background": "light"
     },
     "output_type": "display_data"
    }
   ],
   "source": [
    "plt.imshow(image, cmap='gray')"
   ]
  },
  {
   "cell_type": "code",
   "execution_count": 347,
   "metadata": {},
   "outputs": [
    {
     "data": {
      "text/plain": [
       "<matplotlib.image.AxesImage at 0x2c3071af278>"
      ]
     },
     "execution_count": 347,
     "metadata": {},
     "output_type": "execute_result"
    },
    {
     "data": {
      "image/png": "[encoded data removed]",
      "text/plain": [
       "<Figure size 432x288 with 1 Axes>"
      ]
     },
     "metadata": {
      "needs_background": "light"
     },
     "output_type": "display_data"
    }
   ],
   "source": [
    "plt.imshow(feature_map, cmap='gray')"
   ]
  },
  {
   "cell_type": "code",
   "execution_count": 348,
   "metadata": {},
   "outputs": [
    {
     "data": {
      "text/plain": [
       "(26, 26)"
      ]
     },
     "execution_count": 348,
     "metadata": {},
     "output_type": "execute_result"
    }
   ],
   "source": [
    "a, b = 15, 19\n",
    "feature_map.shape"
   ]
  },
  {
   "cell_type": "code",
   "execution_count": 349,
   "metadata": {},
   "outputs": [
    {
     "data": {
      "text/plain": [
       "array([[81.47403601, 81.47081212, 81.8868    , 80.14313757],\n",
       "       [81.75419169, 81.54997927, 81.0231925 , 78.44451551],\n",
       "       [81.54997927, 81.54997927, 81.47403601, 79.67028775],\n",
       "       [81.50815   , 81.54997927, 81.98685   , 81.47403601]])"
      ]
     },
     "execution_count": 349,
     "metadata": {},
     "output_type": "execute_result"
    }
   ],
   "source": [
    "feature_map[a:b, a:b]"
   ]
  },
  {
   "cell_type": "code",
   "execution_count": 350,
   "metadata": {},
   "outputs": [
    {
     "data": {
      "text/plain": [
       "array([[81.66667175, 82.33333588, 82.33333588, 80.33333588],\n",
       "       [81.66667175, 81.        , 81.66667175, 81.        ],\n",
       "       [81.66667175, 81.66667175, 81.66667175, 79.66667175],\n",
       "       [81.66667175, 81.66667175, 81.66667175, 81.        ]])"
      ]
     },
     "execution_count": 350,
     "metadata": {},
     "output_type": "execute_result"
    }
   ],
   "source": [
    "image[a:b, a:b]"
   ]
  },
  {
   "cell_type": "code",
   "execution_count": 242,
   "metadata": {},
   "outputs": [
    {
     "name": "stdout",
     "output_type": "stream",
     "text": [
      "  0            0\n",
      " 25         2500\n",
      " 50         5000\n",
      " 75         7500\n",
      "100        10000\n",
      "125        12500\n",
      "150        15000\n",
      "175        17500\n",
      "200        20000\n",
      "225        22500\n",
      "250        25000\n"
     ]
    }
   ],
   "source": [
    "import numpy as np\n",
    "\n",
    "# pn = np.array([[2,3,5],[7,11,13],[17,19,23]])\n",
    "def c(m):\n",
    "#     pn = np.array([[10, 100, 1_000],[10_000, 100_000, 1_000_000],[10_000_000, 100_000_000, 1_000_000_000]], dtype=np.int64)\n",
    "    pn = np.array([[2, 3, 11],[5, 7, 17],[13, 19, 23]], dtype=np.int64)\n",
    "    v = m*pn\n",
    "    return np.sum(v)\n",
    "\n",
    "n = 10\n",
    "s = 256//n\n",
    "for i in range(0, 256, s):\n",
    "    m = np.full((3,3), i)\n",
    "    z = c(m)\n",
    "    print('{:>3} {:>12}'.format(i, z))"
   ]
  },
  {
   "cell_type": "code",
   "execution_count": 244,
   "metadata": {},
   "outputs": [
    {
     "name": "stdout",
     "output_type": "stream",
     "text": [
      "250           23          0.0\n",
      "250           17          0.0\n",
      "250           19          0.0\n",
      "250           40          0.0\n",
      "250           42          0.0\n",
      "250           36          0.0\n",
      "250           59          0.0\n"
     ]
    }
   ],
   "source": [
    "m1 = np.array([[0,0,0],[0,0,0],[0,0,1]])\n",
    "m2 = np.array([[0,0,0],[0,0,1],[0,0,0]])\n",
    "m3 = np.array([[0,0,0],[0,0,0],[0,1,0]])\n",
    "m4 = np.array([[0,0,0],[0,0,1],[0,0,1]])\n",
    "m5 = np.array([[0,0,0],[0,0,0],[0,1,1]])\n",
    "m6 = np.array([[0,0,0],[0,0,1],[0,1,0]])\n",
    "m7 = np.array([[0,0,0],[0,0,1],[0,1,1]])\n",
    "\n",
    "for k in [m1,m2,m3,m4,m5,m6,m7]:\n",
    "    z = c(k)\n",
    "    print('{:>3} {:>12} {:>12}'.format(i, z, np.linalg.det(k)))"
   ]
  },
  {
   "cell_type": "code",
   "execution_count": 239,
   "metadata": {},
   "outputs": [
    {
     "name": "stdout",
     "output_type": "stream",
     "text": [
      "250   2000000000\n"
     ]
    }
   ],
   "source": [
    "print('{:>3} {:>12}'.format(i, c(np.array([[0,0,0],[0,0,0],[0,0,1]]))))"
   ]
  },
  {
   "cell_type": "code",
   "execution_count": null,
   "metadata": {},
   "outputs": [],
   "source": []
  }
 ],
 "metadata": {
  "kernelspec": {
   "display_name": "Python 3",
   "language": "python",
   "name": "python3"
  },
  "language_info": {
   "codemirror_mode": {
    "name": "ipython",
    "version": 3
   },
   "file_extension": ".py",
   "mimetype": "text/x-python",
   "name": "python",
   "nbconvert_exporter": "python",
   "pygments_lexer": "ipython3",
   "version": "3.7.2"
  }
 },
 "nbformat": 4,
 "nbformat_minor": 2
}
