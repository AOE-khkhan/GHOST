{
 "cells": [
  {
   "cell_type": "code",
   "execution_count": 348,
   "metadata": {},
   "outputs": [],
   "source": [
    "from collections import defaultdict\n",
    "\n",
    "import numpy as np\n",
    "import matplotlib.pyplot as plt\n",
    "from scipy.optimize import minimize"
   ]
  },
  {
   "cell_type": "code",
   "execution_count": 349,
   "metadata": {},
   "outputs": [],
   "source": [
    "h, w = 5, 5\n",
    "size = (h, w)"
   ]
  },
  {
   "cell_type": "code",
   "execution_count": 350,
   "metadata": {},
   "outputs": [],
   "source": [
    "image1 = np.zeros(size, dtype=np.int8)\n",
    "image2 = np.zeros(size, dtype=np.int8)"
   ]
  },
  {
   "cell_type": "code",
   "execution_count": 351,
   "metadata": {},
   "outputs": [],
   "source": [
    "image1[1:4:2, 0:3:2] = 1\n",
    "image1[2, 1] = 1\n",
    "for i in range(w):\n",
    "    image2[i, i] = 1\n",
    "    image2[w-i-1, i] = 1"
   ]
  },
  {
   "cell_type": "code",
   "execution_count": 352,
   "metadata": {},
   "outputs": [
    {
     "data": {
      "text/plain": [
       "<matplotlib.image.AxesImage at 0x27edbb1b898>"
      ]
     },
     "execution_count": 352,
     "metadata": {},
     "output_type": "execute_result"
    },
    {
     "data": {
      "image/png": "[encoded data removed]",
      "text/plain": [
       "<Figure size 432x288 with 1 Axes>"
      ]
     },
     "metadata": {
      "needs_background": "light"
     },
     "output_type": "display_data"
    }
   ],
   "source": [
    "plt.imshow(image1, cmap='gray', vmin=0, vmax=1)"
   ]
  },
  {
   "cell_type": "code",
   "execution_count": 353,
   "metadata": {},
   "outputs": [
    {
     "data": {
      "text/plain": [
       "<matplotlib.image.AxesImage at 0x27edbb6c7b8>"
      ]
     },
     "execution_count": 353,
     "metadata": {},
     "output_type": "execute_result"
    },
    {
     "data": {
      "image/png": "[encoded data removed]",
      "text/plain": [
       "<Figure size 432x288 with 1 Axes>"
      ]
     },
     "metadata": {
      "needs_background": "light"
     },
     "output_type": "display_data"
    }
   ],
   "source": [
    "plt.imshow(image2, cmap='gray', vmin=0, vmax=1)"
   ]
  },
  {
   "cell_type": "code",
   "execution_count": 417,
   "metadata": {},
   "outputs": [],
   "source": [
    "def image2coord(image, w):\n",
    "    img = np.array(np.where(image==1))\n",
    "    img[0, :] = w - img[0, :] - 1\n",
    "    img = img[::-1, :]\n",
    "    return img\n",
    "\n",
    "def invariant(img):\n",
    "    res = np.zeros(img.shape, dtype=np.int8)\n",
    "    for i, row in enumerate(img):\n",
    "        res[i, :] = ((2 * (row - img.mean(1)[i])) / (img[i, :].max() - img[i, :].min()))\n",
    "    return res\n",
    "\n",
    "def centralize(img):\n",
    "    res = np.zeros(img.shape, dtype=np.int8)\n",
    "    for i, row in enumerate(img):\n",
    "        res[i, :] = row - img.mean(1)[i]\n",
    "    return res"
   ]
  },
  {
   "cell_type": "code",
   "execution_count": 418,
   "metadata": {},
   "outputs": [
    {
     "name": "stdout",
     "output_type": "stream",
     "text": [
      "[[0 2 1 0 2]\n",
      " [3 3 2 1 1]]\n",
      "[[0 4 1 3 2 1 3 0 4]\n",
      " [4 4 3 3 2 1 1 0 0]]\n"
     ]
    }
   ],
   "source": [
    "img1 = image2coord(image1, h)\n",
    "img2 = image2coord(image2, h)\n",
    "\n",
    "print(img1)\n",
    "print(img2)"
   ]
  },
  {
   "cell_type": "code",
   "execution_count": 419,
   "metadata": {},
   "outputs": [
    {
     "name": "stdout",
     "output_type": "stream",
     "text": [
      "[[-1  1  0 -1  1]\n",
      " [ 1  1  0 -1 -1]]\n",
      "[[-2  2 -1  1  0 -1  1 -2  2]\n",
      " [ 2  2  1  1  0 -1 -1 -2 -2]]\n"
     ]
    }
   ],
   "source": [
    "centroid1 = centralize(img1)\n",
    "centroid2 = centralize(img2)\n",
    "\n",
    "print(centroid1)\n",
    "print(centroid2)"
   ]
  },
  {
   "cell_type": "code",
   "execution_count": 391,
   "metadata": {
    "scrolled": true
   },
   "outputs": [
    {
     "name": "stdout",
     "output_type": "stream",
     "text": [
      "[[-1  1  0 -1  1]\n",
      " [ 1  1  0 -1 -1]]\n",
      "[[-1  1  0  0  0  0  0 -1  1]\n",
      " [ 1  1  0  0  0  0  0 -1 -1]]\n"
     ]
    }
   ],
   "source": [
    "invariant1 = invariant(img1, centroid1)\n",
    "invariant2 = invariant(img2, centroid2)\n",
    "\n",
    "print(invariant1)\n",
    "print(invariant2)"
   ]
  },
  {
   "cell_type": "code",
   "execution_count": 416,
   "metadata": {
    "scrolled": true
   },
   "outputs": [
    {
     "name": "stdout",
     "output_type": "stream",
     "text": [
      "[[-1 -1  0  1  1]\n",
      " [-1  1  0 -1  1]]\n",
      "[[-1 -1  0  1  1]\n",
      " [-1  1  0 -1  1]]\n",
      "\n",
      "[[0 0 1 2 2]\n",
      " [1 3 2 1 3]]\n",
      "[[0 0 1 4 4]\n",
      " [0 4 3 0 4]]\n"
     ]
    }
   ],
   "source": [
    "unique1, indices1 = np.unique(invariant1, axis=1, return_index=True)\n",
    "unique2, indices2 = np.unique(invariant2, axis=1, return_index=True)\n",
    "\n",
    "print(unique1)\n",
    "print(unique2)\n",
    "print()\n",
    "print(img1[:, indices1])\n",
    "print(img2[:, indices2])"
   ]
  },
  {
   "cell_type": "code",
   "execution_count": 393,
   "metadata": {},
   "outputs": [
    {
     "data": {
      "text/plain": [
       "defaultdict(list, {0: [0], 1: [1], 2: [2, 3, 4, 5, 6], 3: [7], 4: [8]})"
      ]
     },
     "execution_count": 393,
     "metadata": {},
     "output_type": "execute_result"
    }
   ],
   "source": [
    "z1 = np.transpose(invariant1)\n",
    "z2 = np.transpose(invariant2)\n",
    "\n",
    "ab = defaultdict(list)\n",
    "\n",
    "for index, check in enumerate(z1):\n",
    "    ab[index].extend([i for i, col in enumerate(z2) if (col == check).all()])\n",
    "ab"
   ]
  },
  {
   "cell_type": "code",
   "execution_count": 394,
   "metadata": {},
   "outputs": [
    {
     "data": {
      "text/plain": [
       "array([[0, 4, 1, 3, 2, 1, 3, 0, 4],\n",
       "       [4, 4, 3, 3, 2, 1, 1, 0, 0]], dtype=int64)"
      ]
     },
     "execution_count": 394,
     "metadata": {},
     "output_type": "execute_result"
    }
   ],
   "source": [
    "img2"
   ]
  },
  {
   "cell_type": "code",
   "execution_count": 408,
   "metadata": {},
   "outputs": [],
   "source": [
    "def optimize(X, Y, li):\n",
    "    def constraint(x):\n",
    "#         print(((X * x[0]) + x[1]), li)\n",
    "        return abs(((X * x[0]) + x[1]) - li).min()\n",
    "\n",
    "    def transform(x):\n",
    "        return ((X * x[0]) + x[1])\n",
    "    \n",
    "    def constraint1(x):\n",
    "        return Y - transform(x)\n",
    "\n",
    "    def objective(x):\n",
    "        return sum([v**2 for v in x])**0.5\n",
    "\n",
    "    def callback(x):\n",
    "        solutions.append(x)\n",
    "\n",
    "    solutions = []\n",
    "    max_guess = 100\n",
    "    n_params = 2\n",
    "\n",
    "    print(X, Y, li)\n",
    "\n",
    "    # initial guesses\n",
    "    # x0=np.random.randint(max_guess, size=total_number_of_options)\n",
    "    x0 = np.full(n_params, max_guess)\n",
    "\n",
    "    # solutions\n",
    "    solutions = [x0]\n",
    "\n",
    "    # show initial objective\n",
    "    print('Initial SSE Objective: {:.4f} at x = {}, transform = {:.4f}, error = {:.4f}'.format(\n",
    "            objective(x0), x0, transform(x0), constraint(x0)\n",
    "        )\n",
    "    )\n",
    "\n",
    "    # the bounds\n",
    "    b = (-max_guess, max_guess)\n",
    "    bnds = tuple(b for _ in range(n_params))\n",
    "    \n",
    "    # define constriants\n",
    "    cons = ([\n",
    "        {'type': 'eq', 'fun': constraint},\n",
    "    ])\n",
    "\n",
    "    solution = minimize(objective, x0, method='SLSQP', bounds=bnds,\n",
    "                        constraints=cons, callback=callback)\n",
    "    x = solution.x\n",
    "\n",
    "    # show final objective\n",
    "    print('Final SSE Objective: {:.4f} at x = {}, transform = {:.4f}, error = {:.4f}'.format(\n",
    "            objective(x), x, transform(x), constraint(x)\n",
    "        ), end='\\n\\n'\n",
    "    )\n"
   ]
  },
  {
   "cell_type": "code",
   "execution_count": 414,
   "metadata": {},
   "outputs": [
    {
     "name": "stdout",
     "output_type": "stream",
     "text": [
      "4 2 [4]\n",
      "Initial SSE Objective: 141.4214 at x = [100 100], transform = 500.0000, error = 496.0000\n",
      "Final SSE Objective: 0.9701 at x = [0.94118144 0.23527423], transform = 4.0000, error = 0.0000\n",
      "\n"
     ]
    }
   ],
   "source": [
    "index = 1\n",
    "X, _ = img2[:, index]\n",
    "Y, _ = img1[:, index]\n",
    "li = np.array([img2[0, i] for i in ab[index]])\n",
    "\n",
    "optimize(X, Y, li)"
   ]
  },
  {
   "cell_type": "code",
   "execution_count": 413,
   "metadata": {},
   "outputs": [
    {
     "name": "stdout",
     "output_type": "stream",
     "text": [
      "4 2 []\n"
     ]
    },
    {
     "ename": "ValueError",
     "evalue": "zero-size array to reduction operation minimum which has no identity",
     "output_type": "error",
     "traceback": [
      "\u001b[1;31m---------------------------------------------------------------------------\u001b[0m",
      "\u001b[1;31mValueError\u001b[0m                                Traceback (most recent call last)",
      "\u001b[1;32m<ipython-input-413-0cc3eecca245>\u001b[0m in \u001b[0;36m<module>\u001b[1;34m\u001b[0m\n\u001b[0;32m      4\u001b[0m \u001b[0mli\u001b[0m \u001b[1;33m=\u001b[0m \u001b[0mnp\u001b[0m\u001b[1;33m.\u001b[0m\u001b[0marray\u001b[0m\u001b[1;33m(\u001b[0m\u001b[1;33m[\u001b[0m\u001b[0mimg2\u001b[0m\u001b[1;33m[\u001b[0m\u001b[1;36m0\u001b[0m\u001b[1;33m,\u001b[0m \u001b[0mi\u001b[0m\u001b[1;33m]\u001b[0m \u001b[1;32mfor\u001b[0m \u001b[0mi\u001b[0m \u001b[1;32min\u001b[0m \u001b[0mab\u001b[0m\u001b[1;33m[\u001b[0m\u001b[0mindex\u001b[0m\u001b[1;33m]\u001b[0m\u001b[1;33m]\u001b[0m\u001b[1;33m)\u001b[0m\u001b[1;33m\u001b[0m\u001b[1;33m\u001b[0m\u001b[0m\n\u001b[0;32m      5\u001b[0m \u001b[1;33m\u001b[0m\u001b[0m\n\u001b[1;32m----> 6\u001b[1;33m \u001b[0moptimize\u001b[0m\u001b[1;33m(\u001b[0m\u001b[0mX\u001b[0m\u001b[1;33m,\u001b[0m \u001b[0mY\u001b[0m\u001b[1;33m,\u001b[0m \u001b[0mli\u001b[0m\u001b[1;33m)\u001b[0m\u001b[1;33m\u001b[0m\u001b[1;33m\u001b[0m\u001b[0m\n\u001b[0m",
      "\u001b[1;32m<ipython-input-408-b4f14e38e2f2>\u001b[0m in \u001b[0;36moptimize\u001b[1;34m(X, Y, li)\u001b[0m\n\u001b[0;32m     31\u001b[0m     \u001b[1;31m# show initial objective\u001b[0m\u001b[1;33m\u001b[0m\u001b[1;33m\u001b[0m\u001b[1;33m\u001b[0m\u001b[0m\n\u001b[0;32m     32\u001b[0m     print('Initial SSE Objective: {:.4f} at x = {}, transform = {:.4f}, error = {:.4f}'.format(\n\u001b[1;32m---> 33\u001b[1;33m             \u001b[0mobjective\u001b[0m\u001b[1;33m(\u001b[0m\u001b[0mx0\u001b[0m\u001b[1;33m)\u001b[0m\u001b[1;33m,\u001b[0m \u001b[0mx0\u001b[0m\u001b[1;33m,\u001b[0m \u001b[0mtransform\u001b[0m\u001b[1;33m(\u001b[0m\u001b[0mx0\u001b[0m\u001b[1;33m)\u001b[0m\u001b[1;33m,\u001b[0m \u001b[0mconstraint\u001b[0m\u001b[1;33m(\u001b[0m\u001b[0mx0\u001b[0m\u001b[1;33m)\u001b[0m\u001b[1;33m\u001b[0m\u001b[1;33m\u001b[0m\u001b[0m\n\u001b[0m\u001b[0;32m     34\u001b[0m         )\n\u001b[0;32m     35\u001b[0m     )\n",
      "\u001b[1;32m<ipython-input-408-b4f14e38e2f2>\u001b[0m in \u001b[0;36mconstraint\u001b[1;34m(x)\u001b[0m\n\u001b[0;32m      2\u001b[0m     \u001b[1;32mdef\u001b[0m \u001b[0mconstraint\u001b[0m\u001b[1;33m(\u001b[0m\u001b[0mx\u001b[0m\u001b[1;33m)\u001b[0m\u001b[1;33m:\u001b[0m\u001b[1;33m\u001b[0m\u001b[1;33m\u001b[0m\u001b[0m\n\u001b[0;32m      3\u001b[0m \u001b[1;31m#         print(((X * x[0]) + x[1]), li)\u001b[0m\u001b[1;33m\u001b[0m\u001b[1;33m\u001b[0m\u001b[1;33m\u001b[0m\u001b[0m\n\u001b[1;32m----> 4\u001b[1;33m         \u001b[1;32mreturn\u001b[0m \u001b[0mabs\u001b[0m\u001b[1;33m(\u001b[0m\u001b[1;33m(\u001b[0m\u001b[1;33m(\u001b[0m\u001b[0mX\u001b[0m \u001b[1;33m*\u001b[0m \u001b[0mx\u001b[0m\u001b[1;33m[\u001b[0m\u001b[1;36m0\u001b[0m\u001b[1;33m]\u001b[0m\u001b[1;33m)\u001b[0m \u001b[1;33m+\u001b[0m \u001b[0mx\u001b[0m\u001b[1;33m[\u001b[0m\u001b[1;36m1\u001b[0m\u001b[1;33m]\u001b[0m\u001b[1;33m)\u001b[0m \u001b[1;33m-\u001b[0m \u001b[0mli\u001b[0m\u001b[1;33m)\u001b[0m\u001b[1;33m.\u001b[0m\u001b[0mmin\u001b[0m\u001b[1;33m(\u001b[0m\u001b[1;33m)\u001b[0m\u001b[1;33m\u001b[0m\u001b[1;33m\u001b[0m\u001b[0m\n\u001b[0m\u001b[0;32m      5\u001b[0m \u001b[1;33m\u001b[0m\u001b[0m\n\u001b[0;32m      6\u001b[0m     \u001b[1;32mdef\u001b[0m \u001b[0mtransform\u001b[0m\u001b[1;33m(\u001b[0m\u001b[0mx\u001b[0m\u001b[1;33m)\u001b[0m\u001b[1;33m:\u001b[0m\u001b[1;33m\u001b[0m\u001b[1;33m\u001b[0m\u001b[0m\n",
      "\u001b[1;32mc:\\program files\\python37\\lib\\site-packages\\numpy\\core\\_methods.py\u001b[0m in \u001b[0;36m_amin\u001b[1;34m(a, axis, out, keepdims, initial)\u001b[0m\n\u001b[0;32m     30\u001b[0m def _amin(a, axis=None, out=None, keepdims=False,\n\u001b[0;32m     31\u001b[0m           initial=_NoValue):\n\u001b[1;32m---> 32\u001b[1;33m     \u001b[1;32mreturn\u001b[0m \u001b[0mumr_minimum\u001b[0m\u001b[1;33m(\u001b[0m\u001b[0ma\u001b[0m\u001b[1;33m,\u001b[0m \u001b[0maxis\u001b[0m\u001b[1;33m,\u001b[0m \u001b[1;32mNone\u001b[0m\u001b[1;33m,\u001b[0m \u001b[0mout\u001b[0m\u001b[1;33m,\u001b[0m \u001b[0mkeepdims\u001b[0m\u001b[1;33m,\u001b[0m \u001b[0minitial\u001b[0m\u001b[1;33m)\u001b[0m\u001b[1;33m\u001b[0m\u001b[1;33m\u001b[0m\u001b[0m\n\u001b[0m\u001b[0;32m     33\u001b[0m \u001b[1;33m\u001b[0m\u001b[0m\n\u001b[0;32m     34\u001b[0m def _sum(a, axis=None, dtype=None, out=None, keepdims=False,\n",
      "\u001b[1;31mValueError\u001b[0m: zero-size array to reduction operation minimum which has no identity"
     ]
    }
   ],
   "source": [
    "index = 1\n",
    "X, _ = img2[:, index]\n",
    "Y, _ = img1[:, index]\n",
    "li = np.array([img2[0, i] for i in ab[index]])\n",
    "\n",
    "optimize(X, Y, li)"
   ]
  },
  {
   "cell_type": "code",
   "execution_count": null,
   "metadata": {},
   "outputs": [],
   "source": []
  }
 ],
 "metadata": {
  "kernelspec": {
   "display_name": "Python 3",
   "language": "python",
   "name": "python3"
  },
  "language_info": {
   "codemirror_mode": {
    "name": "ipython",
    "version": 3
   },
   "file_extension": ".py",
   "mimetype": "text/x-python",
   "name": "python",
   "nbconvert_exporter": "python",
   "pygments_lexer": "ipython3",
   "version": "3.7.2"
  }
 },
 "nbformat": 4,
 "nbformat_minor": 2
}
