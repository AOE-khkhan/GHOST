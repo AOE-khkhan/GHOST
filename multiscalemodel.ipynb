{
 "cells": [
  {
   "cell_type": "code",
   "execution_count": 1,
   "metadata": {},
   "outputs": [],
   "source": [
    "from collections import defaultdict\n",
    "\n",
    "import numpy as np\n",
    "import matplotlib.pyplot as plt\n",
    "from scipy.optimize import minimize\n",
    "\n",
    "import os\n",
    "\n",
    "import cv2\n",
    "from matplotlib import pyplot as plt\n",
    "import numpy as np\n",
    "\n",
    "from utils import load_image, toGrey, index_row_in_array, is_row_in_array, imshow_components"
   ]
  },
  {
   "cell_type": "code",
   "execution_count": 2,
   "metadata": {},
   "outputs": [],
   "source": [
    "h, w = 5, 5\n",
    "size = (h, w)"
   ]
  },
  {
   "cell_type": "code",
   "execution_count": 3,
   "metadata": {},
   "outputs": [],
   "source": [
    "sample_image1 = np.zeros(size, dtype=np.int8)\n",
    "sample_image2 = np.zeros(size, dtype=np.int8)\n",
    "\n",
    "# sample_image1[1::2, 1:4:2] = 1\n",
    "# sample_image1[2, 2] = 1\n",
    "for i in range(w):\n",
    "    sample_image2[i, i] = 1\n",
    "    sample_image2[w-i-1, i] = 1\n",
    "\n",
    "sample_image1 = sample_image2.copy()\n",
    "# sample_image1[0::4, 0::4] = 0"
   ]
  },
  {
   "cell_type": "code",
   "execution_count": 4,
   "metadata": {},
   "outputs": [],
   "source": [
    "sample_image1 = toGrey(load_image('dump/img_3.jpg'))\n",
    "sample_image2 = toGrey(load_image('x.jpg'))"
   ]
  },
  {
   "cell_type": "code",
   "execution_count": 5,
   "metadata": {},
   "outputs": [
    {
     "data": {
      "text/plain": [
       "<matplotlib.image.AxesImage at 0x20948ddb7b8>"
      ]
     },
     "execution_count": 5,
     "metadata": {},
     "output_type": "execute_result"
    },
    {
     "data": {
      "image/png": "[encoded data removed]",
      "text/plain": [
       "<Figure size 432x288 with 1 Axes>"
      ]
     },
     "metadata": {
      "needs_background": "light"
     },
     "output_type": "display_data"
    }
   ],
   "source": [
    "plt.imshow(sample_image1.astype(np.uint8), cmap='gray', vmin=0)"
   ]
  },
  {
   "cell_type": "code",
   "execution_count": 6,
   "metadata": {},
   "outputs": [
    {
     "data": {
      "text/plain": [
       "<matplotlib.image.AxesImage at 0x20948e74be0>"
      ]
     },
     "execution_count": 6,
     "metadata": {},
     "output_type": "execute_result"
    },
    {
     "data": {
      "image/png": "[encoded data removed]",
      "text/plain": [
       "<Figure size 432x288 with 1 Axes>"
      ]
     },
     "metadata": {
      "needs_background": "light"
     },
     "output_type": "display_data"
    }
   ],
   "source": [
    "plt.imshow(sample_image2.astype(np.uint8), cmap='gray', vmin=0)"
   ]
  },
  {
   "cell_type": "code",
   "execution_count": 7,
   "metadata": {},
   "outputs": [],
   "source": [
    "def segment(y):\n",
    "    y_unique = np.unique(y)\n",
    "\n",
    "    cls, cx = [], 0\n",
    "    last_b = -1\n",
    "    for i in y_unique:\n",
    "        m = abs(i - y_unique).flatten()\n",
    "        m = m.mean() - m.std()/2\n",
    "\n",
    "        a = i - m;a = 0 if a < 0 else a\n",
    "        b = i + m;b = 255 if b > 255 else b\n",
    "\n",
    "        img = ((y >= a) & (y <= b)).astype(np.int8)\n",
    "\n",
    "        display = False\n",
    "        if len(cls) == 0:\n",
    "            cls = np.array([img], dtype=np.int8)\n",
    "            last_a, last_b = a, b\n",
    "            display = True\n",
    "\n",
    "        else:\n",
    "            if a > 0.5 * (last_a + last_b) and (not is_row_in_array(img, cls)):\n",
    "                cls = np.concatenate((cls, [img]))\n",
    "                last_a, last_b = a, b\n",
    "                display = True\n",
    "\n",
    "        if display:\n",
    "            imgx = img.copy()\n",
    "            cx+=1\n",
    "\n",
    "            fig=plt.figure(figsize=(10, 10))\n",
    "            w, h, rows, columns = 10, 10, 1, 3\n",
    "\n",
    "            ret, labels = cv2.connectedComponents(img)\n",
    "    #         labeled_img = imshow_components(labels)\n",
    "\n",
    "            li = [0, img, y]#, labeled_img]\n",
    "\n",
    "            print(f'n_classes = {len(cls)}, ret = {ret}')\n",
    "            for k in range(1, columns*rows):\n",
    "                ax = fig.add_subplot(rows, columns, k)\n",
    "                ax.set_title('{}: ({:.2f}-{:.2f}) +/- {:.2f}'.format(np.amax(labels), a, b, m))\n",
    "\n",
    "                if k == 2:\n",
    "                    img1 = li[k]\n",
    "                    plt.imshow(li[k], cmap='gray', vmax=255)\n",
    "\n",
    "                if k == 1:\n",
    "                    img1 = np.zeros(tuple(list(img.shape)+[3]))\n",
    "                    for i in range(3):\n",
    "                        img1[:,:,i] = 255*img\n",
    "                    plt.imshow(li[k], cmap='gray', vmin=0)\n",
    "\n",
    "                    cv2.imwrite('dump/{}-{}.png'.format(len(cls), k), img1)\n",
    "            plt.show()\n",
    "\n",
    "\n",
    "        if cx == -1:\n",
    "            break\n",
    "            \n",
    "    label = 1\n",
    "    pos = np.where(labels == label)\n",
    "    ar1, ar2 = pos\n",
    "\n",
    "    x1, x2 = min(ar1), max(ar1)+1\n",
    "    y1, y2 = min(ar2), max(ar2)+1\n",
    "    return labels[x1:x2, y1:y2]\n"
   ]
  },
  {
   "cell_type": "code",
   "execution_count": 8,
   "metadata": {},
   "outputs": [
    {
     "name": "stdout",
     "output_type": "stream",
     "text": [
      "n_classes = 1, ret = 3\n"
     ]
    },
    {
     "data": {
      "image/png": "[encoded data removed]",
      "text/plain": [
       "<Figure size 720x720 with 2 Axes>"
      ]
     },
     "metadata": {
      "needs_background": "light"
     },
     "output_type": "display_data"
    },
    {
     "name": "stdout",
     "output_type": "stream",
     "text": [
      "n_classes = 2, ret = 14\n"
     ]
    },
    {
     "data": {
      "image/png": "[encoded data removed]",
      "text/plain": [
       "<Figure size 720x720 with 2 Axes>"
      ]
     },
     "metadata": {
      "needs_background": "light"
     },
     "output_type": "display_data"
    },
    {
     "name": "stdout",
     "output_type": "stream",
     "text": [
      "n_classes = 3, ret = 9\n"
     ]
    },
    {
     "data": {
      "image/png": "[encoded data removed]",
      "text/plain": [
       "<Figure size 720x720 with 2 Axes>"
      ]
     },
     "metadata": {
      "needs_background": "light"
     },
     "output_type": "display_data"
    },
    {
     "name": "stdout",
     "output_type": "stream",
     "text": [
      "n_classes = 4, ret = 3\n"
     ]
    },
    {
     "data": {
      "image/png": "[encoded data removed]",
      "text/plain": [
       "<Figure size 720x720 with 2 Axes>"
      ]
     },
     "metadata": {
      "needs_background": "light"
     },
     "output_type": "display_data"
    }
   ],
   "source": [
    "image1 = segment(sample_image1)"
   ]
  },
  {
   "cell_type": "code",
   "execution_count": 9,
   "metadata": {},
   "outputs": [
    {
     "name": "stdout",
     "output_type": "stream",
     "text": [
      "n_classes = 1, ret = 2\n"
     ]
    },
    {
     "data": {
      "image/png": "[encoded data removed]",
      "text/plain": [
       "<Figure size 720x720 with 2 Axes>"
      ]
     },
     "metadata": {
      "needs_background": "light"
     },
     "output_type": "display_data"
    },
    {
     "name": "stdout",
     "output_type": "stream",
     "text": [
      "n_classes = 2, ret = 19\n"
     ]
    },
    {
     "data": {
      "image/png": "[encoded data removed]",
      "text/plain": [
       "<Figure size 720x720 with 2 Axes>"
      ]
     },
     "metadata": {
      "needs_background": "light"
     },
     "output_type": "display_data"
    },
    {
     "name": "stdout",
     "output_type": "stream",
     "text": [
      "n_classes = 3, ret = 17\n"
     ]
    },
    {
     "data": {
      "image/png": "[encoded data removed]",
      "text/plain": [
       "<Figure size 720x720 with 2 Axes>"
      ]
     },
     "metadata": {
      "needs_background": "light"
     },
     "output_type": "display_data"
    },
    {
     "name": "stdout",
     "output_type": "stream",
     "text": [
      "n_classes = 4, ret = 2\n"
     ]
    },
    {
     "data": {
      "image/png": "[encoded data removed]",
      "text/plain": [
       "<Figure size 720x720 with 2 Axes>"
      ]
     },
     "metadata": {
      "needs_background": "light"
     },
     "output_type": "display_data"
    }
   ],
   "source": [
    "image2 = segment(sample_image2)"
   ]
  },
  {
   "cell_type": "code",
   "execution_count": 10,
   "metadata": {
    "scrolled": true
   },
   "outputs": [
    {
     "data": {
      "text/plain": [
       "<matplotlib.image.AxesImage at 0x20949059278>"
      ]
     },
     "execution_count": 10,
     "metadata": {},
     "output_type": "execute_result"
    },
    {
     "data": {
      "image/png": "[encoded data removed]",
      "text/plain": [
       "<Figure size 432x288 with 1 Axes>"
      ]
     },
     "metadata": {
      "needs_background": "light"
     },
     "output_type": "display_data"
    }
   ],
   "source": [
    "plt.imshow(image1, cmap='gray', vmin=0, vmax=1)"
   ]
  },
  {
   "cell_type": "code",
   "execution_count": 11,
   "metadata": {},
   "outputs": [
    {
     "data": {
      "text/plain": [
       "<matplotlib.image.AxesImage at 0x2094921fe10>"
      ]
     },
     "execution_count": 11,
     "metadata": {},
     "output_type": "execute_result"
    },
    {
     "data": {
      "image/png": "[encoded data removed]",
      "text/plain": [
       "<Figure size 432x288 with 1 Axes>"
      ]
     },
     "metadata": {
      "needs_background": "light"
     },
     "output_type": "display_data"
    }
   ],
   "source": [
    "plt.imshow(image2, cmap='gray', vmin=0, vmax=1)"
   ]
  },
  {
   "cell_type": "code",
   "execution_count": 12,
   "metadata": {},
   "outputs": [],
   "source": [
    "def image2coord(image, w):\n",
    "    img = np.array(np.where(image==1))\n",
    "    img[0, :] = w - img[0, :] - 1\n",
    "    img = img[::-1, :]\n",
    "    return img\n",
    "\n",
    "def centralize(img):\n",
    "    res = []\n",
    "    for row in img:\n",
    "        res.append((row - row.mean()) / (row.max() - row.min()))\n",
    "    return np.array(res, dtype=np.float16)"
   ]
  },
  {
   "cell_type": "code",
   "execution_count": 13,
   "metadata": {},
   "outputs": [
    {
     "name": "stdout",
     "output_type": "stream",
     "text": [
      "[[  6   7   8   9   4   5  10  11   3   4  11   2   3  11   1   2  10   1\n",
      "    9   1   8   9   1   6   7   8   1   2   3   4   5   7   6   7   6   5\n",
      "    6   4   5   4   3   2   3   1   2   1   0   0]\n",
      " [  4   4   4   4   3   3   3   3   2   2   2   1   1   1   0   0   0  -1\n",
      "   -1  -2  -2  -2  -3  -3  -3  -3  -4  -4  -4  -4  -4  -4  -5  -5  -6  -7\n",
      "   -7  -8  -8  -9 -10 -11 -11 -12 -12 -13 -14 -15]]\n",
      "[[  5   6   7   8   9  10  11   3   4   5   6   7   8   9  10  11  12   1\n",
      "    2   3   4   5  11  12  13   0   1   2   3  11  12  13  10  11  12  13\n",
      "   10  11  12   9  10  11  12   9  10  11   8   9  10   7   8   9   6   7\n",
      "    8   6   7   5   6   4   5   6   4   5   6   5   6   7   6   7   8   9\n",
      "   10  11  12  13  14  15  16  17  18  19   6   7   8   9  10  11  12  13\n",
      "   14  15]\n",
      " [  4   4   4   4   4   4   4   3   3   3   3   3   3   3   3   3   3   2\n",
      "    2   2   2   2   2   2   2   1   1   1   1   1   1   1   0   0   0   0\n",
      "   -1  -1  -1  -2  -2  -2  -2  -3  -3  -3  -4  -4  -4  -5  -5  -5  -6  -6\n",
      "   -6  -7  -7  -8  -8  -9  -9  -9 -10 -10 -10 -11 -11 -11 -12 -12 -12 -12\n",
      "  -12 -12 -12 -12 -12 -12 -12 -12 -12 -12 -13 -13 -13 -13 -13 -13 -13 -13\n",
      "  -13 -13]]\n"
     ]
    }
   ],
   "source": [
    "img1 = image2coord(image1, h)\n",
    "img2 = image2coord(image2, h)\n",
    "\n",
    "print(img1)\n",
    "print(img2)"
   ]
  },
  {
   "cell_type": "code",
   "execution_count": 14,
   "metadata": {},
   "outputs": [
    {
     "name": "stdout",
     "output_type": "stream",
     "text": [
      "[ 4.875      -3.33333333]\n",
      "[ 8.68478261 -4.36956522]\n"
     ]
    }
   ],
   "source": [
    "centroid1 = img1.mean(1)\n",
    "centroid2 = img2.mean(1)\n",
    "\n",
    "print(centroid1)\n",
    "print(centroid2)"
   ]
  },
  {
   "cell_type": "code",
   "execution_count": 15,
   "metadata": {},
   "outputs": [
    {
     "name": "stdout",
     "output_type": "stream",
     "text": [
      "[[ 0.1023   0.1932   0.2842   0.375   -0.0795   0.01136  0.4658   0.5566\n",
      "  -0.1704  -0.0795   0.5566  -0.2615  -0.1704   0.5566  -0.3523  -0.2615\n",
      "   0.4658  -0.3523   0.375   -0.3523   0.2842   0.375   -0.3523   0.1023\n",
      "   0.1932   0.2842  -0.3523  -0.2615  -0.1704  -0.0795   0.01136  0.1932\n",
      "   0.1023   0.1932   0.1023   0.01136  0.1023  -0.0795   0.01136 -0.0795\n",
      "  -0.1704  -0.2615  -0.1704  -0.3523  -0.2615  -0.3523  -0.443   -0.443  ]\n",
      " [ 0.386    0.386    0.386    0.386    0.3333   0.3333   0.3333   0.3333\n",
      "   0.2808   0.2808   0.2808   0.228    0.228    0.228    0.1754   0.1754\n",
      "   0.1754   0.1228   0.1228   0.0702   0.0702   0.0702   0.01755  0.01755\n",
      "   0.01755  0.01755 -0.0351  -0.0351  -0.0351  -0.0351  -0.0351  -0.0351\n",
      "  -0.0877  -0.0877  -0.1404  -0.193   -0.193   -0.2456  -0.2456  -0.2983\n",
      "  -0.3508  -0.4036  -0.4036  -0.456   -0.456   -0.509   -0.5615  -0.6143 ]]\n",
      "[[-0.194   -0.1414  -0.0887  -0.03604  0.01659  0.0692   0.1218  -0.2993\n",
      "  -0.2466  -0.194   -0.1414  -0.0887  -0.03604  0.01659  0.0692   0.1218\n",
      "   0.1744  -0.4045  -0.3518  -0.2993  -0.2466  -0.194    0.1218   0.1744\n",
      "   0.2272  -0.457   -0.4045  -0.3518  -0.2993   0.1218   0.1744   0.2272\n",
      "   0.0692   0.1218   0.1744   0.2272   0.0692   0.1218   0.1744   0.01659\n",
      "   0.0692   0.1218   0.1744   0.01659  0.0692   0.1218  -0.03604  0.01659\n",
      "   0.0692  -0.0887  -0.03604  0.01659 -0.1414  -0.0887  -0.03604 -0.1414\n",
      "  -0.0887  -0.194   -0.1414  -0.2466  -0.194   -0.1414  -0.2466  -0.194\n",
      "  -0.1414  -0.194   -0.1414  -0.0887  -0.1414  -0.0887  -0.03604  0.01659\n",
      "   0.0692   0.1218   0.1744   0.2272   0.2798   0.3323   0.385    0.4377\n",
      "   0.4902   0.543   -0.1414  -0.0887  -0.03604  0.01659  0.0692   0.1218\n",
      "   0.1744   0.2272   0.2798   0.3323 ]\n",
      " [ 0.4924   0.4924   0.4924   0.4924   0.4924   0.4924   0.4924   0.4336\n",
      "   0.4336   0.4336   0.4336   0.4336   0.4336   0.4336   0.4336   0.4336\n",
      "   0.4336   0.3748   0.3748   0.3748   0.3748   0.3748   0.3748   0.3748\n",
      "   0.3748   0.316    0.316    0.316    0.316    0.316    0.316    0.316\n",
      "   0.257    0.257    0.257    0.257    0.1982   0.1982   0.1982   0.1394\n",
      "   0.1394   0.1394   0.1394   0.08057  0.08057  0.08057  0.02174  0.02174\n",
      "   0.02174 -0.03708 -0.03708 -0.03708 -0.0959  -0.0959  -0.0959  -0.1548\n",
      "  -0.1548  -0.2135  -0.2135  -0.2725  -0.2725  -0.2725  -0.3313  -0.3313\n",
      "  -0.3313  -0.3901  -0.3901  -0.3901  -0.4487  -0.4487  -0.4487  -0.4487\n",
      "  -0.4487  -0.4487  -0.4487  -0.4487  -0.4487  -0.4487  -0.4487  -0.4487\n",
      "  -0.4487  -0.4487  -0.508   -0.508   -0.508   -0.508   -0.508   -0.508\n",
      "  -0.508   -0.508   -0.508   -0.508  ]]\n"
     ]
    }
   ],
   "source": [
    "central1 = centralize(img1)\n",
    "central2 = centralize(img2)\n",
    "\n",
    "print(central1)\n",
    "print(central2)"
   ]
  },
  {
   "cell_type": "code",
   "execution_count": 16,
   "metadata": {},
   "outputs": [],
   "source": [
    "def optimize(X, Y):\n",
    "    def transform(x):\n",
    "        scale = x[0]\n",
    "        weights = np.reshape(x[1:-output_size], (output_size, input_size))\n",
    "        biases = np.reshape(x[-output_size:], (output_size,))\n",
    "        return np.dot(scale * weights, X) + biases\n",
    "    \n",
    "    def constraint(x):\n",
    "        return ((Y - transform(x))**2).mean()\n",
    "    \n",
    "    def unit_weight_constraint(x):\n",
    "        weights = np.reshape(x[1:-output_size], (output_size, input_size))\n",
    "        return int(not (weights[weights != 0] == 1).all())\n",
    "    \n",
    "    def objective(x):\n",
    "        return (np.array(x)**2).mean()\n",
    "\n",
    "    def callback(x):\n",
    "        solutions.append(x)\n",
    "    \n",
    "    # all solutions\n",
    "    solutions = []\n",
    "    \n",
    "    # sizes\n",
    "    input_size, output_size = X.size, Y.size\n",
    "\n",
    "    # the bounds\n",
    "    bnds = tuple(\n",
    "        [(-100, 100)] + #weight scale\n",
    "        [(0, 1) for _ in range((input_size * output_size))] + #weights (bin vector)\n",
    "        [(-1, 1) for _ in range(output_size)] #bias\n",
    "    )\n",
    "    \n",
    "    # define constriants\n",
    "    cons = ([\n",
    "        {'type': 'eq', 'fun': constraint},\n",
    "        {'type': 'eq', 'fun': unit_weight_constraint},\n",
    "\n",
    "    ])\n",
    "    \n",
    "    # initial guesses\n",
    "    # x0=np.random.randint(max_guess, size=total_number_of_options)\n",
    "    x0 = np.full(len(bnds), 3.14)\n",
    "    \n",
    "    print(f'input = {X}\\noutput = {Y}\\n')\n",
    "    # solutions\n",
    "    solutions = [x0]\n",
    "\n",
    "    # show initial objective\n",
    "    print('Initial SSE Objective: {:.10f}\\nx =>\\n{}\\ntransform =>\\n{}\\nerror = {:.4f}\\n'.format(\n",
    "            objective(x0), x0, transform(x0), constraint(x0)\n",
    "        )\n",
    "    )\n",
    "    \n",
    "    solution = minimize(objective, x0, method='SLSQP', bounds=bnds,\n",
    "                        constraints=cons, callback=callback)\n",
    "    x = solution.x\n",
    "\n",
    "    # show final objective\n",
    "    print('Final SSE Objective: {:.10f}\\nx =>\\n{}\\ntransform =>\\n{}\\nerror = {:.4f}\\n'.format(\n",
    "            objective(x), x, transform(x), constraint(x)\n",
    "        ), end='\\n\\n'\n",
    "    )\n"
   ]
  },
  {
   "cell_type": "code",
   "execution_count": 17,
   "metadata": {
    "scrolled": true
   },
   "outputs": [],
   "source": [
    "X1, Y1 = central1\n",
    "X2, Y2 = central2"
   ]
  },
  {
   "cell_type": "code",
   "execution_count": 18,
   "metadata": {},
   "outputs": [
    {
     "data": {
      "text/plain": [
       "(96, 184)"
      ]
     },
     "execution_count": 18,
     "metadata": {},
     "output_type": "execute_result"
    }
   ],
   "source": [
    "s1 = X1.size + Y1.size\n",
    "s2 = X2.size + Y2.size\n",
    "\n",
    "# xX, xY, yX, yY = (X1, X2, Y1, Y2) if s1 > s2 else (X2, X1, Y2, Y1)\n",
    "s1, s2"
   ]
  },
  {
   "cell_type": "code",
   "execution_count": null,
   "metadata": {},
   "outputs": [
    {
     "name": "stdout",
     "output_type": "stream",
     "text": [
      "input = [-0.194   -0.1414  -0.0887  -0.03604  0.01659  0.0692   0.1218  -0.2993\n",
      " -0.2466  -0.194   -0.1414  -0.0887  -0.03604  0.01659  0.0692   0.1218\n",
      "  0.1744  -0.4045  -0.3518  -0.2993  -0.2466  -0.194    0.1218   0.1744\n",
      "  0.2272  -0.457   -0.4045  -0.3518  -0.2993   0.1218   0.1744   0.2272\n",
      "  0.0692   0.1218   0.1744   0.2272   0.0692   0.1218   0.1744   0.01659\n",
      "  0.0692   0.1218   0.1744   0.01659  0.0692   0.1218  -0.03604  0.01659\n",
      "  0.0692  -0.0887  -0.03604  0.01659 -0.1414  -0.0887  -0.03604 -0.1414\n",
      " -0.0887  -0.194   -0.1414  -0.2466  -0.194   -0.1414  -0.2466  -0.194\n",
      " -0.1414  -0.194   -0.1414  -0.0887  -0.1414  -0.0887  -0.03604  0.01659\n",
      "  0.0692   0.1218   0.1744   0.2272   0.2798   0.3323   0.385    0.4377\n",
      "  0.4902   0.543   -0.1414  -0.0887  -0.03604  0.01659  0.0692   0.1218\n",
      "  0.1744   0.2272   0.2798   0.3323 ]\n",
      "output = [ 0.1023   0.1932   0.2842   0.375   -0.0795   0.01136  0.4658   0.5566\n",
      " -0.1704  -0.0795   0.5566  -0.2615  -0.1704   0.5566  -0.3523  -0.2615\n",
      "  0.4658  -0.3523   0.375   -0.3523   0.2842   0.375   -0.3523   0.1023\n",
      "  0.1932   0.2842  -0.3523  -0.2615  -0.1704  -0.0795   0.01136  0.1932\n",
      "  0.1023   0.1932   0.1023   0.01136  0.1023  -0.0795   0.01136 -0.0795\n",
      " -0.1704  -0.2615  -0.1704  -0.3523  -0.2615  -0.3523  -0.443   -0.443  ]\n",
      "\n",
      "Initial SSE Objective: 9.8596000000\n",
      "x =>\n",
      "[3.14 3.14 3.14 ... 3.14 3.14 3.14]\n",
      "transform =>\n",
      "[3.12224742 3.12224742 3.12224742 3.12224742 3.12224742 3.12224742\n",
      " 3.12224742 3.12224742 3.12224742 3.12224742 3.12224742 3.12224742\n",
      " 3.12224742 3.12224742 3.12224742 3.12224742 3.12224742 3.12224742\n",
      " 3.12224742 3.12224742 3.12224742 3.12224742 3.12224742 3.12224742\n",
      " 3.12224742 3.12224742 3.12224742 3.12224742 3.12224742 3.12224742\n",
      " 3.12224742 3.12224742 3.12224742 3.12224742 3.12224742 3.12224742\n",
      " 3.12224742 3.12224742 3.12224742 3.12224742 3.12224742 3.12224742\n",
      " 3.12224742 3.12224742 3.12224742 3.12224742 3.12224742 3.12224742]\n",
      "error = 9.8320\n",
      "\n"
     ]
    }
   ],
   "source": [
    "optimize(X2, X1)"
   ]
  },
  {
   "cell_type": "code",
   "execution_count": null,
   "metadata": {},
   "outputs": [],
   "source": [
    "optimize(Y2, Y1)"
   ]
  },
  {
   "cell_type": "code",
   "execution_count": null,
   "metadata": {},
   "outputs": [],
   "source": []
  },
  {
   "cell_type": "code",
   "execution_count": null,
   "metadata": {},
   "outputs": [],
   "source": []
  }
 ],
 "metadata": {
  "kernelspec": {
   "display_name": "Python 3",
   "language": "python",
   "name": "python3"
  },
  "language_info": {
   "codemirror_mode": {
    "name": "ipython",
    "version": 3
   },
   "file_extension": ".py",
   "mimetype": "text/x-python",
   "name": "python",
   "nbconvert_exporter": "python",
   "pygments_lexer": "ipython3",
   "version": "3.7.2"
  }
 },
 "nbformat": 4,
 "nbformat_minor": 2
}
