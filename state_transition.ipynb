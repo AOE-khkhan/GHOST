{
 "cells": [
  {
   "cell_type": "code",
   "execution_count": 1,
   "metadata": {},
   "outputs": [],
   "source": [
    "%load_ext autoreload\n",
    "%autoreload 2"
   ]
  },
  {
   "cell_type": "code",
   "execution_count": 2,
   "metadata": {},
   "outputs": [],
   "source": [
    "import os\n",
    "\n",
    "import cv2\n",
    "from matplotlib import pyplot as plt\n",
    "import numpy as np\n",
    "\n",
    "from numpy.lib.stride_tricks import as_strided\n",
    "\n",
    "from utils import load_image, toGrey, index_row_in_array, is_row_in_array, imshow_components\n",
    "from collections import defaultdict"
   ]
  },
  {
   "cell_type": "code",
   "execution_count": 3,
   "metadata": {},
   "outputs": [],
   "source": [
    "def getKernels(img, kernel_size):\n",
    "    kx, ky = (kernel_size, kernel_size) if type(kernel_size) == int else kernel_size\n",
    "    sx, sy = img.shape\n",
    "    s1, s2 = img.strides\n",
    "    \n",
    "    return as_strided(\n",
    "        img,\n",
    "        shape=(\n",
    "            sx - kx+1,\n",
    "            sy - ky+1,\n",
    "            kx,\n",
    "            ky\n",
    "        ),\n",
    "        strides=(\n",
    "            s1,\n",
    "            s2,\n",
    "            s1,\n",
    "            s2\n",
    "        ),\n",
    "        writeable=False,\n",
    "    )"
   ]
  },
  {
   "cell_type": "code",
   "execution_count": 334,
   "metadata": {},
   "outputs": [],
   "source": [
    "def discoverSegments(image, kernel_size=7):\n",
    "    kernels = getKernels(image, kernel_size)\n",
    "    \n",
    "    start_classes_discovered = []\n",
    "    classes_discovered = defaultdict(list)\n",
    "\n",
    "    # kernels along the horizntal\n",
    "    for kernelx in kernels:\n",
    "        #kernels along the vertical\n",
    "        for kernel in kernelx:\n",
    "\n",
    "            #the pixels in kernel\n",
    "            kernel_pixels = kernel.flatten()\n",
    "\n",
    "            #the starting pixel\n",
    "            pixel = kernel_pixels.min()\n",
    "\n",
    "            #distribution of kernel pixels\n",
    "            distr = kernel_pixels\n",
    "            \n",
    "            #the barrier to cross\n",
    "            threshold = (distr.mean() + (distr.min() / 2))\n",
    "            \n",
    "            #outlier detection\n",
    "            outlier_check = kernel_pixels > threshold\n",
    "\n",
    "            #if outlier not present, high end class\n",
    "            if not outlier_check.any():\n",
    "                continue\n",
    "            \n",
    "            #get the outliers\n",
    "            high_end = kernel_pixels[outlier_check]\n",
    "\n",
    "            #add lower class to the classes found\n",
    "            classes_discovered[pixel].append(kernel_pixels[~outlier_check].max())\n",
    "            yield pixel, kernel_pixels[~outlier_check].max()\n",
    "            \n",
    "            #add to the classes found\n",
    "            classes_discovered[high_end.min()].append(high_end.max())\n",
    "            yield high_end.min(), high_end.max()"
   ]
  },
  {
   "cell_type": "code",
   "execution_count": 337,
   "metadata": {},
   "outputs": [
    {
     "data": {
      "image/png": "[encoded data removed]",
      "text/plain": [
       "<Figure size 720x720 with 2 Axes>"
      ]
     },
     "metadata": {
      "needs_background": "light"
     },
     "output_type": "display_data"
    }
   ],
   "source": [
    "# img_x = getSegments(image_test)\n",
    "# img_x = getSegments(image_plate, -1, 100)\n",
    "img_x = getSegments(image2)"
   ]
  },
  {
   "cell_type": "code",
   "execution_count": 455,
   "metadata": {},
   "outputs": [],
   "source": [
    "def getSegments(image, stop=-1):\n",
    "    #pick kernel size\n",
    "    kernel_size = min(image.shape)\n",
    "    \n",
    "    # the segments discovered\n",
    "    num_of_segments = 0\n",
    "    \n",
    "    #get the classes\n",
    "    for low, high in discoverSegments(image, kernel_size):\n",
    "        # get the ones in range of low-high class discovered\n",
    "        img = ((image >= low) & (image <= high)).astype(np.int8)\n",
    "            \n",
    "        # get the sub segments in image class\n",
    "        ret, labels = cv2.connectedComponents(img)\n",
    "\n",
    "        # for each sub segment label\n",
    "        for label in range(1, ret):\n",
    "            if image[np.where(labels == label)].std() < 5:\n",
    "                continue\n",
    "        \n",
    "            # get all positions active(i.e equal to 1)\n",
    "            pos = np.where(labels == label)\n",
    "\n",
    "            # all activated pos in image label\n",
    "            ar1, ar2 = pos\n",
    "\n",
    "            x1, x2 = min(ar1), max(ar1)+1\n",
    "            y1, y2 = min(ar2), max(ar2)+1\n",
    "            \n",
    "            if x2-x1 < 3 and y2-y1 < 3:\n",
    "                continue\n",
    "                \n",
    "            # centroid of segment\n",
    "            # point = (ar2.mean(), ar1.mean())\n",
    "            \n",
    "            # null space as -1 instead of 0 to avoid confusion\n",
    "            img_objx = np.full(img.shape, -1, dtype=np.int64)\n",
    "            img_objx[np.where(labels == label)] = image[np.where(labels == label)] #crop segment\n",
    "\n",
    "            # extract segment\n",
    "            img_objx = img_objx[x1:x2, y1:y2]\n",
    "\n",
    "            # x-xsize, y-ysize\n",
    "            xsize, ysize = img_objx.shape\n",
    "\n",
    "            # save image in standard memory size\n",
    "            img_obj = np.full((30, 30), -1, dtype=np.int64)\n",
    "            img_obj[0:xsize, 0:ysize] = img_objx #save in memory standard image\n",
    "            \n",
    "            #update the num of segments\n",
    "            num_of_segments += 1\n",
    "            \n",
    "            yield img_obj\n",
    "            if num_of_segments == stop: break\n",
    "        if num_of_segments == stop: break\n",
    "\n",
    "\n",
    "#             li = [0, img_objx, img]\n",
    "#             fig=plt.figure(figsize=(10, 10))\n",
    "#             for k in range(1, 3):\n",
    "#                 ax = fig.add_subplot(1, 2, k)\n",
    "#                 ax.set_title(f'{label}:{ret-1}, {num_of_segments} seg(s), [{low:.2f} - {high:.2f}] => {high-low:.2f}')\n",
    "\n",
    "#                 if k == 2:\n",
    "#                     plt.imshow(li[k], cmap='gray', vmin=0, vmax=1)\n",
    "\n",
    "#                 if k == 1:\n",
    "#                     plt.imshow(li[k], cmap='gray', vmin=0, vmax=255)\n",
    "\n",
    "#             plt.show()\n",
    "#             if num_of_segments == stop: return img_objx"
   ]
  },
  {
   "cell_type": "code",
   "execution_count": 456,
   "metadata": {},
   "outputs": [],
   "source": [
    "def compare(img_11, img_22):\n",
    "    # get the actual image embedded in negative space\n",
    "    def getSubImage(img):\n",
    "        pos = np.where(img != -1)\n",
    "        ar1, ar2 = pos\n",
    "\n",
    "        x1, x2 = min(ar1), max(ar1)+1\n",
    "        y1, y2 = min(ar2), max(ar2)+1\n",
    "\n",
    "        return img[x1:x2, y1:y2].copy()\n",
    "\n",
    "    # get the sub image of images\n",
    "    img_1 = getSubImage(img_11)\n",
    "    img_2 = getSubImage(img_22)\n",
    "    \n",
    "#     plt.imshow(img_1, cmap='gray', vmin=0, vmax=255)\n",
    "#     print(img_1.shape)\n",
    "#     plt.show()\n",
    "    \n",
    "#     plt.imshow(img_2, cmap='gray', vmin=0, vmax=255)\n",
    "#     print(img_2.shape)\n",
    "#     plt.show()\n",
    "\n",
    "    # get the shape of the images\n",
    "    c11, c12 = img_1.shape\n",
    "    c21, c22 = img_2.shape\n",
    "\n",
    "    # get the min of the x and size\n",
    "    r = c21 if c21 < c11 else c11\n",
    "    c = c22 if c22 < c12 else c12\n",
    "    \n",
    "    # base area of image (scaled down vrsion)\n",
    "    base_area = r * c\n",
    "\n",
    "    # size ratio (quantifies reduction/loss of data)\n",
    "    sr1 = base_area / (img_1.shape[0] * img_1.shape[1])\n",
    "    sr2 = base_area / (img_2.shape[0] * img_2.shape[1])\n",
    "\n",
    "    # the trust factor for scaling down (consequence of scaling down)\n",
    "    scale_weight = sr1*sr2\n",
    "    \n",
    "    img1_before_before = img_1.copy()\n",
    "    img2_before_before = img_2.copy()\n",
    "\n",
    "    # the place holder pixel, using 255 - x cos of background and foreground can blend\n",
    "    r1 = 255 - img_1[img_1 != -1].mean()\n",
    "    img_r1 = None if r1 in img_1 else r1\n",
    "\n",
    "    r2 = 255 - img_2[img_2 != -1].mean()\n",
    "    img_r2 = None if r2 in img_2 else r2\n",
    "\n",
    "    # remove -1 cos of interpolation\n",
    "    if img_r1 is not None:\n",
    "        img_1[img_1 == -1] = img_r1\n",
    "\n",
    "    if img_r2 is not None:\n",
    "        img_2[img_2 == -1] = img_r2\n",
    "\n",
    "    # resize images (scale it down to minimum)\n",
    "    img_1 = cv2.resize(img_1.astype(np.uint8), (c, r), interpolation=cv2.INTER_AREA).astype(np.float64)\n",
    "    img_2 = cv2.resize(img_2.astype(np.uint8), (c, r), interpolation=cv2.INTER_AREA).astype(np.float64)\n",
    "\n",
    "    img1_before = img_1.copy()\n",
    "    img2_before = img_2.copy()\n",
    "\n",
    "    # put back -1 after interpolation\n",
    "    if img_r1 is not None:\n",
    "        img_1[img_1 == int(img_r1)] = -1\n",
    "\n",
    "    if img_r2 is not None:\n",
    "        img_2[img_2 == int(img_r2)] = -1\n",
    "\n",
    "    # find the centroid of image 1 and 2\n",
    "    img_1a, img_1b = np.where(img_1 != -1)\n",
    "    try:\n",
    "        img_1a, img_1b = int(img_1a.mean()), int(img_1b.mean())\n",
    "\n",
    "    except:\n",
    "        print(img_r1, r1)\n",
    "        print(img1_before_before)\n",
    "        print(img1_before)\n",
    "        print(img_1)\n",
    "        return 0\n",
    "\n",
    "    img_2a, img_2b = np.where(img_2 != -1)\n",
    "    try:\n",
    "        img_2a, img_2b = int(img_2a.mean()), int(img_2b.mean())\n",
    "\n",
    "    except:\n",
    "        print(img_r2, r2)\n",
    "        print(img2_before_before)\n",
    "        print(img2_before)\n",
    "        print(img_2)\n",
    "        return 0\n",
    "    \n",
    "#     plt.imshow(img_1, cmap='gray', vmin=0, vmax=255)\n",
    "#     print(img_1.shape)\n",
    "#     plt.show()\n",
    "    \n",
    "#     plt.imshow(img_2, cmap='gray', vmin=0, vmax=255)\n",
    "#     print(img_2.shape)\n",
    "#     plt.show()\n",
    "    \n",
    "    d, f = img_1.shape\n",
    "    g, h = img_2.shape\n",
    "\n",
    "    if img_1a <= img_2a:\n",
    "        img_1x1 = img_2a - img_1a\n",
    "        img_1x2 = img_1x1 + d\n",
    "\n",
    "        img_2x1, img_2x2 = 0, g\n",
    "\n",
    "    else:\n",
    "        img_2x1 = img_1a - img_2a\n",
    "        img_2x2 = img_2x1 + g\n",
    "\n",
    "        img_1x1, img_1x2 = 0, d\n",
    "\n",
    "\n",
    "    if img_1b <= img_2b:\n",
    "        img_1y1 = img_2b - img_1b\n",
    "        img_1y2 = img_1y1 + f\n",
    "\n",
    "        img_2y1, img_2y2 = 0, h\n",
    "\n",
    "    else:\n",
    "        img_2y1 = img_1b - img_2b\n",
    "        img_2y2 = img_2y1 + h\n",
    "\n",
    "        img_1y1, img_1y2 = 0, f\n",
    "\n",
    "    r = max((img_1x2, img_2x2))\n",
    "    c = max((img_1y2, img_2y2))\n",
    "\n",
    "    # the new images\n",
    "    img_n1, img_n2 = np.full((r, c), -1, dtype=np.int64), np.full((r, c), -1, np.int64)\n",
    "\n",
    "    # the new images\n",
    "    img_n1[img_1x1:img_1x2, img_1y1:img_1y2] = img_1\n",
    "    img_n2[img_2x1:img_2x2, img_2y1:img_2y2] = img_2\n",
    "\n",
    "    img_b = img_n1.copy()\n",
    "    img_b[img_n2 == -1] = -1\n",
    "\n",
    "    m = 255 if np.amax(img_n1) > 1 or np.amax(img_n2) > 1 else 1\n",
    "    m = 255\n",
    "\n",
    "    img_n1[img_n1 == -1] = 255 - img_n2[img_n2 != -1].mean()\n",
    "    img_b[img_b == -1] = 255 - img_n2[img_n2 != -1].mean()\n",
    "    img_n2[img_n2 == -1] = 255 - img_n1[img_n1 != -1].mean()\n",
    "\n",
    "    z1 = (m - abs(img_b - img_n2).mean()) / m\n",
    "    z2 = (m - abs(img_b - img_n1).mean()) / m\n",
    "    z3 = (m - abs(img_n2 - img_n1).mean()) / m\n",
    "    \n",
    "    z = scale_weight * (z1 + z2 + z3) / 3\n",
    "    \n",
    "#     delta = abs(img_n2 - img_n1)\n",
    "    \n",
    "#     delta1 = delta.copy()\n",
    "#     delta1[img_n1 == -1] = 255\n",
    "#     z1 = (255 - delta1.mean()) / 255\n",
    "    \n",
    "#     delta2 = delta.copy()\n",
    "#     delta2[img_n2 == -1] = 255\n",
    "#     z2 = (255 - delta2.mean()) / 255\n",
    "    \n",
    "#     delta3 = delta.copy()\n",
    "#     delta3[img_n1 == -1] = 255\n",
    "#     delta3[img_n2 == -1] = 255\n",
    "#     z3 = (255 - delta3.mean()) / 255\n",
    "    \n",
    "#     z = scale_weight * z1 * z2 * z3\n",
    "#     z = scale_weight * ((.25 * z1) + (.25 * z2) + (.5 * z3))\n",
    "\n",
    "#     li = [None, img1_before_before, img2_before_before]\n",
    "#     fig=plt.figure(figsize=(10, 10))\n",
    "#     for k in range(1, 3):\n",
    "#         ax = fig.add_subplot(1, 2, k)\n",
    "#         ax.set_title(f'similarity {z:.4f}')\n",
    "\n",
    "#         plt.imshow(li[k], cmap='gray', vmin=0, vmax=255)\n",
    "\n",
    "#     plt.show()\n",
    "    \n",
    "    return z1, z2, z3, z"
   ]
  },
  {
   "cell_type": "code",
   "execution_count": 627,
   "metadata": {},
   "outputs": [],
   "source": [
    "def compare(img_11, img_22):\n",
    "    def centralize(img_coordinates):\n",
    "        return np.array([row - row.mean() for row in img_coordinates], dtype=np.float64)\n",
    "\n",
    "    # get the actual image embedded in negative space\n",
    "    def getSubImage(img):\n",
    "        pos = np.where(img != -1)\n",
    "        ar1, ar2 = pos\n",
    "\n",
    "        x1, x2 = min(ar1), max(ar1)+1\n",
    "        y1, y2 = min(ar2), max(ar2)+1\n",
    "\n",
    "        return img[x1:x2, y1:y2].copy()\n",
    "\n",
    "    # get the sub image of images\n",
    "    img_1 = getSubImage(img_11)\n",
    "    img_2 = getSubImage(img_22)\n",
    "\n",
    "    # get the shape of the images\n",
    "    c11, c12 = img_1.shape\n",
    "    c21, c22 = img_2.shape\n",
    "\n",
    "    # get the min of the x and size\n",
    "    r = c21 if c21 < c11 else c11\n",
    "    c = c22 if c22 < c12 else c12\n",
    "    \n",
    "    # base area of image (scaled down vrsion)\n",
    "    base_area = len(np.where(img_1 != -1)[0]) * len(np.where(img_2 != -1)[0])\n",
    "    \n",
    "    img1_before_before = img_1.copy()\n",
    "    img2_before_before = img_2.copy()\n",
    "\n",
    "    # the place holder pixel, using 255 - x cos of background and foreground can blend\n",
    "    r1 = 255 - img_1[img_1 != -1].mean()\n",
    "    img_r1 = None if r1 in img_1 else r1\n",
    "\n",
    "    r2 = 255 - img_2[img_2 != -1].mean()\n",
    "    img_r2 = None if r2 in img_2 else r2\n",
    "\n",
    "    # remove -1 cos of interpolation\n",
    "    if img_r1 is not None:\n",
    "        img_1[img_1 == -1] = img_r1\n",
    "\n",
    "    if img_r2 is not None:\n",
    "        img_2[img_2 == -1] = img_r2\n",
    "\n",
    "    # resize images (scale it down to minimum)\n",
    "    img_1 = cv2.resize(img_1.astype(np.uint8), (c, r), interpolation=cv2.INTER_AREA).astype(np.float64)\n",
    "    img_2 = cv2.resize(img_2.astype(np.uint8), (c, r), interpolation=cv2.INTER_AREA).astype(np.float64)\n",
    "\n",
    "    img1_before = img_1.copy()\n",
    "    img2_before = img_2.copy()\n",
    "\n",
    "    # put back -1 after interpolation\n",
    "    if img_r1 is not None:\n",
    "        img_1[img_1 == int(img_r1)] = -1\n",
    "\n",
    "    if img_r2 is not None:\n",
    "        img_2[img_2 == int(img_r2)] = -1\n",
    "    \n",
    "    # size ratio (quantifies reduction/loss of data)\n",
    "    scale_weight = 1 - (abs(base_area - (len(np.where(img_1 != -1)[0]) * len(np.where(img_2 != -1)[0]))) / base_area)\n",
    "    \n",
    "    # find the coordinates of image 1 and 2 with center as centroid\n",
    "    image_1_coordinates = np.array(np.where(img_1 != -1)).T\n",
    "    image_2_coordinates = np.array(np.where(img_2 != -1)).T\n",
    "    \n",
    "    coord1, coord2 = (centralize(image_1_coordinates), centralize(image_2_coordinates))\n",
    "    \n",
    "    if len(image_1_coordinates) > len(image_2_coordinates):\n",
    "        coord1, coord2 = coord2, coord1\n",
    "        image_1_coordinates, image_2_coordinates = image_2_coordinates, image_1_coordinates\\\n",
    "        \n",
    "    error1, error2, error3 = [], [], []\n",
    "    MAX = 28\n",
    "    \n",
    "    for index, coord in enumerate(coord1):\n",
    "        \n",
    "        #position difference\n",
    "        diff = abs(coord - coord2).sum(1)\n",
    "        \n",
    "        #pixel difference\n",
    "        x1, y1 = image_1_coordinates[index]\n",
    "        x2, y2 = image_2_coordinates[diff.argmin()]\n",
    "        color_dev = abs(img_1[x1, y1] - img_2[x2, y2]) / 255\n",
    "        \n",
    "        #the diff in position (and pixel)\n",
    "        coord2[diff.argmin()] = MAX**2\n",
    "        position_dev = diff.min() / MAX\n",
    "        \n",
    "        #teh error from position and color\n",
    "        error1.append((color_dev + position_dev) / 2)\n",
    "    \n",
    "    unmatched = coord2[coord2 < MAX**2]\n",
    "    \n",
    "    error1 = np.array(error1).mean()\n",
    "    error2 = ((abs(unmatched / MAX) + 1) / 2).mean() if len(unmatched) else 0\n",
    "    \n",
    "    error = (error1 + error2) / 2\n",
    "    similarity = scale_weight * (1 - error)\n",
    "    \n",
    "#     li = [None, img_1, img_2]\n",
    "#     li = [None, img1_before_before, img2_before_before]\n",
    "#     fig=plt.figure(figsize=(10, 10))\n",
    "#     for k in range(1, 3):\n",
    "#         ax = fig.add_subplot(1, 2, k)\n",
    "#         ax.set_title(f'similarity {similarity:.4f}')\n",
    "\n",
    "#         plt.imshow(li[k], cmap='gray', vmin=0, vmax=255)\n",
    "\n",
    "#     plt.show()\n",
    "    \n",
    "    return f\"sim: {similarity:.4f}, error => {error1:.4f} {error2:.4f}: {error:.4f}, scale = {scale_weight:.4f}\""
   ]
  },
  {
   "cell_type": "code",
   "execution_count": 628,
   "metadata": {},
   "outputs": [
    {
     "name": "stdout",
     "output_type": "stream",
     "text": [
      "1 <==> 9 = sim: 0.4801, error => 0.2947 0.5929: 0.4438, scale = 0.8632\n",
      "1 <==> 9 = sim: 0.0491, error => 0.0601 0.5089: 0.2845, scale = 0.0686\n",
      "\n",
      "1 <==> 7 = sim: 0.4736, error => 0.2288 0.5842: 0.4065, scale = 0.7980\n",
      "\n",
      "1 <==> 9 = sim: 0.1754, error => 0.2581 0.5079: 0.3830, scale = 0.2843\n",
      "1 <==> 9 = sim: 0.3450, error => 0.2599 0.6125: 0.4362, scale = 0.6119\n",
      "\n",
      "1 <==> 1 = sim: 1.0000, error => 0.0000 0.0000: 0.0000, scale = 1.0000\n",
      "\n",
      "1 <==> 1 = sim: 0.5431, error => 0.1203 0.6062: 0.3633, scale = 0.8529\n",
      "\n",
      "1 <==> 3 = sim: 0.1332, error => 0.3073 0.5665: 0.4369, scale = 0.2365\n",
      "1 <==> 3 = sim: 0.3161, error => 0.2922 0.6014: 0.4468, scale = 0.5714\n",
      "\n"
     ]
    }
   ],
   "source": [
    "j = 4\n",
    "img_x = list(getSegments(image4))\n",
    "\n",
    "for x in img_x:\n",
    "    for i, imagex in enumerate([image1, image2, image3, image4, image5, image6]):\n",
    "        img_y = list(getSegments(imagex))\n",
    "        for y in img_y:\n",
    "            print(f\"{nums[j-1]} <==> {nums[i]} = {compare(x, y)}\")\n",
    "        print()\n"
   ]
  },
  {
   "cell_type": "code",
   "execution_count": 511,
   "metadata": {},
   "outputs": [],
   "source": [
    "nums = [9, 7, 9, 1, 1, 3]\n",
    "\n",
    "image1 = toGrey(load_image('dump/old_test/img_3.jpg'))\n",
    "image2 = toGrey(load_image('dump/old_test/img_12.jpg'))\n",
    "image3 = toGrey(load_image('dump/old_test/9.jpg'))\n",
    "image4 = toGrey(load_image('dump/old_test/img_229.jpg'))\n",
    "image5 = toGrey(load_image('dump/old_test/img_217.jpg'))\n",
    "image6 = toGrey(load_image('dump/old_test/img_215.jpg'))\n",
    "# image_plate = toGrey(load_image('dump/plate.png'))\n",
    "image_test = toGrey(load_image('dump/WIN_20190829_16_17_54_Pro.jpg'))"
   ]
  },
  {
   "cell_type": "code",
   "execution_count": 168,
   "metadata": {
    "scrolled": true
   },
   "outputs": [
    {
     "data": {
      "text/plain": [
       "<matplotlib.image.AxesImage at 0x1d29a184dd8>"
      ]
     },
     "execution_count": 168,
     "metadata": {},
     "output_type": "execute_result"
    },
    {
     "data": {
      "image/png": "[encoded data removed]",
      "text/plain": [
       "<Figure size 432x288 with 1 Axes>"
      ]
     },
     "metadata": {
      "needs_background": "light"
     },
     "output_type": "display_data"
    }
   ],
   "source": [
    "plt.imshow(image1.astype(np.uint8), cmap='gray', vmin=0)"
   ]
  },
  {
   "cell_type": "code",
   "execution_count": 169,
   "metadata": {
    "scrolled": true
   },
   "outputs": [
    {
     "data": {
      "text/plain": [
       "<matplotlib.image.AxesImage at 0x1d29a77e978>"
      ]
     },
     "execution_count": 169,
     "metadata": {},
     "output_type": "execute_result"
    },
    {
     "data": {
      "image/png": "[encoded data removed]",
      "text/plain": [
       "<Figure size 432x288 with 1 Axes>"
      ]
     },
     "metadata": {
      "needs_background": "light"
     },
     "output_type": "display_data"
    }
   ],
   "source": [
    "plt.imshow(image2.astype(np.uint8), cmap='gray', vmin=0)"
   ]
  },
  {
   "cell_type": "code",
   "execution_count": 170,
   "metadata": {
    "scrolled": true
   },
   "outputs": [
    {
     "data": {
      "text/plain": [
       "<matplotlib.image.AxesImage at 0x1d299ee07b8>"
      ]
     },
     "execution_count": 170,
     "metadata": {},
     "output_type": "execute_result"
    },
    {
     "data": {
      "image/png": "[encoded data removed]",
      "text/plain": [
       "<Figure size 432x288 with 1 Axes>"
      ]
     },
     "metadata": {
      "needs_background": "light"
     },
     "output_type": "display_data"
    }
   ],
   "source": [
    "plt.imshow(image3.astype(np.uint8), cmap='gray', vmin=0)"
   ]
  },
  {
   "cell_type": "code",
   "execution_count": 171,
   "metadata": {
    "scrolled": true
   },
   "outputs": [
    {
     "data": {
      "text/plain": [
       "<matplotlib.image.AxesImage at 0x1d29a562a58>"
      ]
     },
     "execution_count": 171,
     "metadata": {},
     "output_type": "execute_result"
    },
    {
     "data": {
      "image/png": "[encoded data removed]",
      "text/plain": [
       "<Figure size 432x288 with 1 Axes>"
      ]
     },
     "metadata": {
      "needs_background": "light"
     },
     "output_type": "display_data"
    }
   ],
   "source": [
    "plt.imshow(image4.astype(np.uint8), cmap='gray', vmin=0)"
   ]
  },
  {
   "cell_type": "code",
   "execution_count": 172,
   "metadata": {
    "scrolled": true
   },
   "outputs": [
    {
     "data": {
      "text/plain": [
       "<matplotlib.image.AxesImage at 0x1d298a1f048>"
      ]
     },
     "execution_count": 172,
     "metadata": {},
     "output_type": "execute_result"
    },
    {
     "data": {
      "image/png": "[encoded data removed]",
      "text/plain": [
       "<Figure size 432x288 with 1 Axes>"
      ]
     },
     "metadata": {
      "needs_background": "light"
     },
     "output_type": "display_data"
    }
   ],
   "source": [
    "plt.imshow(image5.astype(np.uint8), cmap='gray', vmin=0)"
   ]
  },
  {
   "cell_type": "code",
   "execution_count": 173,
   "metadata": {
    "scrolled": false
   },
   "outputs": [
    {
     "data": {
      "text/plain": [
       "<matplotlib.image.AxesImage at 0x1d29898cf28>"
      ]
     },
     "execution_count": 173,
     "metadata": {},
     "output_type": "execute_result"
    },
    {
     "data": {
      "image/png": "[encoded data removed]",
      "text/plain": [
       "<Figure size 432x288 with 1 Axes>"
      ]
     },
     "metadata": {
      "needs_background": "light"
     },
     "output_type": "display_data"
    }
   ],
   "source": [
    "plt.imshow(image6.astype(np.uint8), cmap='gray', vmin=0)"
   ]
  },
  {
   "cell_type": "code",
   "execution_count": 347,
   "metadata": {},
   "outputs": [
    {
     "data": {
      "image/png": "[encoded data removed]",
      "text/plain": [
       "<Figure size 720x720 with 2 Axes>"
      ]
     },
     "metadata": {
      "needs_background": "light"
     },
     "output_type": "display_data"
    },
    {
     "data": {
      "image/png": "[encoded data removed]",
      "text/plain": [
       "<Figure size 720x720 with 2 Axes>"
      ]
     },
     "metadata": {
      "needs_background": "light"
     },
     "output_type": "display_data"
    }
   ],
   "source": [
    "img_1x = getSegments(image1, 20)"
   ]
  },
  {
   "cell_type": "code",
   "execution_count": 339,
   "metadata": {},
   "outputs": [
    {
     "data": {
      "image/png": "[encoded data removed]",
      "text/plain": [
       "<Figure size 720x720 with 2 Axes>"
      ]
     },
     "metadata": {
      "needs_background": "light"
     },
     "output_type": "display_data"
    }
   ],
   "source": [
    "img_2x = getSegments(image2, 34)"
   ]
  },
  {
   "cell_type": "code",
   "execution_count": 340,
   "metadata": {},
   "outputs": [
    {
     "data": {
      "image/png": "[encoded data removed]",
      "text/plain": [
       "<Figure size 720x720 with 2 Axes>"
      ]
     },
     "metadata": {
      "needs_background": "light"
     },
     "output_type": "display_data"
    },
    {
     "data": {
      "image/png": "[encoded data removed]",
      "text/plain": [
       "<Figure size 720x720 with 2 Axes>"
      ]
     },
     "metadata": {
      "needs_background": "light"
     },
     "output_type": "display_data"
    }
   ],
   "source": [
    "img_3x = getSegments(image3, 49)"
   ]
  },
  {
   "cell_type": "code",
   "execution_count": 341,
   "metadata": {},
   "outputs": [
    {
     "data": {
      "image/png": "[encoded data removed]",
      "text/plain": [
       "<Figure size 720x720 with 2 Axes>"
      ]
     },
     "metadata": {
      "needs_background": "light"
     },
     "output_type": "display_data"
    }
   ],
   "source": [
    "img_4x = getSegments(image4)"
   ]
  },
  {
   "cell_type": "code",
   "execution_count": 342,
   "metadata": {},
   "outputs": [
    {
     "data": {
      "image/png": "[encoded data removed]",
      "text/plain": [
       "<Figure size 720x720 with 2 Axes>"
      ]
     },
     "metadata": {
      "needs_background": "light"
     },
     "output_type": "display_data"
    }
   ],
   "source": [
    "img_5x = getSegments(image5)"
   ]
  },
  {
   "cell_type": "code",
   "execution_count": 343,
   "metadata": {},
   "outputs": [
    {
     "data": {
      "image/png": "[encoded data removed]",
      "text/plain": [
       "<Figure size 720x720 with 2 Axes>"
      ]
     },
     "metadata": {
      "needs_background": "light"
     },
     "output_type": "display_data"
    },
    {
     "data": {
      "image/png": "[encoded data removed]",
      "text/plain": [
       "<Figure size 720x720 with 2 Axes>"
      ]
     },
     "metadata": {
      "needs_background": "light"
     },
     "output_type": "display_data"
    }
   ],
   "source": [
    "img_6x = getSegments(image6, 42)"
   ]
  },
  {
   "cell_type": "code",
   "execution_count": 344,
   "metadata": {},
   "outputs": [
    {
     "ename": "AttributeError",
     "evalue": "'NoneType' object has no attribute 'shape'",
     "output_type": "error",
     "traceback": [
      "\u001b[1;31m---------------------------------------------------------------------------\u001b[0m",
      "\u001b[1;31mAttributeError\u001b[0m                            Traceback (most recent call last)",
      "\u001b[1;32m<ipython-input-344-6de179bdf4c9>\u001b[0m in \u001b[0;36m<module>\u001b[1;34m\u001b[0m\n\u001b[1;32m----> 1\u001b[1;33m \u001b[0mimg_1x\u001b[0m\u001b[1;33m.\u001b[0m\u001b[0mshape\u001b[0m\u001b[1;33m,\u001b[0m \u001b[0mimg_2x\u001b[0m\u001b[1;33m.\u001b[0m\u001b[0mshape\u001b[0m\u001b[1;33m,\u001b[0m \u001b[0mimg_3x\u001b[0m\u001b[1;33m.\u001b[0m\u001b[0mshape\u001b[0m\u001b[1;33m,\u001b[0m \u001b[0mimg_4x\u001b[0m\u001b[1;33m.\u001b[0m\u001b[0mshape\u001b[0m\u001b[1;33m,\u001b[0m \u001b[0mimg_5x\u001b[0m\u001b[1;33m.\u001b[0m\u001b[0mshape\u001b[0m\u001b[1;33m,\u001b[0m \u001b[0mimg_6x\u001b[0m\u001b[1;33m.\u001b[0m\u001b[0mshape\u001b[0m\u001b[1;33m\u001b[0m\u001b[1;33m\u001b[0m\u001b[0m\n\u001b[0m",
      "\u001b[1;31mAttributeError\u001b[0m: 'NoneType' object has no attribute 'shape'"
     ]
    }
   ],
   "source": [
    "img_1x.shape, img_2x.shape, img_3x.shape, img_4x.shape, img_5x.shape, img_6x.shape"
   ]
  },
  {
   "cell_type": "code",
   "execution_count": 345,
   "metadata": {
    "scrolled": true
   },
   "outputs": [
    {
     "ename": "TypeError",
     "evalue": "Image data of dtype object cannot be converted to float",
     "output_type": "error",
     "traceback": [
      "\u001b[1;31m---------------------------------------------------------------------------\u001b[0m",
      "\u001b[1;31mTypeError\u001b[0m                                 Traceback (most recent call last)",
      "\u001b[1;32m<ipython-input-345-f073fb1c8038>\u001b[0m in \u001b[0;36m<module>\u001b[1;34m\u001b[0m\n\u001b[1;32m----> 1\u001b[1;33m \u001b[0mplt\u001b[0m\u001b[1;33m.\u001b[0m\u001b[0mimshow\u001b[0m\u001b[1;33m(\u001b[0m\u001b[0mimg_1x\u001b[0m\u001b[1;33m,\u001b[0m \u001b[0mcmap\u001b[0m\u001b[1;33m=\u001b[0m\u001b[1;34m'gray'\u001b[0m\u001b[1;33m,\u001b[0m \u001b[0mvmin\u001b[0m\u001b[1;33m=\u001b[0m\u001b[1;36m0\u001b[0m\u001b[1;33m,\u001b[0m \u001b[0mvmax\u001b[0m\u001b[1;33m=\u001b[0m\u001b[1;36m255\u001b[0m\u001b[1;33m)\u001b[0m\u001b[1;33m\u001b[0m\u001b[1;33m\u001b[0m\u001b[0m\n\u001b[0m",
      "\u001b[1;32m~\\AppData\\Roaming\\Python\\Python37\\site-packages\\matplotlib\\pyplot.py\u001b[0m in \u001b[0;36mimshow\u001b[1;34m(X, cmap, norm, aspect, interpolation, alpha, vmin, vmax, origin, extent, shape, filternorm, filterrad, imlim, resample, url, data, **kwargs)\u001b[0m\n\u001b[0;32m   2675\u001b[0m         \u001b[0mfilternorm\u001b[0m\u001b[1;33m=\u001b[0m\u001b[0mfilternorm\u001b[0m\u001b[1;33m,\u001b[0m \u001b[0mfilterrad\u001b[0m\u001b[1;33m=\u001b[0m\u001b[0mfilterrad\u001b[0m\u001b[1;33m,\u001b[0m \u001b[0mimlim\u001b[0m\u001b[1;33m=\u001b[0m\u001b[0mimlim\u001b[0m\u001b[1;33m,\u001b[0m\u001b[1;33m\u001b[0m\u001b[1;33m\u001b[0m\u001b[0m\n\u001b[0;32m   2676\u001b[0m         resample=resample, url=url, **({\"data\": data} if data is not\n\u001b[1;32m-> 2677\u001b[1;33m         None else {}), **kwargs)\n\u001b[0m\u001b[0;32m   2678\u001b[0m     \u001b[0msci\u001b[0m\u001b[1;33m(\u001b[0m\u001b[0m__ret\u001b[0m\u001b[1;33m)\u001b[0m\u001b[1;33m\u001b[0m\u001b[1;33m\u001b[0m\u001b[0m\n\u001b[0;32m   2679\u001b[0m     \u001b[1;32mreturn\u001b[0m \u001b[0m__ret\u001b[0m\u001b[1;33m\u001b[0m\u001b[1;33m\u001b[0m\u001b[0m\n",
      "\u001b[1;32m~\\AppData\\Roaming\\Python\\Python37\\site-packages\\matplotlib\\__init__.py\u001b[0m in \u001b[0;36minner\u001b[1;34m(ax, data, *args, **kwargs)\u001b[0m\n\u001b[0;32m   1597\u001b[0m     \u001b[1;32mdef\u001b[0m \u001b[0minner\u001b[0m\u001b[1;33m(\u001b[0m\u001b[0max\u001b[0m\u001b[1;33m,\u001b[0m \u001b[1;33m*\u001b[0m\u001b[0margs\u001b[0m\u001b[1;33m,\u001b[0m \u001b[0mdata\u001b[0m\u001b[1;33m=\u001b[0m\u001b[1;32mNone\u001b[0m\u001b[1;33m,\u001b[0m \u001b[1;33m**\u001b[0m\u001b[0mkwargs\u001b[0m\u001b[1;33m)\u001b[0m\u001b[1;33m:\u001b[0m\u001b[1;33m\u001b[0m\u001b[1;33m\u001b[0m\u001b[0m\n\u001b[0;32m   1598\u001b[0m         \u001b[1;32mif\u001b[0m \u001b[0mdata\u001b[0m \u001b[1;32mis\u001b[0m \u001b[1;32mNone\u001b[0m\u001b[1;33m:\u001b[0m\u001b[1;33m\u001b[0m\u001b[1;33m\u001b[0m\u001b[0m\n\u001b[1;32m-> 1599\u001b[1;33m             \u001b[1;32mreturn\u001b[0m \u001b[0mfunc\u001b[0m\u001b[1;33m(\u001b[0m\u001b[0max\u001b[0m\u001b[1;33m,\u001b[0m \u001b[1;33m*\u001b[0m\u001b[0mmap\u001b[0m\u001b[1;33m(\u001b[0m\u001b[0msanitize_sequence\u001b[0m\u001b[1;33m,\u001b[0m \u001b[0margs\u001b[0m\u001b[1;33m)\u001b[0m\u001b[1;33m,\u001b[0m \u001b[1;33m**\u001b[0m\u001b[0mkwargs\u001b[0m\u001b[1;33m)\u001b[0m\u001b[1;33m\u001b[0m\u001b[1;33m\u001b[0m\u001b[0m\n\u001b[0m\u001b[0;32m   1600\u001b[0m \u001b[1;33m\u001b[0m\u001b[0m\n\u001b[0;32m   1601\u001b[0m         \u001b[0mbound\u001b[0m \u001b[1;33m=\u001b[0m \u001b[0mnew_sig\u001b[0m\u001b[1;33m.\u001b[0m\u001b[0mbind\u001b[0m\u001b[1;33m(\u001b[0m\u001b[0max\u001b[0m\u001b[1;33m,\u001b[0m \u001b[1;33m*\u001b[0m\u001b[0margs\u001b[0m\u001b[1;33m,\u001b[0m \u001b[1;33m**\u001b[0m\u001b[0mkwargs\u001b[0m\u001b[1;33m)\u001b[0m\u001b[1;33m\u001b[0m\u001b[1;33m\u001b[0m\u001b[0m\n",
      "\u001b[1;32m~\\AppData\\Roaming\\Python\\Python37\\site-packages\\matplotlib\\cbook\\deprecation.py\u001b[0m in \u001b[0;36mwrapper\u001b[1;34m(*args, **kwargs)\u001b[0m\n\u001b[0;32m    367\u001b[0m                 \u001b[1;34mf\"%(removal)s.  If any parameter follows {name!r}, they \"\u001b[0m\u001b[1;33m\u001b[0m\u001b[1;33m\u001b[0m\u001b[0m\n\u001b[0;32m    368\u001b[0m                 f\"should be pass as keyword, not positionally.\")\n\u001b[1;32m--> 369\u001b[1;33m         \u001b[1;32mreturn\u001b[0m \u001b[0mfunc\u001b[0m\u001b[1;33m(\u001b[0m\u001b[1;33m*\u001b[0m\u001b[0margs\u001b[0m\u001b[1;33m,\u001b[0m \u001b[1;33m**\u001b[0m\u001b[0mkwargs\u001b[0m\u001b[1;33m)\u001b[0m\u001b[1;33m\u001b[0m\u001b[1;33m\u001b[0m\u001b[0m\n\u001b[0m\u001b[0;32m    370\u001b[0m \u001b[1;33m\u001b[0m\u001b[0m\n\u001b[0;32m    371\u001b[0m     \u001b[1;32mreturn\u001b[0m \u001b[0mwrapper\u001b[0m\u001b[1;33m\u001b[0m\u001b[1;33m\u001b[0m\u001b[0m\n",
      "\u001b[1;32m~\\AppData\\Roaming\\Python\\Python37\\site-packages\\matplotlib\\cbook\\deprecation.py\u001b[0m in \u001b[0;36mwrapper\u001b[1;34m(*args, **kwargs)\u001b[0m\n\u001b[0;32m    367\u001b[0m                 \u001b[1;34mf\"%(removal)s.  If any parameter follows {name!r}, they \"\u001b[0m\u001b[1;33m\u001b[0m\u001b[1;33m\u001b[0m\u001b[0m\n\u001b[0;32m    368\u001b[0m                 f\"should be pass as keyword, not positionally.\")\n\u001b[1;32m--> 369\u001b[1;33m         \u001b[1;32mreturn\u001b[0m \u001b[0mfunc\u001b[0m\u001b[1;33m(\u001b[0m\u001b[1;33m*\u001b[0m\u001b[0margs\u001b[0m\u001b[1;33m,\u001b[0m \u001b[1;33m**\u001b[0m\u001b[0mkwargs\u001b[0m\u001b[1;33m)\u001b[0m\u001b[1;33m\u001b[0m\u001b[1;33m\u001b[0m\u001b[0m\n\u001b[0m\u001b[0;32m    370\u001b[0m \u001b[1;33m\u001b[0m\u001b[0m\n\u001b[0;32m    371\u001b[0m     \u001b[1;32mreturn\u001b[0m \u001b[0mwrapper\u001b[0m\u001b[1;33m\u001b[0m\u001b[1;33m\u001b[0m\u001b[0m\n",
      "\u001b[1;32m~\\AppData\\Roaming\\Python\\Python37\\site-packages\\matplotlib\\axes\\_axes.py\u001b[0m in \u001b[0;36mimshow\u001b[1;34m(self, X, cmap, norm, aspect, interpolation, alpha, vmin, vmax, origin, extent, shape, filternorm, filterrad, imlim, resample, url, **kwargs)\u001b[0m\n\u001b[0;32m   5677\u001b[0m                               resample=resample, **kwargs)\n\u001b[0;32m   5678\u001b[0m \u001b[1;33m\u001b[0m\u001b[0m\n\u001b[1;32m-> 5679\u001b[1;33m         \u001b[0mim\u001b[0m\u001b[1;33m.\u001b[0m\u001b[0mset_data\u001b[0m\u001b[1;33m(\u001b[0m\u001b[0mX\u001b[0m\u001b[1;33m)\u001b[0m\u001b[1;33m\u001b[0m\u001b[1;33m\u001b[0m\u001b[0m\n\u001b[0m\u001b[0;32m   5680\u001b[0m         \u001b[0mim\u001b[0m\u001b[1;33m.\u001b[0m\u001b[0mset_alpha\u001b[0m\u001b[1;33m(\u001b[0m\u001b[0malpha\u001b[0m\u001b[1;33m)\u001b[0m\u001b[1;33m\u001b[0m\u001b[1;33m\u001b[0m\u001b[0m\n\u001b[0;32m   5681\u001b[0m         \u001b[1;32mif\u001b[0m \u001b[0mim\u001b[0m\u001b[1;33m.\u001b[0m\u001b[0mget_clip_path\u001b[0m\u001b[1;33m(\u001b[0m\u001b[1;33m)\u001b[0m \u001b[1;32mis\u001b[0m \u001b[1;32mNone\u001b[0m\u001b[1;33m:\u001b[0m\u001b[1;33m\u001b[0m\u001b[1;33m\u001b[0m\u001b[0m\n",
      "\u001b[1;32m~\\AppData\\Roaming\\Python\\Python37\\site-packages\\matplotlib\\image.py\u001b[0m in \u001b[0;36mset_data\u001b[1;34m(self, A)\u001b[0m\n\u001b[0;32m    683\u001b[0m                 not np.can_cast(self._A.dtype, float, \"same_kind\")):\n\u001b[0;32m    684\u001b[0m             raise TypeError(\"Image data of dtype {} cannot be converted to \"\n\u001b[1;32m--> 685\u001b[1;33m                             \"float\".format(self._A.dtype))\n\u001b[0m\u001b[0;32m    686\u001b[0m \u001b[1;33m\u001b[0m\u001b[0m\n\u001b[0;32m    687\u001b[0m         if not (self._A.ndim == 2\n",
      "\u001b[1;31mTypeError\u001b[0m: Image data of dtype object cannot be converted to float"
     ]
    },
    {
     "data": {
      "image/png": "[encoded data removed]",
      "text/plain": [
       "<Figure size 432x288 with 1 Axes>"
      ]
     },
     "metadata": {
      "needs_background": "light"
     },
     "output_type": "display_data"
    }
   ],
   "source": [
    "plt.imshow(img_1x, cmap='gray', vmin=0, vmax=255)"
   ]
  },
  {
   "cell_type": "code",
   "execution_count": 204,
   "metadata": {
    "scrolled": false
   },
   "outputs": [
    {
     "data": {
      "text/plain": [
       "<matplotlib.image.AxesImage at 0x277ef04c048>"
      ]
     },
     "execution_count": 204,
     "metadata": {},
     "output_type": "execute_result"
    },
    {
     "data": {
      "image/png": "[encoded data removed]",
      "text/plain": [
       "<Figure size 432x288 with 1 Axes>"
      ]
     },
     "metadata": {
      "needs_background": "light"
     },
     "output_type": "display_data"
    }
   ],
   "source": [
    "plt.imshow(img_2x, cmap='gray', vmin=0, vmax=255)"
   ]
  },
  {
   "cell_type": "code",
   "execution_count": 205,
   "metadata": {
    "scrolled": false
   },
   "outputs": [
    {
     "data": {
      "text/plain": [
       "<matplotlib.image.AxesImage at 0x277ef0c1c18>"
      ]
     },
     "execution_count": 205,
     "metadata": {},
     "output_type": "execute_result"
    },
    {
     "data": {
      "image/png": "[encoded data removed]",
      "text/plain": [
       "<Figure size 432x288 with 1 Axes>"
      ]
     },
     "metadata": {
      "needs_background": "light"
     },
     "output_type": "display_data"
    }
   ],
   "source": [
    "plt.imshow(img_3x, cmap='gray', vmin=0, vmax=255)"
   ]
  },
  {
   "cell_type": "code",
   "execution_count": 206,
   "metadata": {
    "scrolled": false
   },
   "outputs": [
    {
     "data": {
      "text/plain": [
       "<matplotlib.image.AxesImage at 0x277ef00aac8>"
      ]
     },
     "execution_count": 206,
     "metadata": {},
     "output_type": "execute_result"
    },
    {
     "data": {
      "image/png": "[encoded data removed]",
      "text/plain": [
       "<Figure size 432x288 with 1 Axes>"
      ]
     },
     "metadata": {
      "needs_background": "light"
     },
     "output_type": "display_data"
    }
   ],
   "source": [
    "plt.imshow(img_4x, cmap='gray', vmin=0, vmax=255)"
   ]
  },
  {
   "cell_type": "code",
   "execution_count": 207,
   "metadata": {
    "scrolled": false
   },
   "outputs": [
    {
     "data": {
      "text/plain": [
       "<matplotlib.image.AxesImage at 0x277ef2cbe48>"
      ]
     },
     "execution_count": 207,
     "metadata": {},
     "output_type": "execute_result"
    },
    {
     "data": {
      "image/png": "[encoded data removed]",
      "text/plain": [
       "<Figure size 432x288 with 1 Axes>"
      ]
     },
     "metadata": {
      "needs_background": "light"
     },
     "output_type": "display_data"
    }
   ],
   "source": [
    "plt.imshow(img_5x, cmap='gray', vmin=0, vmax=255)"
   ]
  },
  {
   "cell_type": "code",
   "execution_count": 208,
   "metadata": {
    "scrolled": false
   },
   "outputs": [
    {
     "data": {
      "text/plain": [
       "<matplotlib.image.AxesImage at 0x277ef2658d0>"
      ]
     },
     "execution_count": 208,
     "metadata": {},
     "output_type": "execute_result"
    },
    {
     "data": {
      "image/png": "[encoded data removed]",
      "text/plain": [
       "<Figure size 432x288 with 1 Axes>"
      ]
     },
     "metadata": {
      "needs_background": "light"
     },
     "output_type": "display_data"
    }
   ],
   "source": [
    "plt.imshow(img_6x, cmap='gray', vmin=0, vmax=255)"
   ]
  },
  {
   "cell_type": "code",
   "execution_count": 276,
   "metadata": {},
   "outputs": [
    {
     "name": "stdout",
     "output_type": "stream",
     "text": [
      "0.6261764705882353 1.0 0.6261764705882353 1.0 0.7507843137254903 0.7507843137254903\n",
      "0.7610859728506788 0.9592185592185593 0.7604682898800547 0.9230769230769231 0.8269242739830975 0.7633147144459361\n",
      "0.6993837535014006 0.9590616246498599 0.7005462184873951 0.75 0.7863305322128852 0.5897478991596639\n",
      "0.37844084493700864 0.9427678317703894 0.42968646395756366 0.6666666666666666 0.5836317135549872 0.3890878090366581\n",
      "0.40748366013071896 0.9095751633986928 0.49124183006535954 0.475 0.6027668845315904 0.2863142701525055\n",
      "0.638582202111614 0.9482805429864254 0.6480693815987933 0.6666666666666666 0.7449773755656109 0.49665158371040724\n"
     ]
    }
   ],
   "source": [
    "similarities = []\n",
    "for img_1y in [img_1x, img_2x, img_3x, img_4x, img_5x, img_6x]:\n",
    "    similarities.append(compare(img_1x, img_1y))"
   ]
  },
  {
   "cell_type": "code",
   "execution_count": 277,
   "metadata": {},
   "outputs": [
    {
     "name": "stdout",
     "output_type": "stream",
     "text": [
      "9 <==> 9 = 0.8753921568627452\n",
      "9 <==> 7 = 0.8750005985300103\n",
      "9 <==> 9 = 0.7681652661064426\n",
      "9 <==> 1 = 0.6251491901108269\n",
      "9 <==> 1 = 0.5388834422657952\n",
      "9 <==> 3 = 0.7058220211161388\n"
     ]
    }
   ],
   "source": [
    "for i, similarity in enumerate(similarities):\n",
    "    print(f\"{nums[0]} <==> {nums[i]} = {similarity}\")"
   ]
  },
  {
   "cell_type": "code",
   "execution_count": 364,
   "metadata": {},
   "outputs": [
    {
     "name": "stdout",
     "output_type": "stream",
     "text": [
      "[[108 108 108 108 108 108 113 202 249 255 255 135  44]\n",
      " [108 108 108 108  33 188 230 101  52 108 106 162 183]\n",
      " [108 108 108  58 230 189  31 108 108 108 108 108 204]\n",
      " [108 108  24 231 181 108 108 108 108 108 108 119 228]\n",
      " [108 108 173 232  32 108 108 108 108 108  79 230 108]\n",
      " [108 100 246  47 108 108 108 108 108  63 216 109 108]\n",
      " [108 122 210 108  31 108 108  28 109 235 182 108 108]\n",
      " [108 128 233 108 108  66 126 180 191 220  27 108 108]\n",
      " [108  78 246 233 220 255 199  59 235  68 108 108 108]\n",
      " [108 108  80 120 139  62 108 155 211 108 108 108 108]\n",
      " [108 108 108 108 108 108  90 255  70 108 108 108 108]\n",
      " [108 108 108 108 108  47 227 159 108 108 108 108 108]\n",
      " [108 108 108 108 108 213 207 108 108 108 108 108 108]\n",
      " [108 108 108 108  91 253  50 108 108 108 108 108 108]\n",
      " [108 108 108  45 252 131 108 108 108 108 108 108 108]\n",
      " [108 108 108 207 205  30 108 108 108 108 108 108 108]\n",
      " [108 108 155 255  28 108 108 108 108 108 108 108 108]\n",
      " [108  40 250  91 108 108 108 108 108 108 108 108 108]\n",
      " [108 207 146 108 108 108 108 108 108 108 108 108 108]\n",
      " [ 25 237  29 108 108 108 108 108 108 108 108 108 108]]\n",
      "[[133 133 133 133 133 133 113 202 249 255 255 135  44]\n",
      " [133 133 133 133  33 188 230 101  52 133 106 162 183]\n",
      " [133 133 133  58 230 189  31 133 133 133 133 133 204]\n",
      " [133 133  24 231 181 133 133 133 133 133 133 119 228]\n",
      " [133 133 173 232  32 133 133 133 133 133  79 230 133]\n",
      " [133 100 246  47 133 133 133 133 133  63 216 109 133]\n",
      " [133 122 210 133  31 133 133  28 109 235 182 133 133]\n",
      " [133 128 233 133 133  66 126 180 191 220  27 133 133]\n",
      " [133  78 246 233 220 255 199  59 235  68 133 133 133]\n",
      " [133 133  80 120 139  62 133 155 211 133 133 133 133]\n",
      " [133 133 133 133 133 133  90 255  70 133 133 133 133]\n",
      " [133 133 133 133 133  47 227 159 133 133 133 133 133]\n",
      " [133 133 133 133 133 213 207 133 133 133 133 133 133]\n",
      " [133 133 133 133  91 253  50 133 133 133 133 133 133]\n",
      " [133 133 133  45 252 131 133 133 133 133 133 133 133]\n",
      " [133 133 133 207 205  30 133 133 133 133 133 133 133]\n",
      " [133 133 155 255  28 133 133 133 133 133 133 133 133]\n",
      " [133  40 250  91 133 133 133 133 133 133 133 133 133]\n",
      " [133 207 146 133 133 133 133 133 133 133 133 133 133]\n",
      " [ 25 237  29 133 133 133 133 133 133 133 133 133 133]]\n",
      "9 <==> 9 = (0.9374057315233786, 1.0, 0.9374057315233786, 0.9582704876822524)\n",
      "[[124 127 132 131]\n",
      " [116 123 115 103]]\n",
      "[[150 210  91 133]\n",
      " [133 130 183 147]]\n",
      "9 <==> 9 = (0.8387254901960784, 0.9799019607843137, 0.8588235294117647, 0.02746103569632981)\n",
      "\n",
      "[[116 116 116 116 116 116 113 202 249 255 255 135  44]\n",
      " [116 116 116 116  33 188 230 101  52 116 106 162 183]\n",
      " [116 116 116  58 230 189  31 116 116 116 116 116 204]\n",
      " [116 116  24 231 181 116 116 116 116 116 116 119 228]\n",
      " [116 116 173 232  32 116 116 116 116 116  79 230 116]\n",
      " [116 100 246  47 116 116 116 116 116  63 216 109 116]\n",
      " [116 122 210 116  31 116 116  28 109 235 182 116 116]\n",
      " [116 128 233 116 116  66 126 180 191 220  27 116 116]\n",
      " [116  78 246 233 220 255 199  59 235  68 116 116 116]\n",
      " [116 116  80 120 139  62 116 155 211 116 116 116 116]\n",
      " [116 116 116 116 116 116  90 255  70 116 116 116 116]\n",
      " [116 116 116 116 116  47 227 159 116 116 116 116 116]\n",
      " [116 116 116 116 116 213 207 116 116 116 116 116 116]\n",
      " [116 116 116 116  91 253  50 116 116 116 116 116 116]\n",
      " [116 116 116  45 252 131 116 116 116 116 116 116 116]\n",
      " [116 116 116 207 205  30 116 116 116 116 116 116 116]\n",
      " [116 116 155 255  28 116 116 116 116 116 116 116 116]\n",
      " [116  40 250  91 116 116 116 116 116 116 116 116 116]\n",
      " [116 207 146 116 116 116 116 116 116 116 116 116 116]\n",
      " [ 25 237  29 116 116 116 116 116 116 116 116 116 116]]\n",
      "[[127 127  98  96 110 159 221 250 190 128  69  94 127]\n",
      " [127 100  94  52 121 235 235 203 192 226 242 147  95]\n",
      " [ 92 129 175 150 120 102  87 127 127  75 209 243  46]\n",
      " [ 59 209 166  75 127 127 127 127 127  47 178 246  84]\n",
      " [ 95  45  68 127 127 127 127 127  88  49 207 246  60]\n",
      " [127 127 127 127 127 127 127 127  65  51 210 206  64]\n",
      " [127 127 127 127 127 127 127 127  83 118 226 139 101]\n",
      " [127 127 127 127 127 127 127 127  93 189 196 112 127]\n",
      " [127 127 127 127 127 127 127 100 177 223 125 127 127]\n",
      " [127 127 127 127 127 127  91 136 214 157 105 127 127]\n",
      " [127 127 127 127 127  83 105 207 188  95  93 127 127]\n",
      " [127 127 127 127  85  97 194 204 126 127 127 127 127]\n",
      " [127 127 127  90  96 187 233 158 102 127 127 127 127]\n",
      " [127 127  90  89 195 237 185 114 127 127 127 127 127]\n",
      " [127 101 126 186 228 170 118 127 127 127 127 127 127]\n",
      " [100 127 227 227 160 109 127 127 127 127 127 127 127]\n",
      " [ 75 228 243 160  67 127 127 127 127 127 127 127 127]\n",
      " [167 245 163  76  92 127 127 127 127 127 127 127 127]\n",
      " [118 177  58  96 127 127 127 127 127 127 127 127 127]\n",
      " [ 34 102  97 127 127 127 127 127 127 127 127 127 127]]\n",
      "9 <==> 7 = (0.8671644042232277, 0.9727601809954751, 0.844841628959276, 0.7914276821839846)\n",
      "\n",
      "[[246  98 133 139 127 136 141 152]\n",
      " [110 178  95 100 110 142 134 120]\n",
      " [105 128 143 132 157 129 106 246]\n",
      " [246 109 142 145 111 246 246 246]\n",
      " [111 145 112 106 246 246 246 246]]\n",
      "[[98 98 98 98  4  2  0  0]\n",
      " [98 98 21  5  2  3 18 98]\n",
      " [98 17  0  1  0  2 98 98]\n",
      " [98  0 15  8 18 98 98 98]\n",
      " [31 23 98 98 98 98 98 98]]\n",
      "9 <==> 9 = (0.4726470588235294, 0.8771568627450981, 0.5954901960784313, 0.09975867269984917)\n",
      "[[ 89  89  89  89  89  89  89 113 202 249 255 255 135  44]\n",
      " [ 89  89  89  89  89  33 188 230 101  52  89 106 162 183]\n",
      " [ 89  89  89  89  58 230 189  31  89  89  89  89  89 204]\n",
      " [ 89  89  89  24 231 181  89  89  89  89  89  89 119 228]\n",
      " [ 89  89  89 173 232  32  89  89  89  89  89  79 230  89]\n",
      " [ 89  89 100 246  47  89  89  89  89  89  63 216 109  89]\n",
      " [ 89  89 122 210  89  31  89  89  28 109 235 182  89  89]\n",
      " [ 89  89 128 233  89  89  66 126 180 191 220  27  89  89]\n",
      " [ 89  89  78 246 233 220 255 199  59 235  68  89  89  89]\n",
      " [ 89  89  89  80 120 139  62  89 155 211  89  89  89  89]\n",
      " [ 89  89  89  89  89  89  89  90 255  70  89  89  89  89]\n",
      " [ 89  89  89  89  89  89  47 227 159  89  89  89  89  89]\n",
      " [ 89  89  89  89  89  89 213 207  89  89  89  89  89  89]\n",
      " [ 89  89  89  89  89  91 253  50  89  89  89  89  89  89]\n",
      " [ 89  89  89  89  45 252 131  89  89  89  89  89  89  89]\n",
      " [ 89  89  89  89 207 205  30  89  89  89  89  89  89  89]\n",
      " [ 89  89  89 155 255  28  89  89  89  89  89  89  89  89]\n",
      " [ 89  89  40 250  91  89  89  89  89  89  89  89  89  89]\n",
      " [ 89  89 207 146  89  89  89  89  89  89  89  89  89  89]\n",
      " [ 89  25 237  29  89  89  89  89  89  89  89  89  89  89]]\n",
      "[[146 146 146 146 146 146  72 145 243 242 145  66  67 146]\n",
      " [146 146 146 146  71 194 251 250 254 250 244 248  96 146]\n",
      " [146 146 146 160 235 248 199 152 181 231 252 252  91 146]\n",
      " [146 146 157 248 218 104 146 146  67  97 242 221  93 146]\n",
      " [ 65 110 232 189  74 146 146 146  57 238 255 137 146 146]\n",
      " [ 85 194 234 106 146 146 146  57 220 252 236 126 146 146]\n",
      " [ 92 246 124  61 146 146 112 221 205 228 220 108 146 146]\n",
      " [104 242 134 146  74 168 248 155  83 224 158  62 146 146]\n",
      " [ 85 245 252 254 255 241 124  59  78 231 165  61 146 146]\n",
      " [ 57 191 253 254 238 102 146 146  78 237 169 146 146 146]\n",
      " [146 146  76  72 146 146 146 146  84 246 152 146 146 146]\n",
      " [146 146 146 146 146 146 146 146 144 239 140 146 146 146]\n",
      " [146 146 146 146 146 146 146  56 222 240 144  56 146 146]\n",
      " [146 146 146 146 146 146 146  84 230 255 174  69 146 146]\n",
      " [146 146 146 146 146 146 146  93 234 244 133  56 146 146]\n",
      " [146 146 146 146 146 146 146 146 207 220 107 146 146 146]\n",
      " [146 146 146 146 146 146 146 146 224 220  95 146 146 146]\n",
      " [146 146 146 146 146 146 146 146 228 203  56 146 146 146]\n",
      " [146 146 146 146 146 146 146 146 211 208 146 146 146 146]\n",
      " [146 146 146 146 146 146 146  48 209 180  60 146 146 146]]\n",
      "9 <==> 9 = (0.7231932773109243, 0.9601260504201681, 0.7123389355742297, 0.6488241129785247)\n",
      "\n",
      "[[ 56  56  56  56  56  56  56  56]\n",
      " [ 56  56  56  56  56  56  56  56]\n",
      " [ 56  56  56 110 178 252 227  79]\n",
      " [ 56  56  68 189 137  78 119 175]\n",
      " [ 56 100 151 144  84  56  56 167]\n",
      " [ 56  75 204 114  56  56 111 186]\n",
      " [ 56 167 124 102  56  56 118 155]\n",
      " [105 182  80  56  56  87 168  56]\n",
      " [113 174  67 102  59 167 173  56]\n",
      " [116 190  56  88 164 204  75  56]\n",
      " [ 96 205 226 235 116 158 102  56]\n",
      " [ 56  93 130  82 145 163  56  56]\n",
      " [ 56  56  56 102 190  88  56  56]\n",
      " [ 56  56  56 107 176  56  56  56]\n",
      " [ 56  56  56 203 138  56  56  56]\n",
      " [ 56  56  99 178  90  56  56  56]\n",
      " [ 56  98 156 133  56  56  56  56]\n",
      " [ 56 123 206  67  56  56  56  56]\n",
      " [ 56 160 133 102  56  56  56  56]\n",
      " [ 82 177 100  56  56  56  56  56]\n",
      " [146 154  56  56  56  56  56  56]\n",
      " [107  89  56  56  56  56  56  56]]\n",
      "[[ 28 137 172 101 162 162 162 162]\n",
      " [123 244 255 250 162 162 162 162]\n",
      " [172 246 243 255 162 162 162 162]\n",
      " [170 245 254 255 116 162 162 162]\n",
      " [ 86 255 255 251 112 162 162 162]\n",
      " [ 66 247 247 242 130 162 162 162]\n",
      " [ 50 251 248 253 183 162 162 162]\n",
      " [ 47 255 255 255 226 162 162 162]\n",
      " [ 42 244 253 246 233 162 162 162]\n",
      " [ 29 214 255 243 240 162 162 162]\n",
      " [162 178 255 253 254  77 162 162]\n",
      " [162 148 255 251 254 123 162 162]\n",
      " [162  68 252 255 254 234  49 162]\n",
      " [162  38 242 239 255 255 109 162]\n",
      " [162 162 224 241 255 255 205  42]\n",
      " [162 162 178 255 251 254 255 152]\n",
      " [162 162 107 255 239 250 244 172]\n",
      " [162 162  53 244 255 252 255 158]\n",
      " [162 162 162 170 255 255 242 111]\n",
      " [162 162 162  81 243 248 140 162]\n",
      " [162 162 162 162 162 162 162 162]\n",
      " [162 162 162 162 162 162 162 162]]\n",
      "9 <==> 1 = (0.5591800356506239, 0.9431818181818181, 0.6029857397504456, 0.4318661730426437)\n",
      "\n",
      "[[ 86  86  86  86  86  86]\n",
      " [ 86  86 109 196 254 102]\n",
      " [ 86  96 150 116  99 167]\n",
      " [ 86 104 165  90  86 152]\n",
      " [102 144 130  86  86 168]\n",
      " [113 179  85  86  97 162]\n",
      " [115 133  86  86 129 117]\n",
      " [122 135  84  71 195 114]\n",
      " [127 156  93 171 141 102]\n",
      " [105 236 231 145 109  86]\n",
      " [106  86  96 161 124  86]\n",
      " [ 86  86 104 160 102  86]\n",
      " [ 86  86 107 159  86  86]\n",
      " [ 86  86 179 131  86  86]\n",
      " [ 86 105 156  95  86  86]\n",
      " [ 86 101 163  86  86  86]\n",
      " [ 86 169 102  86  86  86]\n",
      " [112 182  83  86  86  86]\n",
      " [ 88 155  86  86  86  86]\n",
      " [157 123  86  86  86  86]\n",
      " [123  78  86  86  86  86]]\n",
      "[[ 84 115  23 143 143 143]\n",
      " [ 84 250 131 143 143 143]\n",
      " [ 86 246 253 143 143 143]\n",
      " [ 29 255 242  88 143 143]\n",
      " [109 251 253 100 143 143]\n",
      " [169 244 247  95 143 143]\n",
      " [117 252 253 103 143 143]\n",
      " [146 248 247 104 143 143]\n",
      " [112 253 243 102 143 143]\n",
      " [ 66 247 254 146 143 143]\n",
      " [143 210 251 206 143 143]\n",
      " [143 149 248 199 143 143]\n",
      " [143  69 240 215 143 143]\n",
      " [143  67 203 243 101 143]\n",
      " [143 143 137 248 199 143]\n",
      " [143 143  84 253 250 143]\n",
      " [143 143  46 217 236  79]\n",
      " [143 143  76 101 249 171]\n",
      " [143 143 143 143 102 157]\n",
      " [143 143 143 143 143  36]\n",
      " [143 143 143 143 143 143]]\n",
      "9 <==> 1 = (0.7459383753501401, 0.9534702769996888, 0.7680672268907563, 0.36153492736125786)\n",
      "\n",
      "[[220 220 220 220 220 220 220 220 220 220 220 220 220]\n",
      " [220 220 220 220 220 220 220 220 220 220 220 220 220]\n",
      " [220 220 220 220 220 220 113 202 249 255 255 135  44]\n",
      " [220 220 220 220  33 188 230 101  52 220 106 162 183]\n",
      " [220 220 220  58 230 189  31 220 220 220 220 220 204]\n",
      " [220 220  24 231 181 220 220 220 220 220 220 119 228]\n",
      " [220 220 173 232  32 220 220 220 220 220  79 230 220]\n",
      " [220 100 246  47 220 220 220 220 220  63 216 109 220]\n",
      " [220 122 210 220  31 220 220  28 109 235 182 220 220]\n",
      " [220 128 233 220 220  66 126 180 191 220  27 220 220]\n",
      " [220  78 246 233 220 255 199  59 235  68 220 220 220]\n",
      " [220 220  80 120 139  62 220 155 211 220 220 220 220]\n",
      " [220 220 220 220 220 220  90 255  70 220 220 220 220]\n",
      " [220 220 220 220 220  47 227 159 220 220 220 220 220]\n",
      " [220 220 220 220 220 213 207 220 220 220 220 220 220]\n",
      " [220 220 220 220  91 253  50 220 220 220 220 220 220]\n",
      " [220 220 220  45 252 131 220 220 220 220 220 220 220]\n",
      " [220 220 220 207 205  30 220 220 220 220 220 220 220]\n",
      " [220 220 155 255  28 220 220 220 220 220 220 220 220]\n",
      " [220  40 250  91 220 220 220 220 220 220 220 220 220]\n",
      " [220 207 146 220 220 220 220 220 220 220 220 220 220]\n",
      " [ 25 237  29 220 220 220 220 220 220 220 220 220 220]]\n",
      "[[  0   0   0   1   3   1   2   2   0   2   1   0   0]\n",
      " [  0   0   0   1   1   2   2   0   5   2   1   0   0]\n",
      " [  0   0   0   1   2   7   1   2   2   2   3   0   0]\n",
      " [  0   0   0   0   4   2   1   6   3   2   1   0   0]\n",
      " [  0   0   0   0   3   1   8   4   1   3   1   0   0]\n",
      " [  0   0   2  57  80 235  59  59 143  57  36   0   0]\n",
      " [  0   4  34 225  59  59  59  59  59 227 197  21   0]\n",
      " [  3   3  57  59  59 237 217 216 224  59 240  31   0]\n",
      " [  2   3  34 146 145  84   4  14 138  59 122   0   0]\n",
      " [  2   2   3  10   2   3   2 115  59 208  17   0   0]\n",
      " [  3   1   3   0  32  85 247  59 208   2   3   1   0]\n",
      " [  3   0   1   0 160  59  59  59 212  10   1   0   0]\n",
      " [  0   0   0   1 120  59 251 221 246  70   1   0   0]\n",
      " [  0   0   0   1  67 151 140  32  59  77   5   1   0]\n",
      " [  0   0   0   0   8  11   3 112  59  75   4   0   0]\n",
      " [  0   0   0   3   3   4  85 216 151   5   3   0   0]\n",
      " [  0   0   0   1  52 149 244  63   8   5   3   0   0]\n",
      " [  0   0   0   1 191  59 212   3   1   0   1   0   0]\n",
      " [  0   0   0  36 230 210  18   3   0   0   0   0   0]\n",
      " [  0   0   0  21  74  51   4   0   0   0   0   0   0]\n",
      " [ 59  59  59  59  59  59  59  59  59  59  59  59  59]\n",
      " [ 59  59  59  59  59  59  59  59  59  59  59  59  59]]\n",
      "9 <==> 3 = (0.33101604278074864, 0.9777046482928835, 0.34881393116687237, 0.18323086810481767)\n",
      "[[ 82  82  82  82  82  82 113 202 249 255 255 135  44]\n",
      " [ 82  82  82  82  33 188 230 101  52  82 106 162 183]\n",
      " [ 82  82  82  58 230 189  31  82  82  82  82  82 204]\n",
      " [ 82  82  24 231 181  82  82  82  82  82  82 119 228]\n",
      " [ 82  82 173 232  32  82  82  82  82  82  79 230  82]\n",
      " [ 82 100 246  47  82  82  82  82  82  63 216 109  82]\n",
      " [ 82 122 210  82  31  82  82  28 109 235 182  82  82]\n",
      " [ 82 128 233  82  82  66 126 180 191 220  27  82  82]\n",
      " [ 82  78 246 233 220 255 199  59 235  68  82  82  82]\n",
      " [ 82  82  80 120 139  62  82 155 211  82  82  82  82]\n",
      " [ 82  82  82  82  82  82  90 255  70  82  82  82  82]\n",
      " [ 82  82  82  82  82  47 227 159  82  82  82  82  82]\n",
      " [ 82  82  82  82  82 213 207  82  82  82  82  82  82]\n",
      " [ 82  82  82  82  91 253  50  82  82  82  82  82  82]\n",
      " [ 82  82  82  45 252 131  82  82  82  82  82  82  82]\n",
      " [ 82  82  82 207 205  30  82  82  82  82  82  82  82]\n",
      " [ 82  82 155 255  28  82  82  82  82  82  82  82  82]\n",
      " [ 82  40 250  91  82  82  82  82  82  82  82  82  82]\n",
      " [ 82 207 146  82  82  82  82  82  82  82  82  82  82]\n",
      " [ 25 237  29  82  82  82  82  82  82  82  82  82  82]]\n",
      "[[149 149 149  55  47 145 202 162  79 149 149 149 149]\n",
      " [ 69 117 195 255 248 254 254 255 254 230 162  96  82]\n",
      " [104 246 247 249 254 253 246 240 248 252 247 229 163]\n",
      " [148 251 254 255 236 201 126  76 102 128 214 251 160]\n",
      " [158 230 206 116  62 149 149 149 149 166 252 163  58]\n",
      " [149 149 149 149 149 149 149 149 100 216 240 127 149]\n",
      " [149 149 149 149 149 149 149 127 253 239 152 149 149]\n",
      " [149 149 149 149 149 105 174 240 231 115 149 149 149]\n",
      " [149 149  66 151 233 253 253 251 196  67 149 149 149]\n",
      " [149 149  70 245 254 248 254 244 220 110 149 149 149]\n",
      " [149 149  81 246 244 251 210  86 165 185  69 149 149]\n",
      " [149 149  76 228 213 127  50  60 128 209  74 149 149]\n",
      " [149 149 149 149 149 149 149  62 160 235  77 149 149]\n",
      " [149 149 149 149 149 149 149  82 230 173  66 149 149]\n",
      " [149 149 149 149 149 149  65 171 184  84 149 149 149]\n",
      " [149 149 149 149 149 158 188  85 149 149 149 149 149]\n",
      " [149 149  61 118 218 249 150 149 149 149 149 149 149]\n",
      " [149 149 182 255 254 167  89 149 149 149 149 149 149]\n",
      " [149 149 217 241 237  68 149 149 149 149 149 149 149]\n",
      " [149  78 220 150  71 149 149 149 149 149 149 149 149]]\n",
      "9 <==> 3 = (0.6890045248868778, 0.9649321266968326, 0.6846757164404224, 0.5629992737835875)\n",
      "\n",
      "[[150 210  91 131]\n",
      " [131 130 183 147]]\n",
      "[[124 127 132 131]\n",
      " [116 123 115 108]]\n",
      "9 <==> 9 = (0.871078431372549, 0.9921568627450981, 0.8632352941176471, 0.027963800904977378)\n",
      "[[150 210  91 103]\n",
      " [103 130 183 147]]\n",
      "[[150 210  91 115]\n",
      " [115 130 183 147]]\n",
      "9 <==> 9 = (0.9882352941176471, 1.0, 0.9882352941176471, 0.9921568627450981)\n",
      "\n",
      "[[150 210  91 134]\n",
      " [134 130 183 147]]\n",
      "[[103 110 128 140]\n",
      " [122 125 117 107]]\n",
      "9 <==> 7 = (0.8529411764705882, 0.9936274509803922, 0.8465686274509804, 0.024427548797296698)\n",
      "\n",
      "[[150 210  91 144]\n",
      " [144 130 183 147]]\n",
      "[[223 104   2 102]\n",
      " [ 86 103 151 105]]\n",
      "9 <==> 9 = (0.7715686274509804, 0.9985294117647059, 0.7700980392156863, 0.16934640522875818)\n",
      "[[150 210  91 120]\n",
      " [120 130 183 147]]\n",
      "[[130 138 152 148]\n",
      " [111 111 151  88]]\n",
      "9 <==> 9 = (0.8578431372549019, 0.9950980392156863, 0.8529411764705882, 0.02254901960784314)\n",
      "\n",
      "[[150 210  91  95]\n",
      " [ 95 130 183 147]]\n",
      "[[158 239  98 117]\n",
      " [ 66 196 236 126]]\n",
      "9 <==> 1 = (0.8848039215686274, 1.0, 0.8848039215686274, 0.04616013071895425)\n",
      "\n",
      "[[150 210  91 117]\n",
      " [117 130 183 147]]\n",
      "[[146 222  93 111]\n",
      " [ 88 130 172 111]]\n",
      "9 <==> 1 = (0.9509803921568627, 1.0, 0.9509803921568627, 0.06141715945637514)\n",
      "\n",
      "[[150 210  91 203]\n",
      " [203 130 183 147]]\n",
      "[[  9  77  95  26]\n",
      " [  0  97 106   1]]\n",
      "9 <==> 3 = (0.5519607843137255, 1.0, 0.5519607843137255, 0.007156195811657996)\n",
      "[[150 210  91 137]\n",
      " [137 130 183 147]]\n",
      "[[113 158 169 119]\n",
      " [ 81 136 101  64]]\n",
      "9 <==> 3 = (0.7980392156862746, 1.0, 0.7980392156862746, 0.019230210602759625)\n",
      "\n"
     ]
    }
   ],
   "source": []
  },
  {
   "cell_type": "code",
   "execution_count": null,
   "metadata": {},
   "outputs": [],
   "source": []
  }
 ],
 "metadata": {
  "kernelspec": {
   "display_name": "Python 3",
   "language": "python",
   "name": "python3"
  },
  "language_info": {
   "codemirror_mode": {
    "name": "ipython",
    "version": 3
   },
   "file_extension": ".py",
   "mimetype": "text/x-python",
   "name": "python",
   "nbconvert_exporter": "python",
   "pygments_lexer": "ipython3",
   "version": "3.7.2"
  }
 },
 "nbformat": 4,
 "nbformat_minor": 2
}
