{
 "cells": [
  {
   "cell_type": "code",
   "execution_count": 1,
   "metadata": {},
   "outputs": [],
   "source": [
    "from collections import defaultdict\n",
    "\n",
    "import numpy as np\n",
    "import matplotlib.pyplot as plt\n",
    "from scipy.optimize import minimize"
   ]
  },
  {
   "cell_type": "code",
   "execution_count": 30,
   "metadata": {},
   "outputs": [],
   "source": [
    "h, w = 5, 5\n",
    "size = (h, w)"
   ]
  },
  {
   "cell_type": "code",
   "execution_count": 31,
   "metadata": {},
   "outputs": [],
   "source": [
    "image1 = np.zeros(size, dtype=np.int8)\n",
    "image2 = np.zeros(size, dtype=np.int8)"
   ]
  },
  {
   "cell_type": "code",
   "execution_count": 35,
   "metadata": {},
   "outputs": [],
   "source": [
    "image1[1:4:2, 0:3:2] = 1\n",
    "image1[2, 1] = 1\n",
    "for i in range(w):\n",
    "    image2[i, i] = 1\n",
    "    image2[w-i-1, i] = 1\n",
    "\n",
    "image1[1, 0] = 0"
   ]
  },
  {
   "cell_type": "code",
   "execution_count": 36,
   "metadata": {},
   "outputs": [
    {
     "data": {
      "text/plain": [
       "<matplotlib.image.AxesImage at 0x18232cd8400>"
      ]
     },
     "execution_count": 36,
     "metadata": {},
     "output_type": "execute_result"
    },
    {
     "data": {
      "image/png": "[encoded data removed]",
      "text/plain": [
       "<Figure size 432x288 with 1 Axes>"
      ]
     },
     "metadata": {
      "needs_background": "light"
     },
     "output_type": "display_data"
    }
   ],
   "source": [
    "plt.imshow(image1, cmap='gray', vmin=0, vmax=1)"
   ]
  },
  {
   "cell_type": "code",
   "execution_count": 37,
   "metadata": {},
   "outputs": [
    {
     "data": {
      "text/plain": [
       "<matplotlib.image.AxesImage at 0x18232d2b4a8>"
      ]
     },
     "execution_count": 37,
     "metadata": {},
     "output_type": "execute_result"
    },
    {
     "data": {
      "image/png": "[encoded data removed]",
      "text/plain": [
       "<Figure size 432x288 with 1 Axes>"
      ]
     },
     "metadata": {
      "needs_background": "light"
     },
     "output_type": "display_data"
    }
   ],
   "source": [
    "plt.imshow(image2, cmap='gray', vmin=0, vmax=1)"
   ]
  },
  {
   "cell_type": "code",
   "execution_count": 72,
   "metadata": {},
   "outputs": [],
   "source": [
    "def image2coord(image, w):\n",
    "    img = np.array(np.where(image==1))\n",
    "    img[0, :] = w - img[0, :] - 1\n",
    "    img = img[::-1, :]\n",
    "    return img\n",
    "\n",
    "def invariant(img):\n",
    "    res = []\n",
    "    for row in img:\n",
    "        spatial = row - row.mean()\n",
    "        print(spatial, (spatial.max() - spatial.min()))\n",
    "        res.append((2 * spatial) / (spatial.max() - spatial.min()))\n",
    "    return np.array(res, dtype=np.float16)\n",
    "\n",
    "def centralize(img):\n",
    "    res = []\n",
    "    for row in img:\n",
    "        res.append(row - row.mean())\n",
    "    return np.array(res, dtype=np.float16)"
   ]
  },
  {
   "cell_type": "code",
   "execution_count": 73,
   "metadata": {},
   "outputs": [
    {
     "name": "stdout",
     "output_type": "stream",
     "text": [
      "[[2 1 0 2]\n",
      " [3 2 1 1]]\n",
      "[[0 4 1 3 2 1 3 0 4]\n",
      " [4 4 3 3 2 1 1 0 0]]\n"
     ]
    }
   ],
   "source": [
    "img1 = image2coord(image1, h)\n",
    "img2 = image2coord(image2, h)\n",
    "\n",
    "print(img1)\n",
    "print(img2)"
   ]
  },
  {
   "cell_type": "code",
   "execution_count": 74,
   "metadata": {},
   "outputs": [
    {
     "name": "stdout",
     "output_type": "stream",
     "text": [
      "[1.25 1.75]\n",
      "[2. 2.]\n"
     ]
    }
   ],
   "source": [
    "centroid1 = img1.mean(1)\n",
    "centroid2 = img2.mean(1)\n",
    "\n",
    "print(centroid1)\n",
    "print(centroid2)"
   ]
  },
  {
   "cell_type": "code",
   "execution_count": 75,
   "metadata": {},
   "outputs": [
    {
     "name": "stdout",
     "output_type": "stream",
     "text": [
      "[[ 0.75 -0.25 -1.25  0.75]\n",
      " [ 1.25  0.25 -0.75 -0.75]]\n",
      "[[-2.  2. -1.  1.  0. -1.  1. -2.  2.]\n",
      " [ 2.  2.  1.  1.  0. -1. -1. -2. -2.]]\n"
     ]
    }
   ],
   "source": [
    "central1 = centralize(img1)\n",
    "central2 = centralize(img2)\n",
    "\n",
    "print(central1)\n",
    "print(central2)"
   ]
  },
  {
   "cell_type": "code",
   "execution_count": 76,
   "metadata": {
    "scrolled": true
   },
   "outputs": [
    {
     "name": "stdout",
     "output_type": "stream",
     "text": [
      "[ 0.75 -0.25 -1.25  0.75] 2.0\n",
      "[ 1.25  0.25 -0.75 -0.75] 2.0\n",
      "[-2.  2. -1.  1.  0. -1.  1. -2.  2.] 4.0\n",
      "[ 2.  2.  1.  1.  0. -1. -1. -2. -2.] 4.0\n",
      "[[ 0.75 -0.25 -1.25  0.75]\n",
      " [ 1.25  0.25 -0.75 -0.75]]\n",
      "[[-1.   1.  -0.5  0.5  0.  -0.5  0.5 -1.   1. ]\n",
      " [ 1.   1.   0.5  0.5  0.  -0.5 -0.5 -1.  -1. ]]\n"
     ]
    }
   ],
   "source": [
    "invariant1 = invariant(img1)\n",
    "invariant2 = invariant(img2)\n",
    "\n",
    "print(invariant1)\n",
    "print(invariant2)"
   ]
  },
  {
   "cell_type": "code",
   "execution_count": 25,
   "metadata": {
    "scrolled": true
   },
   "outputs": [
    {
     "name": "stdout",
     "output_type": "stream",
     "text": [
      "[[-1 -1  1  1]\n",
      " [-1  1 -1  1]]\n",
      "[[-1 -1  0  1  1]\n",
      " [-1  1  0 -1  1]]\n",
      "\n",
      "[[0 0 2 2]\n",
      " [1 3 1 3]]\n",
      "[[0 0 1 4 4]\n",
      " [0 4 3 0 4]]\n"
     ]
    }
   ],
   "source": [
    "unique1, indices1 = np.unique(invariant1, axis=1, return_index=True)\n",
    "unique2, indices2 = np.unique(invariant2, axis=1, return_index=True)\n",
    "\n",
    "print(unique1)\n",
    "print(unique2)\n",
    "print()\n",
    "print(img1[:, indices1])\n",
    "print(img2[:, indices2])"
   ]
  },
  {
   "cell_type": "code",
   "execution_count": 29,
   "metadata": {},
   "outputs": [
    {
     "data": {
      "text/plain": [
       "defaultdict(list, {0: [0], 1: [1], 2: [7], 3: [8]})"
      ]
     },
     "execution_count": 29,
     "metadata": {},
     "output_type": "execute_result"
    }
   ],
   "source": [
    "z1 = np.transpose(invariant1)\n",
    "z2 = np.transpose(invariant2)\n",
    "\n",
    "ab = defaultdict(list)\n",
    "\n",
    "for index, check in enumerate(z1):\n",
    "    ab[index].extend([i for i, col in enumerate(z2) if (col == check).all()])\n",
    "ab"
   ]
  },
  {
   "cell_type": "code",
   "execution_count": 27,
   "metadata": {},
   "outputs": [
    {
     "data": {
      "text/plain": [
       "array([[0, 4, 1, 3, 2, 1, 3, 0, 4],\n",
       "       [4, 4, 3, 3, 2, 1, 1, 0, 0]], dtype=int64)"
      ]
     },
     "execution_count": 27,
     "metadata": {},
     "output_type": "execute_result"
    }
   ],
   "source": [
    "img2"
   ]
  },
  {
   "cell_type": "code",
   "execution_count": 451,
   "metadata": {},
   "outputs": [],
   "source": [
    "def optimize(X, Y):\n",
    "    def transform(x):\n",
    "        return ((X * x[0]) + x[1])\n",
    "    \n",
    "    def constraint(x):\n",
    "        return Y - transform(x)\n",
    "\n",
    "    def objective(x):\n",
    "        return sum([v**2 for v in x])**0.5\n",
    "\n",
    "    def callback(x):\n",
    "        solutions.append(x)\n",
    "\n",
    "    solutions = []\n",
    "    max_guess = 100\n",
    "    n_params = 2\n",
    "\n",
    "    print(X, Y)\n",
    "\n",
    "    # initial guesses\n",
    "    # x0=np.random.randint(max_guess, size=total_number_of_options)\n",
    "    x0 = np.full(n_params, max_guess)\n",
    "\n",
    "    # solutions\n",
    "    solutions = [x0]\n",
    "\n",
    "    # show initial objective\n",
    "    print('Initial SSE Objective: {:.4f} at x = {}, transform = {:.4f}, error = {:.4f}'.format(\n",
    "            objective(x0), x0, transform(x0), constraint(x0)\n",
    "        )\n",
    "    )\n",
    "\n",
    "    # the bounds\n",
    "    b = (-max_guess, max_guess)\n",
    "    bnds = tuple(b for _ in range(n_params))\n",
    "    \n",
    "    # define constriants\n",
    "    cons = ([\n",
    "        {'type': 'eq', 'fun': constraint},\n",
    "    ])\n",
    "\n",
    "    solution = minimize(objective, x0, method='SLSQP', bounds=bnds,\n",
    "                        constraints=cons, callback=callback)\n",
    "    x = solution.x\n",
    "\n",
    "    # show final objective\n",
    "    print('Final SSE Objective: {:.4f} at x = {}, transform = {:.4f}, error = {:.4f}'.format(\n",
    "            objective(x), x, transform(x), constraint(x)\n",
    "        ), end='\\n\\n'\n",
    "    )\n"
   ]
  },
  {
   "cell_type": "code",
   "execution_count": 452,
   "metadata": {
    "scrolled": true
   },
   "outputs": [],
   "source": [
    "X1, X2 = centroid1\n",
    "Y1, Y2 = centroid2"
   ]
  },
  {
   "cell_type": "code",
   "execution_count": 453,
   "metadata": {},
   "outputs": [
    {
     "name": "stdout",
     "output_type": "stream",
     "text": [
      "1.0 2.0\n",
      "Initial SSE Objective: 141.4214 at x = [100 100], transform = 200.0000, error = -198.0000\n",
      "Final SSE Objective: 1.4142 at x = [1. 1.], transform = 2.0000, error = -0.0000\n",
      "\n"
     ]
    }
   ],
   "source": [
    "optimize(X1, Y1)"
   ]
  },
  {
   "cell_type": "code",
   "execution_count": 454,
   "metadata": {},
   "outputs": [
    {
     "name": "stdout",
     "output_type": "stream",
     "text": [
      "2.0 2.0\n",
      "Initial SSE Objective: 141.4214 at x = [100 100], transform = 300.0000, error = -298.0000\n",
      "Final SSE Objective: 0.8944 at x = [0.8 0.4], transform = 2.0000, error = 0.0000\n",
      "\n"
     ]
    }
   ],
   "source": [
    "optimize(X2, Y2)"
   ]
  },
  {
   "cell_type": "code",
   "execution_count": null,
   "metadata": {},
   "outputs": [],
   "source": []
  }
 ],
 "metadata": {
  "kernelspec": {
   "display_name": "Python 3",
   "language": "python",
   "name": "python3"
  },
  "language_info": {
   "codemirror_mode": {
    "name": "ipython",
    "version": 3
   },
   "file_extension": ".py",
   "mimetype": "text/x-python",
   "name": "python",
   "nbconvert_exporter": "python",
   "pygments_lexer": "ipython3",
   "version": "3.7.2"
  }
 },
 "nbformat": 4,
 "nbformat_minor": 2
}
