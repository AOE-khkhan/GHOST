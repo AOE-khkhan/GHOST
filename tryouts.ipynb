{
 "cells": [
  {
   "cell_type": "code",
   "execution_count": 478,
   "metadata": {},
   "outputs": [],
   "source": [
    "import cv2\n",
    "import numpy as np\n",
    "from matplotlib import pyplot as plt"
   ]
  },
  {
   "cell_type": "code",
   "execution_count": 624,
   "metadata": {},
   "outputs": [],
   "source": [
    "img1 = cv2.imread('1.jpg')\n",
    "img2 = cv2.imread('9.jpg')\n",
    "w, h, d = img1.shape"
   ]
  },
  {
   "cell_type": "code",
   "execution_count": 876,
   "metadata": {},
   "outputs": [],
   "source": [
    "def toGrey(img, r=0.299, g=0.587, b=0.114):\n",
    "    return np.int8(cv2.add(b*img[:, :, 0], g*img[:, :, 1], r*img[:, :, 2]))"
   ]
  },
  {
   "cell_type": "code",
   "execution_count": 877,
   "metadata": {},
   "outputs": [],
   "source": [
    "grey1 = toGrey(img1, 1/3, 1/3, 1/3)\n",
    "grey2 = toGrey(img2, 1/3, 1/3, 1/3)"
   ]
  },
  {
   "cell_type": "code",
   "execution_count": 878,
   "metadata": {},
   "outputs": [],
   "source": [
    "import numpy as np\n",
    "from numpy.lib.stride_tricks import as_strided\n",
    "\n",
    "k = kw = kh = 5\n",
    "kernel = np.zeros((kw, kh))\n",
    "\n",
    "def getKernels(img, kernel=kernel):\n",
    "    return as_strided(\n",
    "        img,\n",
    "        shape=(\n",
    "            img.shape[0] - kernel.shape[0] + 1,  # The feature map is a few pixels smaller than the input\n",
    "            img.shape[1] - kernel.shape[1] + 1,\n",
    "            kernel.shape[0],\n",
    "            kernel.shape[1],\n",
    "        ),\n",
    "        strides=(\n",
    "            img.strides[0],\n",
    "            img.strides[1],\n",
    "            img.strides[0],  # When we move one step in the 3rd dimension, we should move one step in the original data too\n",
    "            img.strides[1],\n",
    "        ),\n",
    "        writeable=False,  # totally use this to avoid writing to memory in weird places\n",
    "    )"
   ]
  },
  {
   "cell_type": "code",
   "execution_count": 879,
   "metadata": {},
   "outputs": [],
   "source": [
    "features1 = getKernels(grey1)\n",
    "features2 = getKernels(grey2)"
   ]
  },
  {
   "cell_type": "code",
   "execution_count": 880,
   "metadata": {},
   "outputs": [
    {
     "data": {
      "text/plain": [
       "(24, 24, 5, 5)"
      ]
     },
     "execution_count": 880,
     "metadata": {},
     "output_type": "execute_result"
    }
   ],
   "source": [
    "features1.shape"
   ]
  },
  {
   "cell_type": "code",
   "execution_count": 881,
   "metadata": {},
   "outputs": [],
   "source": [
    "def show_kernel(features, i, j):\n",
    "    plt.imshow(features[i, j][...,::-1], cmap='gray')"
   ]
  },
  {
   "cell_type": "code",
   "execution_count": 882,
   "metadata": {
    "scrolled": true
   },
   "outputs": [
    {
     "data": {
      "image/png": "[encoded data removed]",
      "text/plain": [
       "<Figure size 432x288 with 1 Axes>"
      ]
     },
     "metadata": {
      "needs_background": "light"
     },
     "output_type": "display_data"
    }
   ],
   "source": [
    "show_kernel(features1, 10, 13)"
   ]
  },
  {
   "cell_type": "code",
   "execution_count": 883,
   "metadata": {},
   "outputs": [
    {
     "data": {
      "image/png": "[encoded data removed]",
      "text/plain": [
       "<Figure size 432x288 with 1 Axes>"
      ]
     },
     "metadata": {
      "needs_background": "light"
     },
     "output_type": "display_data"
    }
   ],
   "source": [
    "show_kernel(features2, 19, 14)"
   ]
  },
  {
   "cell_type": "code",
   "execution_count": 884,
   "metadata": {},
   "outputs": [
    {
     "data": {
      "text/plain": [
       "(24, 24, 24, 24, 5, 5)"
      ]
     },
     "execution_count": 884,
     "metadata": {},
     "output_type": "execute_result"
    }
   ],
   "source": [
    "a, b, c, d = features1.shape\n",
    "features = np.zeros((a, b, a, b, c, d))\n",
    "m = np.zeros((a, b, a, b))\n",
    "\n",
    "d = np.arange(kw*kh).reshape(kh, kw) + 1\n",
    "\n",
    "for i1 in range(a):\n",
    "    if i1 not in range(2, 17):\n",
    "        continue\n",
    "    for j1 in range(b):\n",
    "        if j1 not in range(10, 16):\n",
    "            continue\n",
    "        f1 = features1[i1, j1]\n",
    "        for i2 in range(a):\n",
    "            for j2 in range(b):\n",
    "                f2 = features2[i2, j2]\n",
    "                features[i1, j1, i2, j2] = cv2.absdiff(f2, f1)\n",
    "                m[i1, j1, i2, j2] = features[i1, j1, i2, j2].mean()\n",
    "features.shape"
   ]
  },
  {
   "cell_type": "code",
   "execution_count": 885,
   "metadata": {},
   "outputs": [
    {
     "data": {
      "text/plain": [
       "(array([2], dtype=int64),\n",
       " array([10], dtype=int64),\n",
       " array([17], dtype=int64),\n",
       " array([10], dtype=int64))"
      ]
     },
     "execution_count": 885,
     "metadata": {},
     "output_type": "execute_result"
    }
   ],
   "source": [
    "mx = m[m!=np.amin(m)]\n",
    "for _ in range(0):\n",
    "    mx = mx[mx!=np.amin(mx)]\n",
    "\n",
    "mv = np.amin(mx)\n",
    "indices = np.where(m == mv)\n",
    "z = features[indices]\n",
    "indices"
   ]
  },
  {
   "cell_type": "code",
   "execution_count": 886,
   "metadata": {},
   "outputs": [
    {
     "data": {
      "text/plain": [
       "4.32"
      ]
     },
     "execution_count": 886,
     "metadata": {},
     "output_type": "execute_result"
    }
   ],
   "source": [
    "i, j, k, l = indices\n",
    "x = 0\n",
    "mv"
   ]
  },
  {
   "cell_type": "code",
   "execution_count": 887,
   "metadata": {},
   "outputs": [
    {
     "data": {
      "image/png": "[encoded data removed]",
      "text/plain": [
       "<Figure size 432x288 with 1 Axes>"
      ]
     },
     "metadata": {
      "needs_background": "light"
     },
     "output_type": "display_data"
    }
   ],
   "source": [
    "show_kernel(features1, i[x], j[x])"
   ]
  },
  {
   "cell_type": "code",
   "execution_count": 888,
   "metadata": {},
   "outputs": [
    {
     "data": {
      "image/png": "[encoded data removed]",
      "text/plain": [
       "<Figure size 432x288 with 1 Axes>"
      ]
     },
     "metadata": {
      "needs_background": "light"
     },
     "output_type": "display_data"
    }
   ],
   "source": [
    "show_kernel(features2, k[x], l[x])"
   ]
  },
  {
   "cell_type": "code",
   "execution_count": 889,
   "metadata": {},
   "outputs": [
    {
     "data": {
      "text/plain": [
       "<matplotlib.image.AxesImage at 0x5688a71ef0>"
      ]
     },
     "execution_count": 889,
     "metadata": {},
     "output_type": "execute_result"
    },
    {
     "data": {
      "image/png": "[encoded data removed]",
      "text/plain": [
       "<Figure size 432x288 with 1 Axes>"
      ]
     },
     "metadata": {
      "needs_background": "light"
     },
     "output_type": "display_data"
    }
   ],
   "source": [
    "plt.imshow(features[i[x], j[x], k[x], l[x]][...,::-1], cmap='gray')"
   ]
  },
  {
   "cell_type": "code",
   "execution_count": 890,
   "metadata": {},
   "outputs": [
    {
     "data": {
      "text/plain": [
       "array([[ 2,  5,  1,  6,  0],\n",
       "       [ 3,  1,  0,  3,  0],\n",
       "       [ 3,  7,  1,  2,  4],\n",
       "       [ 0,  0,  2,  0, 20],\n",
       "       [ 6,  0,  2,  2, 38]], dtype=int8)"
      ]
     },
     "execution_count": 890,
     "metadata": {},
     "output_type": "execute_result"
    }
   ],
   "source": [
    "cv2.absdiff(features2[k[x], l[x]], features1[i[x], j[x]])"
   ]
  },
  {
   "cell_type": "code",
   "execution_count": 891,
   "metadata": {},
   "outputs": [
    {
     "data": {
      "text/plain": [
       "array([[  0,   0,   0,   4,   0],\n",
       "       [  4,   0,   0,   0,   0],\n",
       "       [  3,   2,   1,   0,  30],\n",
       "       [  0,   0,   2,   0,  80],\n",
       "       [  0,   0,   2,   0, 108]], dtype=int8)"
      ]
     },
     "execution_count": 891,
     "metadata": {},
     "output_type": "execute_result"
    }
   ],
   "source": [
    "features1[i[x], j[x]]"
   ]
  },
  {
   "cell_type": "code",
   "execution_count": 892,
   "metadata": {},
   "outputs": [
    {
     "data": {
      "text/plain": [
       "array([[ 2,  5,  1, 10,  0],\n",
       "       [ 1,  1,  0,  3,  0],\n",
       "       [ 0,  9,  0,  2, 34],\n",
       "       [ 0,  0,  0,  0, 60],\n",
       "       [ 6,  0,  0,  2, 70]], dtype=int8)"
      ]
     },
     "execution_count": 892,
     "metadata": {},
     "output_type": "execute_result"
    }
   ],
   "source": [
    "features2[k[x], l[x]]"
   ]
  },
  {
   "cell_type": "code",
   "execution_count": null,
   "metadata": {},
   "outputs": [],
   "source": []
  },
  {
   "cell_type": "code",
   "execution_count": null,
   "metadata": {},
   "outputs": [],
   "source": []
  }
 ],
 "metadata": {
  "kernelspec": {
   "display_name": "Python 3",
   "language": "python",
   "name": "python3"
  }
 },
 "nbformat": 4,
 "nbformat_minor": 2
}
