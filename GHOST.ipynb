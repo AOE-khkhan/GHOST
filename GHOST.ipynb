{
 "cells": [
  {
   "cell_type": "code",
   "execution_count": 1,
   "metadata": {},
   "outputs": [],
   "source": [
    "%load_ext autoreload\n",
    "%autoreload 2"
   ]
  },
  {
   "cell_type": "code",
   "execution_count": 16,
   "metadata": {},
   "outputs": [],
   "source": [
    "import json, pickle\n",
    "from math import factorial\n",
    "from itertools import combinations\n",
    "from collections import Counter\n",
    "\n",
    "import numpy as np\n",
    "import pandas as pd\n",
    "from matplotlib import pyplot as plt\n",
    "\n",
    "from transformer import Transformer"
   ]
  },
  {
   "cell_type": "code",
   "execution_count": 17,
   "metadata": {},
   "outputs": [],
   "source": [
    "# initalize the transformer\n",
    "transformer = Transformer(144)"
   ]
  },
  {
   "cell_type": "code",
   "execution_count": 3,
   "metadata": {},
   "outputs": [],
   "source": [
    "def trust_factor(x):\n",
    "    return x / (x+1) if x else 0\n",
    "\n",
    "def f(d):\n",
    "    return (trust_factor(d.sum()) * d) / d.sum()"
   ]
  },
  {
   "cell_type": "code",
   "execution_count": 4,
   "metadata": {},
   "outputs": [
    {
     "data": {
      "text/plain": "<probability_model.ProbabilityModel at 0x242df44ce48>"
     },
     "execution_count": 4,
     "metadata": {},
     "output_type": "execute_result"
    }
   ],
   "source": [
    "# Load data (deserialize)\n",
    "with open('cache/probability_model.pickle', 'rb') as handle:\n",
    "    probability_model = pickle.load(handle)\n",
    "\n",
    "probability_model"
   ]
  },
  {
   "cell_type": "code",
   "execution_count": 6,
   "metadata": {},
   "outputs": [
    {
     "name": "stdout",
     "output_type": "stream",
     "text": "trial =  [ 52 126  53 126  54 126  55 126]\n"
    }
   ],
   "source": [
    "trial = '4~5~6~7~'\n",
    "trial = np.array(list(map(ord, trial)))\n",
    "print('trial = ', trial)"
   ]
  },
  {
   "cell_type": "code",
   "execution_count": 10,
   "metadata": {},
   "outputs": [
    {
     "ename": "TypeError",
     "evalue": "ord() expected a character, but string of length 0 found",
     "output_type": "error",
     "traceback": [
      "\u001b[1;31m---------------------------------------------------------------------------\u001b[0m",
      "\u001b[1;31mTypeError\u001b[0m                                 Traceback (most recent call last)",
      "\u001b[1;32m<ipython-input-10-ca46d54ecad9>\u001b[0m in \u001b[0;36m<module>\u001b[1;34m\u001b[0m\n\u001b[0;32m     11\u001b[0m \u001b[1;33m\u001b[0m\u001b[0m\n\u001b[0;32m     12\u001b[0m     \u001b[1;32mfor\u001b[0m \u001b[0mi\u001b[0m \u001b[1;32min\u001b[0m \u001b[0mrange\u001b[0m\u001b[1;33m(\u001b[0m\u001b[1;36m3\u001b[0m\u001b[1;33m)\u001b[0m\u001b[1;33m:\u001b[0m\u001b[1;33m\u001b[0m\u001b[1;33m\u001b[0m\u001b[0m\n\u001b[1;32m---> 13\u001b[1;33m         \u001b[0mr1\u001b[0m \u001b[1;33m=\u001b[0m \u001b[0mmd\u001b[0m\u001b[1;33m[\u001b[0m\u001b[0mi\u001b[0m\u001b[1;33m]\u001b[0m\u001b[1;33m.\u001b[0m\u001b[0mget\u001b[0m\u001b[1;33m(\u001b[0m\u001b[0mord\u001b[0m\u001b[1;33m(\u001b[0m\u001b[1;34m''\u001b[0m\u001b[1;33m)\u001b[0m\u001b[1;33m,\u001b[0m \u001b[1;32mNone\u001b[0m\u001b[1;33m)\u001b[0m\u001b[1;33m\u001b[0m\u001b[1;33m\u001b[0m\u001b[0m\n\u001b[0m\u001b[0;32m     14\u001b[0m         \u001b[0mr2\u001b[0m \u001b[1;33m=\u001b[0m \u001b[0mmd\u001b[0m\u001b[1;33m[\u001b[0m\u001b[0mi\u001b[0m\u001b[1;33m]\u001b[0m\u001b[1;33m.\u001b[0m\u001b[0mget\u001b[0m\u001b[1;33m(\u001b[0m\u001b[0mord\u001b[0m\u001b[1;33m(\u001b[0m\u001b[1;34m'1'\u001b[0m\u001b[1;33m)\u001b[0m\u001b[1;33m,\u001b[0m \u001b[1;32mNone\u001b[0m\u001b[1;33m)\u001b[0m\u001b[1;33m\u001b[0m\u001b[1;33m\u001b[0m\u001b[0m\n\u001b[0;32m     15\u001b[0m \u001b[1;33m\u001b[0m\u001b[0m\n",
      "\u001b[1;31mTypeError\u001b[0m: ord() expected a character, but string of length 0 found"
     ]
    }
   ],
   "source": [
    "li = [[], [], []]\n",
    "for model_key, model in probability_model.models.items():\n",
    "    md = probability_model.models_distribution[model_key]\n",
    "    \n",
    "    data = pd.DataFrame(model, index=[0]).T[0]\n",
    "    data_size = data.sum()\n",
    "    data = data / data_size\n",
    "    \n",
    "    if data_size < 8 or not (data > 0.5).any():\n",
    "        continue\n",
    "    \n",
    "    for i in range(3):\n",
    "        r1 = md[i].get(ord(''), None)\n",
    "        r2 = md[i].get(ord('1'), None)\n",
    "        \n",
    "        if r1 is None or r2 is None:\n",
    "            continue\n",
    "        \n",
    "        r2 = (trust_factor(r2[1]) * r2[0])  / r2[1]\n",
    "        if not r2 > .75:\n",
    "            continue\n",
    "        \n",
    "        r1 = (trust_factor(r1[1]) * r1[0])  / r1[1]\n",
    "        li[i].append(r1*r2)\n"
   ]
  },
  {
   "cell_type": "code",
   "execution_count": 22,
   "metadata": {},
   "outputs": [
    {
     "name": "stdout",
     "output_type": "stream",
     "text": "trusted = True, size = 13, model = cou\ntrusted = True, size = 13, model = oun\ntrusted = True, size = 13, model = unt\ntrusted = True, size = 12, model = nt_\ntrusted = True, size = 11, model = t_1\ntrusted = True, size = 11, model = _1_\ntrusted = True, size = 13, model = 1_t\ntrusted = True, size = 13, model = _to\ntrusted = True, size = 67, model = ##0\ntrusted = True, size = 11, model = ~1~\ntrusted = True, size = 11, model = ~2~\ntrusted = True, size = 11, model = ~3~\ntrusted = True, size = 11, model = ~4~\ntrusted = True, size = 11, model = ~5~\ntrusted = True, size = 11, model = ~6~\ntrusted = True, size = 11, model = ~7~\ntrusted = True, size = 11, model = ~8~\ntrusted = True, size = 11, model = ~9~\ntrusted = True, size = 106, model = 1#~\ntrusted = True, size = 62, model = ##5\ntrusted = True, size = 55, model = ##6\ntrusted = True, size = 58, model = ##7\ntrusted = True, size = 55, model = ##8\ntrusted = True, size = 53, model = ##9\ntrusted = True, size = 48, model = 9##\ntrusted = True, size = 11, model = 0~c\ntrusted = True, size = 11, model = ~co\ntrusted = True, size = 10, model = o_#\ntrusted = False, size = 9, model = 2~3\ntrusted = True, size = 67, model = ~1#\ntrusted = True, size = 9, model = 1~1\ntrusted = True, size = 9, model = 2~1\ntrusted = True, size = 9, model = 3~1\ntrusted = True, size = 9, model = 4~1\ntrusted = True, size = 9, model = 5~1\ntrusted = True, size = 9, model = 6~1\ntrusted = True, size = 9, model = 7~1\ntrusted = True, size = 9, model = 8~1\ntrusted = True, size = 9, model = 19~\ntrusted = True, size = 24, model = ~#2\ntrusted = True, size = 26, model = ~#3\ntrusted = True, size = 88, model = 2#~\ntrusted = True, size = 55, model = ~2#\ntrusted = True, size = 211, model = ~##\ntrusted = True, size = 68, model = 3#~\ntrusted = True, size = 27, model = 3~#\ntrusted = True, size = 25, model = ~#4\ntrusted = True, size = 25, model = 4~#\ntrusted = True, size = 25, model = 5~#\ntrusted = True, size = 25, model = 6~#\ntrusted = True, size = 25, model = 7~#\ntrusted = True, size = 25, model = 8~#\ntrusted = True, size = 40, model = ~3#\ntrusted = True, size = 24, model = ~#5\ntrusted = True, size = 17, model = ~#1\ntrusted = True, size = 20, model = 1~#\ntrusted = True, size = 21, model = 2~#\ntrusted = True, size = 46, model = 4#~\ntrusted = True, size = 19, model = ~#6\ntrusted = True, size = 13, model = 0~#\ntrusted = True, size = 29, model = 5#~\ntrusted = True, size = 13, model = 9~#\ntrusted = True, size = 8, model = 0##\ntrusted = True, size = 13, model = ~#7\ntrusted = True, size = 8, model = ~4#\ntrusted = True, size = 11, model = 6#~\ntrusted = True, size = 9, model = 7#~\n"
    },
    {
     "ename": "ValueError",
     "evalue": "tuple.index(x): x not in tuple",
     "output_type": "error",
     "traceback": [
      "\u001b[1;31m---------------------------------------------------------------------------\u001b[0m",
      "\u001b[1;31mValueError\u001b[0m                                Traceback (most recent call last)",
      "\u001b[1;32m<ipython-input-22-133b81e27f1e>\u001b[0m in \u001b[0;36m<module>\u001b[1;34m\u001b[0m\n\u001b[0;32m     11\u001b[0m     \u001b[0mci\u001b[0m\u001b[1;33m,\u001b[0m \u001b[0mct\u001b[0m \u001b[1;33m=\u001b[0m \u001b[0mmodel_key\u001b[0m\u001b[1;33m\u001b[0m\u001b[1;33m\u001b[0m\u001b[0m\n\u001b[0;32m     12\u001b[0m     \u001b[1;32mfor\u001b[0m \u001b[0mindex\u001b[0m\u001b[1;33m,\u001b[0m \u001b[0midx\u001b[0m \u001b[1;32min\u001b[0m \u001b[0menumerate\u001b[0m\u001b[1;33m(\u001b[0m\u001b[0mci\u001b[0m\u001b[1;33m)\u001b[0m\u001b[1;33m:\u001b[0m\u001b[1;33m\u001b[0m\u001b[1;33m\u001b[0m\u001b[0m\n\u001b[1;32m---> 13\u001b[1;33m         \u001b[0mli\u001b[0m\u001b[1;33m[\u001b[0m\u001b[0midx\u001b[0m\u001b[1;33m]\u001b[0m \u001b[1;33m=\u001b[0m \u001b[0mtransformer\u001b[0m\u001b[1;33m.\u001b[0m\u001b[0mreverse\u001b[0m\u001b[1;33m(\u001b[0m\u001b[0mct\u001b[0m\u001b[1;33m[\u001b[0m\u001b[0mindex\u001b[0m\u001b[1;33m]\u001b[0m\u001b[1;33m)\u001b[0m\u001b[1;33m\u001b[0m\u001b[1;33m\u001b[0m\u001b[0m\n\u001b[0m\u001b[0;32m     14\u001b[0m \u001b[1;33m\u001b[0m\u001b[0m\n\u001b[0;32m     15\u001b[0m     \u001b[0mtrusted\u001b[0m \u001b[1;33m=\u001b[0m \u001b[1;33m(\u001b[0m\u001b[0mdata\u001b[0m \u001b[1;33m>\u001b[0m \u001b[1;36m0.5\u001b[0m\u001b[1;33m)\u001b[0m\u001b[1;33m.\u001b[0m\u001b[0many\u001b[0m\u001b[1;33m(\u001b[0m\u001b[1;33m)\u001b[0m\u001b[1;33m\u001b[0m\u001b[1;33m\u001b[0m\u001b[0m\n",
      "\u001b[1;32mc:\\Users\\christian\\Documents\\work\\python\\AGI\\GHOST\\transformer.py\u001b[0m in \u001b[0;36mreverse\u001b[1;34m(self, idx, to_chr)\u001b[0m\n\u001b[0;32m     24\u001b[0m     \u001b[1;32mdef\u001b[0m \u001b[0mreverse\u001b[0m\u001b[1;33m(\u001b[0m\u001b[0mself\u001b[0m\u001b[1;33m,\u001b[0m \u001b[0midx\u001b[0m\u001b[1;33m,\u001b[0m \u001b[0mto_chr\u001b[0m\u001b[1;33m=\u001b[0m\u001b[1;32mTrue\u001b[0m\u001b[1;33m)\u001b[0m\u001b[1;33m:\u001b[0m\u001b[1;33m\u001b[0m\u001b[1;33m\u001b[0m\u001b[0m\n\u001b[0;32m     25\u001b[0m         \u001b[1;34m''' collect idx derived from prime numbers list '''\u001b[0m\u001b[1;33m\u001b[0m\u001b[1;33m\u001b[0m\u001b[0m\n\u001b[1;32m---> 26\u001b[1;33m         \u001b[0mindex\u001b[0m \u001b[1;33m=\u001b[0m \u001b[0mself\u001b[0m\u001b[1;33m.\u001b[0m\u001b[0mPRIME_NUMBERS\u001b[0m\u001b[1;33m.\u001b[0m\u001b[0mindex\u001b[0m\u001b[1;33m(\u001b[0m\u001b[0midx\u001b[0m\u001b[1;33m)\u001b[0m \u001b[1;33m-\u001b[0m \u001b[0mself\u001b[0m\u001b[1;33m.\u001b[0m\u001b[0mOFFSET\u001b[0m\u001b[1;33m\u001b[0m\u001b[1;33m\u001b[0m\u001b[0m\n\u001b[0m\u001b[0;32m     27\u001b[0m \u001b[1;33m\u001b[0m\u001b[0m\n\u001b[0;32m     28\u001b[0m         \u001b[1;32mif\u001b[0m \u001b[0mto_chr\u001b[0m\u001b[1;33m:\u001b[0m\u001b[1;33m\u001b[0m\u001b[1;33m\u001b[0m\u001b[0m\n",
      "\u001b[1;31mValueError\u001b[0m: tuple.index(x): x not in tuple"
     ]
    }
   ],
   "source": [
    "for model_key, model in probability_model.models.items():\n",
    "    data = pd.DataFrame(model, index=[0]).T[0]\n",
    "    data_size = data.sum()\n",
    "    \n",
    "    if data_size < 8:\n",
    "        continue\n",
    "    \n",
    "    data = (data * trust_factor(data_size)) / data_size\n",
    "    \n",
    "    li = ['#'] * probability_model.context_size\n",
    "    ci, ct = model_key\n",
    "    for index, idx in enumerate(ci):\n",
    "        li[idx] = transformer.reverse(ct[index])\n",
    "\n",
    "    trusted = (data > 0.5).any()\n",
    "    print(f\"trusted = {trusted}, size = {data_size}, model = {''.join(li)}\")"
   ]
  },
  {
   "cell_type": "code",
   "execution_count": null,
   "metadata": {},
   "outputs": [],
   "source": []
  }
 ],
 "metadata": {
  "kernelspec": {
   "display_name": "GHOST_env",
   "language": "python",
   "name": "ghost_env"
  },
  "language_info": {
   "codemirror_mode": {
    "name": "ipython",
    "version": 3
   },
   "file_extension": ".py",
   "mimetype": "text/x-python",
   "name": "python",
   "nbconvert_exporter": "python",
   "pygments_lexer": "ipython3",
   "version": "3.7.2-final"
  }
 },
 "nbformat": 4,
 "nbformat_minor": 2
}