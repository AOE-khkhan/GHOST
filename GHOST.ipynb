{
 "cells": [
  {
   "cell_type": "code",
   "execution_count": 12,
   "metadata": {},
   "outputs": [],
   "source": [
    "import json\n",
    "from math import factorial\n",
    "from itertools import combinations\n",
    "\n",
    "import numpy as np\n",
    "from sklearn.model_selection import train_test_split\n",
    "from sklearn.linear_model import LinearRegression, LogisticRegression"
   ]
  },
  {
   "cell_type": "code",
   "execution_count": 13,
   "metadata": {},
   "outputs": [],
   "source": [
    "def read_json(filepath):\n",
    "    with open(filepath) as f:\n",
    "        return json.load(f)\n",
    "\n",
    "def c(n , r):\n",
    "    return factorial(n) // (factorial(n - r) * factorial(r))"
   ]
  },
  {
   "cell_type": "code",
   "execution_count": 14,
   "metadata": {},
   "outputs": [],
   "source": [
    "size = 3\n",
    "pgraphs = []\n",
    "\n",
    "size_range = range(size)\n",
    "combs = [combination for count in size_range for combination in combinations(size_range, count+1)]\n",
    "combination_size = len(combs)\n",
    "\n",
    "for i in range(combination_size):\n",
    "    pgraphs.append(\n",
    "        {\n",
    "            'graph':read_json(f'graph_{i}.json'),\n",
    "            'graph_data':read_json(f'graph_data_{i}.json'),\n",
    "            'graph_score':read_json(f'graph_score_{i}.json'),\n",
    "            'graph_accuracy':read_json(f'graph_accuracy_{i}.json')\n",
    "        }\n",
    "    )"
   ]
  },
  {
   "cell_type": "code",
   "execution_count": 15,
   "metadata": {},
   "outputs": [
    {
     "data": {
      "text/plain": [
       "(7, [(0,), (1,), (2,), (0, 1), (0, 2), (1, 2), (0, 1, 2)])"
      ]
     },
     "execution_count": 15,
     "metadata": {},
     "output_type": "execute_result"
    }
   ],
   "source": [
    "len(pgraphs), combs"
   ]
  },
  {
   "cell_type": "code",
   "execution_count": 16,
   "metadata": {},
   "outputs": [
    {
     "name": "stdout",
     "output_type": "stream",
     "text": [
      "0 ~ 0.8782051282051282 {'~': 138, 'u': 10, '6': 1, '7': 1, '8': 2, '9': 2, '1': 2}\n",
      "1 7 0.25806451612903225 {'t': 2, '~': 11, '_': 2, '5': 3, '8': 2, '1': 2, '2': 2, '3': 2, '4': 2, 'c': 1, '6': 1, '7': 1}\n",
      "2 ~ 0.10256410256410256 {'8': 10, '9': 7, 'c': 10, '5': 21, '6': 19, '7': 12, '1': 17, '2': 20, '3': 20, '4': 20}\n",
      "3 ~7 0.6666666666666666 {'8': 2, '~': 10}\n",
      "4 ~~ 0.0 {'6': 1, '7': 1, '8': 2, '9': 2, '1': 2}\n",
      "5 7~ 0.125 {'5': 3, '8': 2, '1': 2, '2': 2, '3': 2, '4': 2, 'c': 1, '6': 1, '7': 1}\n",
      "6 ~7~ 0.5 {'8': 2}\n"
     ]
    }
   ],
   "source": [
    "for i, ch in enumerate(['~', '7', '~', '~7', '~~', '7~', '~7~']):\n",
    "    print(i, ch, pgraphs[i]['graph_accuracy'][ch], pgraphs[i]['graph'][ch])"
   ]
  },
  {
   "cell_type": "code",
   "execution_count": 17,
   "metadata": {
    "scrolled": true
   },
   "outputs": [
    {
     "name": "stdout",
     "output_type": "stream",
     "text": [
      "[['~co', '~co', '~co', '~co', '~5~', '~6~', '~7~', '~8~', '~9~', '~co', '~co', '~co', '~co', '~co', '~co', '~7~', '~8~', '~9~'], ['~89', '~90', '~91', '~92', '~93', '~94', '~10', '~11', '~12', '~13', '~14', '~15', '~16', '~17', '~18', '~19', '~20', '~21', '~22', '~23', '~24', '~25', '~26', '~27', '~28', '~29', '~30', '~31', '~32', '~33', '~34', '~35', '~36', '~37', '~38', '~39', '~40', '~41', '~42', '~43', '~44', '~45', '~46', '~47', '~48', '~49', '~50', '~51', '~52', '~53', '~54', '~55', '~56', '~57', '~58', '~59', '~60', '~61', '~62', '~63', '~64', '~65', '~66', '~67', '~14', '~15', '~16', '~17', '~18', '~19', '~20', '~21', '~22', '~23', '~24', '~25', '~26', '~27', '~28', '~29', '~30', '~31', '~32', '~33', '~34', '~35', '~36', '~37', '~38', '~39', '~40', '~41', '~42', '~43', '~44', '~45', '~46', '~47', '~48', '~49', '~50', '~51', '~52', '~53', '~54', '~55', '~56', '~57', '~58', '~59', '~60', '~61', '~62', '~63', '~64', '~65', '~66', '~67', '~68', '~69', '~70', '~71', '~72', '~73', '~74', '~75', '~76', '~77', '~78', '~79', '~80', '~81', '~82', '~83', '~84', '~85', '~10']]\n"
     ]
    }
   ],
   "source": [
    "print(pgraphs[0]['graph_data']['~'])"
   ]
  },
  {
   "cell_type": "code",
   "execution_count": 41,
   "metadata": {},
   "outputs": [],
   "source": [
    "class Modeler:\n",
    "    def __init__(self):\n",
    "        # the input data\n",
    "        self.x = []\n",
    "        \n",
    "        # the output data\n",
    "        self.y = []\n",
    "        \n",
    "        #initialize model for classification and prediction\n",
    "        self.initialize_classifier()\n",
    "        \n",
    "    def initialize_classifier(self):\n",
    "        # define model\n",
    "        self.classifier = LogisticRegression(solver='liblinear')\n",
    "    \n",
    "    def add_data(self, context, label):\n",
    "        self.x.append(list(map(ord, context)))\n",
    "        self.y.append(label)\n",
    "        \n",
    "    def train(self):\n",
    "        x, y = np.array(self.x), np.array(self.y)\n",
    "        X_train, X_test, y_train, y_test = train_test_split(x, y, test_size=0.2)\n",
    "        \n",
    "        # fit the keras model on the dataset\n",
    "        self.classifier.fit(X_train, y_train)\n",
    "        \n",
    "        # make class predictions with the model\n",
    "        y_pred = self.classifier.predict(X_test)\n",
    "        \n",
    "        for i in range(len(X_test)):\n",
    "            score = '*' if y_test[i] != y_pred[i] else ''\n",
    "            print(f\"{X_test[i].tolist().__str__():15s} expected => {y_test[i]}, predicted => {y_pred[i]} {score}\")\n",
    "        \n",
    "        # calc accuracy\n",
    "        accuracy = self.classifier.score(X_test, y_test)\n",
    "        \n",
    "        return accuracy"
   ]
  },
  {
   "cell_type": "code",
   "execution_count": 34,
   "metadata": {},
   "outputs": [
    {
     "name": "stdout",
     "output_type": "stream",
     "text": [
      "[126, 50, 50]   expected => 1, predicted => 1 \n",
      "[126, 49, 49]   expected => 1, predicted => 1 \n",
      "[126, 53, 57]   expected => 1, predicted => 1 \n",
      "[126, 57, 48]   expected => 1, predicted => 1 \n",
      "[126, 52, 56]   expected => 1, predicted => 1 \n",
      "[126, 51, 50]   expected => 1, predicted => 1 \n",
      "[126, 56, 51]   expected => 1, predicted => 1 \n",
      "[126, 53, 56]   expected => 1, predicted => 1 \n",
      "[126, 52, 54]   expected => 1, predicted => 1 \n",
      "[126, 52, 52]   expected => 1, predicted => 1 \n",
      "[126, 49, 57]   expected => 1, predicted => 1 \n",
      "[126, 49, 55]   expected => 1, predicted => 1 \n",
      "[126, 57, 49]   expected => 1, predicted => 1 \n",
      "[126, 55, 126]  expected => 0, predicted => 0 \n",
      "[126, 51, 53]   expected => 1, predicted => 1 \n",
      "[126, 50, 53]   expected => 1, predicted => 1 \n",
      "[126, 51, 49]   expected => 1, predicted => 1 \n",
      "[126, 49, 52]   expected => 1, predicted => 1 \n",
      "[126, 50, 52]   expected => 1, predicted => 1 \n",
      "[126, 54, 57]   expected => 1, predicted => 1 \n",
      "[126, 55, 126]  expected => 0, predicted => 0 \n",
      "[126, 53, 52]   expected => 1, predicted => 1 \n",
      "[126, 50, 53]   expected => 1, predicted => 1 \n",
      "[126, 50, 49]   expected => 1, predicted => 1 \n",
      "[126, 51, 56]   expected => 1, predicted => 1 \n",
      "[126, 53, 53]   expected => 1, predicted => 1 \n",
      "[126, 56, 52]   expected => 1, predicted => 1 \n",
      "[126, 55, 57]   expected => 1, predicted => 1 \n",
      "[126, 52, 55]   expected => 1, predicted => 1 \n",
      "[126, 53, 49]   expected => 1, predicted => 1 \n",
      "[126, 52, 57]   expected => 1, predicted => 1 \n",
      "[126, 54, 55]   expected => 1, predicted => 1 \n"
     ]
    },
    {
     "data": {
      "text/plain": [
       "1.0"
      ]
     },
     "execution_count": 34,
     "metadata": {},
     "output_type": "execute_result"
    }
   ],
   "source": [
    "data = pgraphs[0]['graph_data']['~']\n",
    "\n",
    "modeler = Modeler()\n",
    "\n",
    "for index, li in enumerate(data):\n",
    "    for value in li:\n",
    "        modeler.add_data(value, index)\n",
    "        \n",
    "modeler.add_data('~x9', 0)\n",
    "modeler.train()"
   ]
  },
  {
   "cell_type": "code",
   "execution_count": 43,
   "metadata": {},
   "outputs": [
    {
     "ename": "ValueError",
     "evalue": "Expected 2D array, got 1D array instead:\narray=[].\nReshape your data either using array.reshape(-1, 1) if your data has a single feature or array.reshape(1, -1) if it contains a single sample.",
     "output_type": "error",
     "traceback": [
      "\u001b[1;31m---------------------------------------------------------------------------\u001b[0m",
      "\u001b[1;31mValueError\u001b[0m                                Traceback (most recent call last)",
      "\u001b[1;32m<ipython-input-43-ad0c52b3bff8>\u001b[0m in \u001b[0;36m<module>\u001b[1;34m\u001b[0m\n\u001b[0;32m      1\u001b[0m \u001b[0mmodeler\u001b[0m \u001b[1;33m=\u001b[0m \u001b[0mModeler\u001b[0m\u001b[1;33m(\u001b[0m\u001b[1;33m)\u001b[0m\u001b[1;33m\u001b[0m\u001b[1;33m\u001b[0m\u001b[0m\n\u001b[1;32m----> 2\u001b[1;33m \u001b[0mmodeler\u001b[0m\u001b[1;33m.\u001b[0m\u001b[0mclassifier\u001b[0m\u001b[1;33m.\u001b[0m\u001b[0mfit\u001b[0m\u001b[1;33m(\u001b[0m\u001b[0mnp\u001b[0m\u001b[1;33m.\u001b[0m\u001b[0marray\u001b[0m\u001b[1;33m(\u001b[0m\u001b[1;33m[\u001b[0m\u001b[1;33m]\u001b[0m\u001b[1;33m)\u001b[0m\u001b[1;33m,\u001b[0m \u001b[0mnp\u001b[0m\u001b[1;33m.\u001b[0m\u001b[0marray\u001b[0m\u001b[1;33m(\u001b[0m\u001b[1;33m[\u001b[0m\u001b[1;33m]\u001b[0m\u001b[1;33m)\u001b[0m\u001b[1;33m)\u001b[0m\u001b[1;33m\u001b[0m\u001b[1;33m\u001b[0m\u001b[0m\n\u001b[0m\u001b[0;32m      3\u001b[0m \u001b[0mtrial\u001b[0m \u001b[1;33m=\u001b[0m \u001b[1;34m'~z9'\u001b[0m\u001b[1;33m\u001b[0m\u001b[1;33m\u001b[0m\u001b[0m\n\u001b[0;32m      4\u001b[0m \u001b[0mmodeler\u001b[0m\u001b[1;33m.\u001b[0m\u001b[0mclassifier\u001b[0m\u001b[1;33m.\u001b[0m\u001b[0mpredict\u001b[0m\u001b[1;33m(\u001b[0m\u001b[0mnp\u001b[0m\u001b[1;33m.\u001b[0m\u001b[0marray\u001b[0m\u001b[1;33m(\u001b[0m\u001b[1;33m[\u001b[0m\u001b[0mlist\u001b[0m\u001b[1;33m(\u001b[0m\u001b[0mmap\u001b[0m\u001b[1;33m(\u001b[0m\u001b[0mord\u001b[0m\u001b[1;33m,\u001b[0m \u001b[0mtrial\u001b[0m\u001b[1;33m)\u001b[0m\u001b[1;33m)\u001b[0m\u001b[1;33m]\u001b[0m\u001b[1;33m)\u001b[0m\u001b[1;33m)\u001b[0m\u001b[1;33m,\u001b[0m \u001b[0mtrial\u001b[0m \u001b[1;32min\u001b[0m \u001b[0mdata\u001b[0m\u001b[1;33m[\u001b[0m\u001b[1;36m0\u001b[0m\u001b[1;33m]\u001b[0m\u001b[1;33m,\u001b[0m \u001b[0mtrial\u001b[0m \u001b[1;32min\u001b[0m \u001b[0mdata\u001b[0m\u001b[1;33m[\u001b[0m\u001b[1;36m1\u001b[0m\u001b[1;33m]\u001b[0m\u001b[1;33m\u001b[0m\u001b[1;33m\u001b[0m\u001b[0m\n",
      "\u001b[1;32mC:\\Program Files\\Python37\\lib\\site-packages\\sklearn\\linear_model\\logistic.py\u001b[0m in \u001b[0;36mfit\u001b[1;34m(self, X, y, sample_weight)\u001b[0m\n\u001b[0;32m   1286\u001b[0m \u001b[1;33m\u001b[0m\u001b[0m\n\u001b[0;32m   1287\u001b[0m         X, y = check_X_y(X, y, accept_sparse='csr', dtype=_dtype, order=\"C\",\n\u001b[1;32m-> 1288\u001b[1;33m                          accept_large_sparse=solver != 'liblinear')\n\u001b[0m\u001b[0;32m   1289\u001b[0m         \u001b[0mcheck_classification_targets\u001b[0m\u001b[1;33m(\u001b[0m\u001b[0my\u001b[0m\u001b[1;33m)\u001b[0m\u001b[1;33m\u001b[0m\u001b[1;33m\u001b[0m\u001b[0m\n\u001b[0;32m   1290\u001b[0m         \u001b[0mself\u001b[0m\u001b[1;33m.\u001b[0m\u001b[0mclasses_\u001b[0m \u001b[1;33m=\u001b[0m \u001b[0mnp\u001b[0m\u001b[1;33m.\u001b[0m\u001b[0munique\u001b[0m\u001b[1;33m(\u001b[0m\u001b[0my\u001b[0m\u001b[1;33m)\u001b[0m\u001b[1;33m\u001b[0m\u001b[1;33m\u001b[0m\u001b[0m\n",
      "\u001b[1;32mC:\\Program Files\\Python37\\lib\\site-packages\\sklearn\\utils\\validation.py\u001b[0m in \u001b[0;36mcheck_X_y\u001b[1;34m(X, y, accept_sparse, accept_large_sparse, dtype, order, copy, force_all_finite, ensure_2d, allow_nd, multi_output, ensure_min_samples, ensure_min_features, y_numeric, warn_on_dtype, estimator)\u001b[0m\n\u001b[0;32m    754\u001b[0m                     \u001b[0mensure_min_features\u001b[0m\u001b[1;33m=\u001b[0m\u001b[0mensure_min_features\u001b[0m\u001b[1;33m,\u001b[0m\u001b[1;33m\u001b[0m\u001b[1;33m\u001b[0m\u001b[0m\n\u001b[0;32m    755\u001b[0m                     \u001b[0mwarn_on_dtype\u001b[0m\u001b[1;33m=\u001b[0m\u001b[0mwarn_on_dtype\u001b[0m\u001b[1;33m,\u001b[0m\u001b[1;33m\u001b[0m\u001b[1;33m\u001b[0m\u001b[0m\n\u001b[1;32m--> 756\u001b[1;33m                     estimator=estimator)\n\u001b[0m\u001b[0;32m    757\u001b[0m     \u001b[1;32mif\u001b[0m \u001b[0mmulti_output\u001b[0m\u001b[1;33m:\u001b[0m\u001b[1;33m\u001b[0m\u001b[1;33m\u001b[0m\u001b[0m\n\u001b[0;32m    758\u001b[0m         y = check_array(y, 'csr', force_all_finite=True, ensure_2d=False,\n",
      "\u001b[1;32mC:\\Program Files\\Python37\\lib\\site-packages\\sklearn\\utils\\validation.py\u001b[0m in \u001b[0;36mcheck_array\u001b[1;34m(array, accept_sparse, accept_large_sparse, dtype, order, copy, force_all_finite, ensure_2d, allow_nd, ensure_min_samples, ensure_min_features, warn_on_dtype, estimator)\u001b[0m\n\u001b[0;32m    550\u001b[0m                     \u001b[1;34m\"Reshape your data either using array.reshape(-1, 1) if \"\u001b[0m\u001b[1;33m\u001b[0m\u001b[1;33m\u001b[0m\u001b[0m\n\u001b[0;32m    551\u001b[0m                     \u001b[1;34m\"your data has a single feature or array.reshape(1, -1) \"\u001b[0m\u001b[1;33m\u001b[0m\u001b[1;33m\u001b[0m\u001b[0m\n\u001b[1;32m--> 552\u001b[1;33m                     \"if it contains a single sample.\".format(array))\n\u001b[0m\u001b[0;32m    553\u001b[0m \u001b[1;33m\u001b[0m\u001b[0m\n\u001b[0;32m    554\u001b[0m         \u001b[1;31m# in the future np.flexible dtypes will be handled like object dtypes\u001b[0m\u001b[1;33m\u001b[0m\u001b[1;33m\u001b[0m\u001b[1;33m\u001b[0m\u001b[0m\n",
      "\u001b[1;31mValueError\u001b[0m: Expected 2D array, got 1D array instead:\narray=[].\nReshape your data either using array.reshape(-1, 1) if your data has a single feature or array.reshape(1, -1) if it contains a single sample."
     ]
    }
   ],
   "source": [
    "trial = '~z9'\n",
    "modeler.classifier.predict(np.array([list(map(ord, trial))])), trial in data[0], trial in data[1]"
   ]
  },
  {
   "cell_type": "code",
   "execution_count": 37,
   "metadata": {},
   "outputs": [],
   "source": [
    "# for i in range(len(modeler.x)):\n",
    "#     print(modeler.x[i], modeler.y[i])"
   ]
  },
  {
   "cell_type": "code",
   "execution_count": null,
   "metadata": {},
   "outputs": [],
   "source": [
    "class Modeler:\n",
    "    def __init__(self):\n",
    "        # the input data\n",
    "        self.x = []\n",
    "        \n",
    "        # the output data\n",
    "        self.y = []\n",
    "        \n",
    "        #initialize model for classification and prediction\n",
    "        self.initialize_classifier()\n",
    "        self.initialize_predictor()\n",
    "        \n",
    "    def initialize_classifier(self):\n",
    "        # define model\n",
    "        self.classifier = LogisticRegression(solver='liblinear')\n",
    "        \n",
    "    def initialize_predictor(self):\n",
    "        # define model\n",
    "        self.predictor = LinearRegression()\n",
    "    \n",
    "    def add_data(self, context, label):\n",
    "        self.x.append(list(map(ord, context)))\n",
    "        self.y.append(label)\n",
    "        \n",
    "    def train(self):\n",
    "        x, y = np.array(self.x), np.array(self.y)\n",
    "        X_train, X_test, y_train, y_test = train_test_split(x, y, test_size=0.2)\n",
    "        \n",
    "        # fit the classifier on the dataset\n",
    "        self.classifier.fit(X_train, y_train)\n",
    "        \n",
    "        # fit the predictor on the dataset\n",
    "        self.predictor.fit(X_train, y_train)\n",
    "        \n",
    "        # make class predictions with the classifier\n",
    "        y_class_pred = self.classifier.predict(X_test)\n",
    "        \n",
    "        # make predictor predictions with the predictor\n",
    "        y_pred = self.predictor.predict(X_test)\n",
    "        \n",
    "        for i in range(len(X_test)):\n",
    "            score = '*' if y_test[i] != y_class_pred[i] else ''\n",
    "            print(f\"{X_test[i].tolist().__str__():15s} expected => {y_test[i]}, predicted => {y_class_pred[i]} {score}\")\n",
    "        \n",
    "        # calc accuracy\n",
    "        classifier_accuracy = self.classifier.score(X_test, y_test)\n",
    "        predictor_accuracy = self.predictor.score(X_test, y_test)\n",
    "        \n",
    "        return accuracy"
   ]
  }
 ],
 "metadata": {
  "kernelspec": {
   "display_name": "GHOST_env",
   "language": "python",
   "name": "ghost_env"
  },
  "language_info": {
   "codemirror_mode": {
    "name": "ipython",
    "version": 3
   },
   "file_extension": ".py",
   "mimetype": "text/x-python",
   "name": "python",
   "nbconvert_exporter": "python",
   "pygments_lexer": "ipython3",
   "version": "3.7.2"
  }
 },
 "nbformat": 4,
 "nbformat_minor": 2
}
