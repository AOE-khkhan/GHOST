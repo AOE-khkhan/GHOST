{
 "cells": [
  {
   "cell_type": "code",
   "execution_count": 246,
   "metadata": {},
   "outputs": [],
   "source": [
    "import json\n",
    "from math import factorial\n",
    "from itertools import combinations\n",
    "\n",
    "# first neural network with keras make predictions\n",
    "from keras.models import Sequential\n",
    "from keras.layers import Dense, Conv1D, Flatten\n",
    "\n",
    "import numpy as np\n",
    "from sklearn.model_selection import train_test_split"
   ]
  },
  {
   "cell_type": "code",
   "execution_count": 2,
   "metadata": {},
   "outputs": [],
   "source": [
    "def read_json(filepath):\n",
    "    with open(filepath) as f:\n",
    "        return json.load(f)\n",
    "\n",
    "def c(n , r):\n",
    "    return factorial(n) // (factorial(n - r) * factorial(r))"
   ]
  },
  {
   "cell_type": "code",
   "execution_count": 3,
   "metadata": {},
   "outputs": [],
   "source": [
    "size = 3\n",
    "pgraphs = []\n",
    "\n",
    "size_range = range(size)\n",
    "combs = [combination for count in size_range for combination in combinations(size_range, count+1)]\n",
    "combination_size = len(combs)\n",
    "\n",
    "for i in range(combination_size):\n",
    "    pgraphs.append(\n",
    "        {\n",
    "            'graph':read_json(f'graph_{i}.json'),\n",
    "            'graph_data':read_json(f'graph_data_{i}.json'),\n",
    "            'graph_score':read_json(f'graph_score_{i}.json'),\n",
    "            'graph_accuracy':read_json(f'graph_accuracy_{i}.json')\n",
    "        }\n",
    "    )"
   ]
  },
  {
   "cell_type": "code",
   "execution_count": 4,
   "metadata": {},
   "outputs": [
    {
     "data": {
      "text/plain": [
       "(7, [(0,), (1,), (2,), (0, 1), (0, 2), (1, 2), (0, 1, 2)])"
      ]
     },
     "execution_count": 4,
     "metadata": {},
     "output_type": "execute_result"
    }
   ],
   "source": [
    "len(pgraphs), combs"
   ]
  },
  {
   "cell_type": "code",
   "execution_count": 5,
   "metadata": {},
   "outputs": [
    {
     "name": "stdout",
     "output_type": "stream",
     "text": [
      "0 ~ 0.8782051282051282 {'~': 138, 'u': 10, '6': 1, '7': 1, '8': 2, '9': 2, '1': 2}\n",
      "1 7 0.25806451612903225 {'t': 2, '~': 11, '_': 2, '5': 3, '8': 2, '1': 2, '2': 2, '3': 2, '4': 2, 'c': 1, '6': 1, '7': 1}\n",
      "2 ~ 0.10256410256410256 {'8': 10, '9': 7, 'c': 10, '5': 21, '6': 19, '7': 12, '1': 17, '2': 20, '3': 20, '4': 20}\n",
      "3 ~7 0.6666666666666666 {'8': 2, '~': 10}\n",
      "4 ~~ 0.0 {'6': 1, '7': 1, '8': 2, '9': 2, '1': 2}\n",
      "5 7~ 0.125 {'5': 3, '8': 2, '1': 2, '2': 2, '3': 2, '4': 2, 'c': 1, '6': 1, '7': 1}\n",
      "6 ~7~ 0.5 {'8': 2}\n"
     ]
    }
   ],
   "source": [
    "for i, ch in enumerate(['~', '7', '~', '~7', '~~', '7~', '~7~']):\n",
    "    print(i, ch, pgraphs[i]['graph_accuracy'][ch], pgraphs[i]['graph'][ch])"
   ]
  },
  {
   "cell_type": "code",
   "execution_count": 6,
   "metadata": {},
   "outputs": [
    {
     "name": "stdout",
     "output_type": "stream",
     "text": [
      "[['~co', '~co', '~co', '~co', '~5~', '~6~', '~7~', '~8~', '~9~', '~co', '~co', '~co', '~co', '~co', '~co', '~7~', '~8~', '~9~'], ['~89', '~90', '~91', '~92', '~93', '~94', '~10', '~11', '~12', '~13', '~14', '~15', '~16', '~17', '~18', '~19', '~20', '~21', '~22', '~23', '~24', '~25', '~26', '~27', '~28', '~29', '~30', '~31', '~32', '~33', '~34', '~35', '~36', '~37', '~38', '~39', '~40', '~41', '~42', '~43', '~44', '~45', '~46', '~47', '~48', '~49', '~50', '~51', '~52', '~53', '~54', '~55', '~56', '~57', '~58', '~59', '~60', '~61', '~62', '~63', '~64', '~65', '~66', '~67', '~14', '~15', '~16', '~17', '~18', '~19', '~20', '~21', '~22', '~23', '~24', '~25', '~26', '~27', '~28', '~29', '~30', '~31', '~32', '~33', '~34', '~35', '~36', '~37', '~38', '~39', '~40', '~41', '~42', '~43', '~44', '~45', '~46', '~47', '~48', '~49', '~50', '~51', '~52', '~53', '~54', '~55', '~56', '~57', '~58', '~59', '~60', '~61', '~62', '~63', '~64', '~65', '~66', '~67', '~68', '~69', '~70', '~71', '~72', '~73', '~74', '~75', '~76', '~77', '~78', '~79', '~80', '~81', '~82', '~83', '~84', '~85', '~10']]\n"
     ]
    }
   ],
   "source": [
    "print()"
   ]
  },
  {
   "cell_type": "code",
   "execution_count": 17,
   "metadata": {},
   "outputs": [
    {
     "data": {
      "text/plain": [
       "array([[126,  56,  57],\n",
       "       [126,  57,  48],\n",
       "       [126,  57,  49],\n",
       "       [126,  57,  50],\n",
       "       [126,  57,  51],\n",
       "       [126,  57,  52],\n",
       "       [126,  49,  48],\n",
       "       [126,  49,  49],\n",
       "       [126,  49,  50],\n",
       "       [126,  49,  51],\n",
       "       [126,  49,  52],\n",
       "       [126,  49,  53],\n",
       "       [126,  49,  54],\n",
       "       [126,  49,  55],\n",
       "       [126,  49,  56],\n",
       "       [126,  49,  57],\n",
       "       [126,  50,  48],\n",
       "       [126,  50,  49],\n",
       "       [126,  50,  50],\n",
       "       [126,  50,  51],\n",
       "       [126,  50,  52],\n",
       "       [126,  50,  53],\n",
       "       [126,  50,  54],\n",
       "       [126,  50,  55],\n",
       "       [126,  50,  56],\n",
       "       [126,  50,  57],\n",
       "       [126,  51,  48],\n",
       "       [126,  51,  49],\n",
       "       [126,  51,  50],\n",
       "       [126,  51,  51],\n",
       "       [126,  51,  52],\n",
       "       [126,  51,  53],\n",
       "       [126,  51,  54],\n",
       "       [126,  51,  55],\n",
       "       [126,  51,  56],\n",
       "       [126,  51,  57],\n",
       "       [126,  52,  48],\n",
       "       [126,  52,  49],\n",
       "       [126,  52,  50],\n",
       "       [126,  52,  51],\n",
       "       [126,  52,  52],\n",
       "       [126,  52,  53],\n",
       "       [126,  52,  54],\n",
       "       [126,  52,  55],\n",
       "       [126,  52,  56],\n",
       "       [126,  52,  57],\n",
       "       [126,  53,  48],\n",
       "       [126,  53,  49],\n",
       "       [126,  53,  50],\n",
       "       [126,  53,  51],\n",
       "       [126,  53,  52],\n",
       "       [126,  53,  53],\n",
       "       [126,  53,  54],\n",
       "       [126,  53,  55],\n",
       "       [126,  53,  56],\n",
       "       [126,  53,  57],\n",
       "       [126,  54,  48],\n",
       "       [126,  54,  49],\n",
       "       [126,  54,  50],\n",
       "       [126,  54,  51],\n",
       "       [126,  54,  52],\n",
       "       [126,  54,  53],\n",
       "       [126,  54,  54],\n",
       "       [126,  54,  55],\n",
       "       [126,  49,  52],\n",
       "       [126,  49,  53],\n",
       "       [126,  49,  54],\n",
       "       [126,  49,  55],\n",
       "       [126,  49,  56],\n",
       "       [126,  49,  57],\n",
       "       [126,  50,  48],\n",
       "       [126,  50,  49],\n",
       "       [126,  50,  50],\n",
       "       [126,  50,  51],\n",
       "       [126,  50,  52],\n",
       "       [126,  50,  53],\n",
       "       [126,  50,  54],\n",
       "       [126,  50,  55],\n",
       "       [126,  50,  56],\n",
       "       [126,  50,  57],\n",
       "       [126,  51,  48],\n",
       "       [126,  51,  49],\n",
       "       [126,  51,  50],\n",
       "       [126,  51,  51],\n",
       "       [126,  51,  52],\n",
       "       [126,  51,  53],\n",
       "       [126,  51,  54],\n",
       "       [126,  51,  55],\n",
       "       [126,  51,  56],\n",
       "       [126,  51,  57],\n",
       "       [126,  52,  48],\n",
       "       [126,  52,  49],\n",
       "       [126,  52,  50],\n",
       "       [126,  52,  51],\n",
       "       [126,  52,  52],\n",
       "       [126,  52,  53],\n",
       "       [126,  52,  54],\n",
       "       [126,  52,  55],\n",
       "       [126,  52,  56],\n",
       "       [126,  52,  57],\n",
       "       [126,  53,  48],\n",
       "       [126,  53,  49],\n",
       "       [126,  53,  50],\n",
       "       [126,  53,  51],\n",
       "       [126,  53,  52],\n",
       "       [126,  53,  53],\n",
       "       [126,  53,  54],\n",
       "       [126,  53,  55],\n",
       "       [126,  53,  56],\n",
       "       [126,  53,  57],\n",
       "       [126,  54,  48],\n",
       "       [126,  54,  49],\n",
       "       [126,  54,  50],\n",
       "       [126,  54,  51],\n",
       "       [126,  54,  52],\n",
       "       [126,  54,  53],\n",
       "       [126,  54,  54],\n",
       "       [126,  54,  55],\n",
       "       [126,  54,  56],\n",
       "       [126,  54,  57],\n",
       "       [126,  55,  48],\n",
       "       [126,  55,  49],\n",
       "       [126,  55,  50],\n",
       "       [126,  55,  51],\n",
       "       [126,  55,  52],\n",
       "       [126,  55,  53],\n",
       "       [126,  55,  54],\n",
       "       [126,  55,  55],\n",
       "       [126,  55,  56],\n",
       "       [126,  55,  57],\n",
       "       [126,  56,  48],\n",
       "       [126,  56,  49],\n",
       "       [126,  56,  50],\n",
       "       [126,  56,  51],\n",
       "       [126,  56,  52],\n",
       "       [126,  56,  53],\n",
       "       [126,  49,  48]])"
      ]
     },
     "execution_count": 17,
     "metadata": {},
     "output_type": "execute_result"
    }
   ],
   "source": [
    "data = pgraphs[0]['graph_data']['~']\n",
    "X, y = [], []\n",
    "\n",
    "rg = []\n",
    "for index, li in enumerate(data):\n",
    "    rg.append(len(li))\n",
    "    \n",
    "    for value in li:\n",
    "        X.append(list(map(ord, value)))\n",
    "        \n",
    "X = np.array(X)\n",
    "y = np.concatenate([np.zeros(rg[0]), np.ones(rg[1])])\n",
    "X[y == 1]"
   ]
  },
  {
   "cell_type": "code",
   "execution_count": 20,
   "metadata": {},
   "outputs": [],
   "source": [
    "X_train, X_test, y_train, y_test = train_test_split(X, y, test_size=0.2, random_state=42)"
   ]
  },
  {
   "cell_type": "code",
   "execution_count": 97,
   "metadata": {},
   "outputs": [],
   "source": [
    "# define the keras model\n",
    "model = Sequential()\n",
    "model.add(Dense(3, input_dim=3, activation='relu'))\n",
    "model.add(Dense(7, activation='relu'))\n",
    "model.add(Dense(5, activation='relu'))\n",
    "model.add(Dense(3, activation='relu'))\n",
    "model.add(Dense(1, activation='sigmoid'))\n",
    "\n",
    "# compile the keras model\n",
    "model.compile(loss='mse', optimizer='adam')"
   ]
  },
  {
   "cell_type": "code",
   "execution_count": 98,
   "metadata": {},
   "outputs": [
    {
     "name": "stdout",
     "output_type": "stream",
     "text": [
      "Train on 93 samples, validate on 31 samples\n",
      "Epoch 1/32\n",
      "93/93 [==============================] - 0s 2ms/step - loss: 2.8150e-06 - val_loss: 2.5512e-09\n",
      "Epoch 2/32\n",
      "93/93 [==============================] - 0s 161us/step - loss: 1.6679e-07 - val_loss: 1.3101e-10\n",
      "Epoch 3/32\n",
      "93/93 [==============================] - 0s 204us/step - loss: 4.8920e-08 - val_loss: 2.2684e-11\n",
      "Epoch 4/32\n",
      "93/93 [==============================] - 0s 183us/step - loss: 1.7608e-08 - val_loss: 9.3814e-12\n",
      "Epoch 5/32\n",
      "93/93 [==============================] - 0s 226us/step - loss: 9.5063e-09 - val_loss: 7.0449e-12\n",
      "Epoch 6/32\n",
      "93/93 [==============================] - 0s 194us/step - loss: 6.4170e-09 - val_loss: 6.7774e-12\n",
      "Epoch 7/32\n",
      "93/93 [==============================] - 0s 194us/step - loss: 5.0630e-09 - val_loss: 6.9657e-12\n",
      "Epoch 8/32\n",
      "93/93 [==============================] - 0s 183us/step - loss: 4.3951e-09 - val_loss: 7.1269e-12\n",
      "Epoch 9/32\n",
      "93/93 [==============================] - 0s 183us/step - loss: 4.0460e-09 - val_loss: 7.3145e-12\n",
      "Epoch 10/32\n",
      "93/93 [==============================] - 0s 194us/step - loss: 3.8348e-09 - val_loss: 7.2965e-12\n",
      "Epoch 11/32\n",
      "93/93 [==============================] - 0s 237us/step - loss: 3.6859e-09 - val_loss: 7.3698e-12\n",
      "Epoch 12/32\n",
      "93/93 [==============================] - 0s 215us/step - loss: 3.6000e-09 - val_loss: 7.2632e-12\n",
      "Epoch 13/32\n",
      "93/93 [==============================] - 0s 172us/step - loss: 3.5169e-09 - val_loss: 7.2724e-12\n",
      "Epoch 14/32\n",
      "93/93 [==============================] - 0s 204us/step - loss: 3.4465e-09 - val_loss: 7.2186e-12\n",
      "Epoch 15/32\n",
      "93/93 [==============================] - 0s 204us/step - loss: 3.3767e-09 - val_loss: 7.1859e-12\n",
      "Epoch 16/32\n",
      "93/93 [==============================] - 0s 204us/step - loss: 3.3077e-09 - val_loss: 7.1211e-12\n",
      "Epoch 17/32\n",
      "93/93 [==============================] - 0s 226us/step - loss: 3.2608e-09 - val_loss: 7.0432e-12\n",
      "Epoch 18/32\n",
      "93/93 [==============================] - 0s 204us/step - loss: 3.1860e-09 - val_loss: 6.9513e-12\n",
      "Epoch 19/32\n",
      "93/93 [==============================] - 0s 237us/step - loss: 3.1397e-09 - val_loss: 6.9164e-12\n",
      "Epoch 20/32\n",
      "93/93 [==============================] - 0s 172us/step - loss: 3.0721e-09 - val_loss: 6.7751e-12\n",
      "Epoch 21/32\n",
      "93/93 [==============================] - 0s 204us/step - loss: 3.0279e-09 - val_loss: 6.6700e-12\n",
      "Epoch 22/32\n",
      "93/93 [==============================] - 0s 183us/step - loss: 2.9941e-09 - val_loss: 6.5897e-12\n",
      "Epoch 23/32\n",
      "93/93 [==============================] - ETA: 0s - loss: 4.3603e-1 - 0s 183us/step - loss: 2.9558e-09 - val_loss: 6.5126e-12\n",
      "Epoch 24/32\n",
      "93/93 [==============================] - 0s 204us/step - loss: 2.9157e-09 - val_loss: 6.4433e-12\n",
      "Epoch 25/32\n",
      "93/93 [==============================] - 0s 194us/step - loss: 2.8878e-09 - val_loss: 6.3642e-12\n",
      "Epoch 26/32\n",
      "93/93 [==============================] - 0s 215us/step - loss: 2.8541e-09 - val_loss: 6.2431e-12\n",
      "Epoch 27/32\n",
      "93/93 [==============================] - 0s 226us/step - loss: 2.8164e-09 - val_loss: 6.2157e-12\n",
      "Epoch 28/32\n",
      "93/93 [==============================] - 0s 204us/step - loss: 2.7868e-09 - val_loss: 6.0732e-12\n",
      "Epoch 29/32\n",
      "93/93 [==============================] - 0s 183us/step - loss: 2.7429e-09 - val_loss: 5.9396e-12\n",
      "Epoch 30/32\n",
      "93/93 [==============================] - 0s 215us/step - loss: 2.7170e-09 - val_loss: 5.8116e-12\n",
      "Epoch 31/32\n",
      "93/93 [==============================] - 0s 194us/step - loss: 2.6812e-09 - val_loss: 5.8349e-12\n",
      "Epoch 32/32\n",
      "93/93 [==============================] - 0s 226us/step - loss: 2.6499e-09 - val_loss: 5.6988e-12\n"
     ]
    },
    {
     "data": {
      "text/plain": [
       "<keras.callbacks.callbacks.History at 0x258444ca320>"
      ]
     },
     "execution_count": 98,
     "metadata": {},
     "output_type": "execute_result"
    }
   ],
   "source": [
    "# fit the keras model on the dataset\n",
    "model.fit(X_train, y_train, epochs=32, batch_size=16, verbose=1, validation_split=0.25)"
   ]
  },
  {
   "cell_type": "code",
   "execution_count": 144,
   "metadata": {},
   "outputs": [
    {
     "data": {
      "text/plain": [
       "137"
      ]
     },
     "execution_count": 144,
     "metadata": {},
     "output_type": "execute_result"
    }
   ],
   "source": [
    "len(y[y==1])"
   ]
  },
  {
   "cell_type": "code",
   "execution_count": 99,
   "metadata": {},
   "outputs": [],
   "source": [
    "# make class predictions with the model\n",
    "predictions = model.predict(X_test)"
   ]
  },
  {
   "cell_type": "code",
   "execution_count": 109,
   "metadata": {},
   "outputs": [
    {
     "name": "stdout",
     "output_type": "stream",
     "text": [
      "accuracy = 100.0%\n"
     ]
    }
   ],
   "source": [
    "accuracy = ((predictions > 0.5).flatten().astype('int') == y_test).mean() * 100\n",
    "print(f'accuracy = {accuracy}%')"
   ]
  },
  {
   "cell_type": "code",
   "execution_count": 287,
   "metadata": {},
   "outputs": [
    {
     "name": "stderr",
     "output_type": "stream",
     "text": [
      "C:\\Program Files\\Python37\\lib\\site-packages\\sklearn\\linear_model\\logistic.py:433: FutureWarning: Default solver will be changed to 'lbfgs' in 0.22. Specify a solver to silence this warning.\n",
      "  FutureWarning)\n"
     ]
    },
    {
     "data": {
      "text/plain": [
       "LogisticRegression(C=1.0, class_weight=None, dual=False, fit_intercept=True,\n",
       "          intercept_scaling=1, max_iter=100, multi_class='warn',\n",
       "          n_jobs=None, penalty='l2', random_state=None, solver='warn',\n",
       "          tol=0.0001, verbose=0, warm_start=False)"
      ]
     },
     "execution_count": 287,
     "metadata": {},
     "output_type": "execute_result"
    }
   ],
   "source": [
    "from sklearn.linear_model import LogisticRegression\n",
    "from sklearn import metrics\n",
    "\n",
    "X_train, X_test, y_train, y_test = train_test_split(X, y, test_size=0.2)\n",
    "logreg = LogisticRegression()\n",
    "logreg.fit(X_train, y_train)"
   ]
  },
  {
   "cell_type": "code",
   "execution_count": 288,
   "metadata": {},
   "outputs": [
    {
     "name": "stdout",
     "output_type": "stream",
     "text": [
      "Accuracy of logistic regression classifier on test set: 1.00\n"
     ]
    }
   ],
   "source": [
    "y_pred = logreg.predict(X_test)\n",
    "print('Accuracy of logistic regression classifier on test set: {:.2f}'.format(logreg.score(X_test, y_test)))"
   ]
  },
  {
   "cell_type": "code",
   "execution_count": 302,
   "metadata": {},
   "outputs": [
    {
     "data": {
      "text/plain": [
       "(array([1.]), False, False)"
      ]
     },
     "execution_count": 302,
     "metadata": {},
     "output_type": "execute_result"
    }
   ],
   "source": [
    "trial = '~z9'\n",
    "logreg.predict(np.array([list(map(ord, trial))])), trial in data[0], trial in data[1]"
   ]
  },
  {
   "cell_type": "code",
   "execution_count": 103,
   "metadata": {},
   "outputs": [
    {
     "name": "stdout",
     "output_type": "stream",
     "text": [
      "[126, 54, 55] => 1 (expected 1)\n",
      "[126, 55, 52] => 1 (expected 1)\n",
      "[126, 49, 55] => 1 (expected 1)\n",
      "[126, 49, 53] => 1 (expected 1)\n",
      "[126, 53, 48] => 1 (expected 1)\n",
      "[126, 52, 54] => 1 (expected 1)\n",
      "[126, 50, 53] => 1 (expected 1)\n",
      "[126, 55, 57] => 1 (expected 1)\n",
      "[126, 56, 53] => 1 (expected 1)\n",
      "[126, 53, 52] => 1 (expected 1)\n",
      "[126, 50, 56] => 1 (expected 1)\n",
      "[126, 55, 48] => 1 (expected 1)\n",
      "[126, 54, 52] => 1 (expected 1)\n",
      "[126, 54, 49] => 1 (expected 1)\n",
      "[126, 55, 126] => 0 (expected 0)\n",
      "[126, 57, 48] => 1 (expected 1)\n",
      "[126, 49, 54] => 1 (expected 1)\n",
      "[126, 50, 50] => 1 (expected 1)\n",
      "[126, 52, 57] => 1 (expected 1)\n",
      "[126, 54, 57] => 1 (expected 1)\n",
      "[126, 56, 57] => 1 (expected 1)\n",
      "[126, 99, 111] => 0 (expected 0)\n",
      "[126, 99, 111] => 0 (expected 0)\n",
      "[126, 49, 48] => 1 (expected 1)\n",
      "[126, 53, 53] => 1 (expected 1)\n",
      "[126, 54, 51] => 1 (expected 1)\n",
      "[126, 50, 55] => 1 (expected 1)\n",
      "[126, 51, 49] => 1 (expected 1)\n",
      "[126, 49, 56] => 1 (expected 1)\n",
      "[126, 49, 54] => 1 (expected 1)\n",
      "[126, 53, 56] => 1 (expected 1)\n"
     ]
    }
   ],
   "source": [
    "# summarize the first 5 cases\n",
    "for i in range(len(X_test)):\n",
    "    print('%s => %d (expected %d)' % (X_test[i].tolist(), predictions[i] > 0.5, y_test[i]))"
   ]
  },
  {
   "cell_type": "code",
   "execution_count": 110,
   "metadata": {},
   "outputs": [
    {
     "data": {
      "text/plain": [
       "array([[0.00029663]], dtype=float32)"
      ]
     },
     "execution_count": 110,
     "metadata": {},
     "output_type": "execute_result"
    }
   ],
   "source": [
    "model.predict(np.array([list(map(ord, '~2~'))]))\n",
    "# [list(map(ord, '123'))]"
   ]
  },
  {
   "cell_type": "code",
   "execution_count": 283,
   "metadata": {},
   "outputs": [],
   "source": [
    "class NeuralNet:\n",
    "    def __init__(self):\n",
    "        # the input data\n",
    "        self.x = []\n",
    "        \n",
    "        # the output data\n",
    "        self.y = []\n",
    "        \n",
    "        #initialize model for training\n",
    "        self.initialize_model()\n",
    "        \n",
    "    def initialize_model(self):\n",
    "        # define the keras model\n",
    "        model = Sequential()\n",
    "        model.add(Dense(3, input_dim=3, activation='relu'))\n",
    "        model.add(Dense(7, activation='relu'))\n",
    "# #         model.add(Dense(5, activation='sigmoid'))\n",
    "#         model.add(Dense(3, activation='sigmoid'))\n",
    "        model.add(Dense(1))\n",
    "\n",
    "        # compile the keras model\n",
    "        model.compile(loss='binary_crossentropy', optimizer='rmsprop')\n",
    "        \n",
    "        # the model of the network\n",
    "        self.model = model\n",
    "    \n",
    "    def add_data(self, context, label):\n",
    "        self.x.append(list(map(ord, context)))\n",
    "        self.y.append(label)\n",
    "        \n",
    "    def train(self):\n",
    "        x, y = np.array(self.x), np.array(self.y)\n",
    "        \n",
    "        on, off = np.where(y==1)[0], np.where(y==0)[0]\n",
    "        size = min(len(on), len(off))\n",
    "        \n",
    "        if len(on) < len(off):\n",
    "            x = np.concatenate([x[on] for _ in range(len(off)//size)] + [x[off]])\n",
    "            y = np.concatenate([y[on] for _ in range(len(off)//size)] + [y[off]])\n",
    "            \n",
    "        else:\n",
    "            indices = np.random.randint(len(on), size=len(off))\n",
    "            x = np.concatenate([x[off] for _ in range(len(on)//size)] + [x[on]])\n",
    "            y = np.concatenate([y[off] for _ in range(len(on)//size)] + [y[on]])\n",
    "        \n",
    "        X_train, X_test, y_train, y_test = train_test_split(x, y, test_size=0.2)\n",
    "        \n",
    "        # fit the keras model on the dataset\n",
    "        self.model.fit(X_train, y_train, epochs=16, batch_size=8, verbose=0, validation_split=0.25)\n",
    "        self.model.fit(X_train, y_train, epochs=16, batch_size=8, verbose=0, validation_split=0.25)\n",
    "        \n",
    "        # make class predictions with the model\n",
    "        predictions = self.model.predict(X_test)\n",
    "        \n",
    "        # calc accuracy\n",
    "        accuracy = ((predictions > 0.5).flatten().astype('int') == y_test).mean()\n",
    "        \n",
    "        return accuracy"
   ]
  },
  {
   "cell_type": "code",
   "execution_count": 284,
   "metadata": {},
   "outputs": [
    {
     "data": {
      "text/plain": [
       "0.5660377358490566"
      ]
     },
     "execution_count": 284,
     "metadata": {},
     "output_type": "execute_result"
    }
   ],
   "source": [
    "data = pgraphs[0]['graph_data']['~']\n",
    "\n",
    "nn = NeuralNet()\n",
    "\n",
    "for index, li in enumerate(data):\n",
    "    for value in li:\n",
    "        nn.add_data(value, index)\n",
    "\n",
    "nn.train()"
   ]
  },
  {
   "cell_type": "code",
   "execution_count": 218,
   "metadata": {},
   "outputs": [],
   "source": [
    "# make class predictions with the model\n",
    "predictions = nn.model.predict(X_test)\n",
    "\n",
    "# # summarize the first 5 cases\n",
    "# for i in range(len(X_test)):\n",
    "#     print('%s => %d (expected %d)' % (X_test[i].tolist(), predictions[i] > 0.5, y_test[i]))"
   ]
  },
  {
   "cell_type": "code",
   "execution_count": null,
   "metadata": {},
   "outputs": [],
   "source": []
  }
 ],
 "metadata": {
  "kernelspec": {
   "display_name": "GHOST_env",
   "language": "python",
   "name": "ghost_env"
  },
  "language_info": {
   "codemirror_mode": {
    "name": "ipython",
    "version": 3
   },
   "file_extension": ".py",
   "mimetype": "text/x-python",
   "name": "python",
   "nbconvert_exporter": "python",
   "pygments_lexer": "ipython3",
   "version": "3.7.2"
  }
 },
 "nbformat": 4,
 "nbformat_minor": 2
}
