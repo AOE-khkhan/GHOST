{
 "cells": [
  {
   "cell_type": "code",
   "execution_count": 151,
   "metadata": {},
   "outputs": [],
   "source": [
    "%load_ext autoreload\n",
    "%autoreload 2"
   ]
  },
  {
   "cell_type": "code",
   "execution_count": 152,
   "metadata": {},
   "outputs": [],
   "source": [
    "import json, pickle\n",
    "from math import factorial\n",
    "from itertools import combinations\n",
    "\n",
    "import numpy as np\n",
    "from matplotlib import pyplot as plt"
   ]
  },
  {
   "cell_type": "code",
   "execution_count": 153,
   "metadata": {},
   "outputs": [],
   "source": [
    "def read_json(filepath):\n",
    "    with open(filepath) as f:\n",
    "        return json.load(f)\n",
    "\n",
    "def c(n , r):\n",
    "    return factorial(n) // (factorial(n - r) * factorial(r))"
   ]
  },
  {
   "cell_type": "code",
   "execution_count": 220,
   "metadata": {},
   "outputs": [
    {
     "data": {
      "text/plain": [
       "255"
      ]
     },
     "execution_count": 220,
     "metadata": {},
     "output_type": "execute_result"
    }
   ],
   "source": [
    "size = 8\n",
    "sum([c(size, i) for i in range(1, size+1)])"
   ]
  },
  {
   "cell_type": "code",
   "execution_count": 211,
   "metadata": {},
   "outputs": [
    {
     "name": "stdout",
     "output_type": "stream",
     "text": [
      "[1 2] 6\n",
      "[2] 4\n",
      "[0 1] 3\n",
      "[0 2] 5\n",
      "[1] 2\n",
      "[0] 1\n",
      "[0 1 2] 7\n"
     ]
    }
   ],
   "source": [
    "num_of_processes = 7\n",
    "done = set([0])\n",
    "\n",
    "while len(done) < num_of_processes + 1:\n",
    "    indices = np.where(np.random.randint(2, size=3) == 1)[0]\n",
    "    idx = (2**indices).sum()\n",
    "    \n",
    "    if idx in done:\n",
    "        continue\n",
    "        \n",
    "    done.add(idx)\n",
    "    print(indices, idx)"
   ]
  },
  {
   "cell_type": "code",
   "execution_count": 212,
   "metadata": {},
   "outputs": [
    {
     "data": {
      "text/plain": [
       "defaultdict(probability_graph.ProbabilityGraph,\n",
       "            {3: <probability_graph.ProbabilityGraph at 0x1c402155390>,\n",
       "             4: <probability_graph.ProbabilityGraph at 0x1c402285cf8>,\n",
       "             1: <probability_graph.ProbabilityGraph at 0x1c4023a9160>,\n",
       "             6: <probability_graph.ProbabilityGraph at 0x1c402444e80>,\n",
       "             5: <probability_graph.ProbabilityGraph at 0x1c402629160>,\n",
       "             7: <probability_graph.ProbabilityGraph at 0x1c4027c20f0>,\n",
       "             2: <probability_graph.ProbabilityGraph at 0x1c401ff6940>})"
      ]
     },
     "execution_count": 212,
     "metadata": {},
     "output_type": "execute_result"
    }
   ],
   "source": [
    "# Load data (deserialize)\n",
    "with open('cache/probability_graphs.pickle', 'rb') as handle:\n",
    "    probability_graphs = pickle.load(handle)\n",
    "\n",
    "probability_graphs"
   ]
  },
  {
   "cell_type": "code",
   "execution_count": 213,
   "metadata": {},
   "outputs": [
    {
     "data": {
      "text/plain": [
       "{'u': defaultdict(tuple, {'n': (1.0, 21)}),\n",
       " 'n': defaultdict(tuple, {'t': (1.0, 21)}),\n",
       " 't': defaultdict(tuple, {'_': (0.5121951219512195, 41), 'o': (0.0, 42)}),\n",
       " '_': defaultdict(tuple,\n",
       "             {'1': (0.2857142857142857, 63),\n",
       "              't': (0.04838709677419355, 62),\n",
       "              '4': (0.0, 49),\n",
       "              '2': (0.0, 57),\n",
       "              '3': (0.0, 58),\n",
       "              '6': (0.0, 55),\n",
       "              '5': (0.0, 42),\n",
       "              '9': (0.0, 51),\n",
       "              '7': (0.0, 61)}),\n",
       " '1': defaultdict(tuple,\n",
       "             {'_': (0.02857142857142857, 105),\n",
       "              '6': (0.0008143322475570033, 1228),\n",
       "              '~': (0.05090311986863711, 1218),\n",
       "              '0': (0.19063004846526657, 1238),\n",
       "              '1': (0.0, 1217),\n",
       "              '2': (0.0, 1220),\n",
       "              '3': (0.0, 1222),\n",
       "              '4': (0.0, 1224),\n",
       "              '5': (0.0, 1226),\n",
       "              '9': (0.0, 1234),\n",
       "              '7': (0.0, 1230),\n",
       "              '8': (0.0, 1232),\n",
       "              '+': (0.0, 1135)}),\n",
       " 'o': defaultdict(tuple, {'_': (0.5121951219512195, 41), 'u': (0.0, 40)}),\n",
       " '6': defaultdict(tuple,\n",
       "             {'~': (0.6861538461538461, 325),\n",
       "              '_': (0.0, 22),\n",
       "              '+': (0.0, 316)}),\n",
       " '~': defaultdict(tuple,\n",
       "             {'1': (0.41192535275375514, 2197),\n",
       "              '2': (0.0, 2192),\n",
       "              '3': (0.0, 2051),\n",
       "              '4': (0.0, 2071),\n",
       "              '5': (0.0, 2091),\n",
       "              '6': (0.0, 2111),\n",
       "              '7': (0.0, 2194),\n",
       "              '8': (0.0, 2195),\n",
       "              '9': (0.0, 2196),\n",
       "              'c': (0.0, 2193)}),\n",
       " '2': defaultdict(tuple,\n",
       "             {'~': (0.5945945945945946, 370),\n",
       "              '5': (0.0, 58),\n",
       "              '0': (0.0, 371),\n",
       "              '1': (0.0, 53),\n",
       "              '2': (0.0, 54),\n",
       "              '3': (0.0, 56),\n",
       "              '4': (0.0, 57),\n",
       "              '7': (0.0, 60),\n",
       "              '6': (0.0, 59),\n",
       "              '_': (0.0, 45),\n",
       "              '8': (0.0, 61),\n",
       "              '+': (0.0, 353)}),\n",
       " '3': defaultdict(tuple,\n",
       "             {'~': (0.6871165644171779, 326),\n",
       "              '1': (0.0, 25),\n",
       "              '+': (0.0, 311)}),\n",
       " '4': defaultdict(tuple,\n",
       "             {'~': (0.6873065015479877, 323),\n",
       "              '_': (0.0, 20),\n",
       "              '+': (0.0, 310)}),\n",
       " '5': defaultdict(tuple, {'~': (0.6884735202492211, 321), '+': (0.0, 310)}),\n",
       " '7': defaultdict(tuple,\n",
       "             {'~': (0.6811145510835913, 323),\n",
       "              '_': (0.0, 322),\n",
       "              '+': (0.0, 314)}),\n",
       " '8': defaultdict(tuple, {'~': (0.6835443037974683, 316), '+': (0.0, 310)}),\n",
       " '9': defaultdict(tuple,\n",
       "             {'~': (0.6813880126182965, 317),\n",
       "              '_': (0.0, 11),\n",
       "              '+': (0.0, 313)}),\n",
       " '0': defaultdict(tuple,\n",
       "             {'~': (0.6773162939297125, 313), '_': (0.0, 9), '+': (0.0, 310)}),\n",
       " 'c': defaultdict(tuple, {'o': (1.0, 20)}),\n",
       " '+': defaultdict(tuple,\n",
       "             {'1': (0.2, 1000),\n",
       "              '2': (0.0, 992),\n",
       "              '3': (0.0, 993),\n",
       "              '4': (0.0, 994),\n",
       "              '5': (0.0, 995),\n",
       "              '6': (0.0, 996),\n",
       "              '7': (0.0, 997),\n",
       "              '8': (0.0, 998),\n",
       "              '9': (0.0, 999)})}"
      ]
     },
     "execution_count": 213,
     "metadata": {},
     "output_type": "execute_result"
    }
   ],
   "source": [
    "probability_graphs[1].graph_life"
   ]
  },
  {
   "cell_type": "code",
   "execution_count": 214,
   "metadata": {},
   "outputs": [],
   "source": [
    "lives = []\n",
    "for i in probability_graphs:\n",
    "    for context_token_x, graph_lifes in probability_graphs[i].graph_life.items():\n",
    "        for context_token_y, graph_life_x in graph_lifes.items():\n",
    "            lives.append(graph_life_x)\n",
    "            \n",
    "lives = np.array(lives)"
   ]
  },
  {
   "cell_type": "code",
   "execution_count": 215,
   "metadata": {
    "scrolled": true
   },
   "outputs": [
    {
     "data": {
      "text/plain": [
       "<matplotlib.collections.PathCollection at 0x1c401122588>"
      ]
     },
     "execution_count": 215,
     "metadata": {},
     "output_type": "execute_result"
    },
    {
     "data": {
      "image/png": "[encoded data removed]",
      "text/plain": [
       "<Figure size 432x288 with 1 Axes>"
      ]
     },
     "metadata": {
      "needs_background": "light"
     },
     "output_type": "display_data"
    }
   ],
   "source": [
    "plt.scatter(lives[:,1], lives[:,0])"
   ]
  },
  {
   "cell_type": "code",
   "execution_count": 216,
   "metadata": {},
   "outputs": [
    {
     "data": {
      "text/plain": [
       "KMeans(algorithm='auto', copy_x=True, init='k-means++', max_iter=300,\n",
       "    n_clusters=2, n_init=10, n_jobs=None, precompute_distances='auto',\n",
       "    random_state=None, tol=0.0001, verbose=0)"
      ]
     },
     "execution_count": 216,
     "metadata": {},
     "output_type": "execute_result"
    }
   ],
   "source": [
    "from sklearn.cluster import KMeans\n",
    "\n",
    "kmeans = KMeans(n_clusters=2, init='k-means++')\n",
    "kmeans.fit(lives)"
   ]
  },
  {
   "cell_type": "code",
   "execution_count": 217,
   "metadata": {},
   "outputs": [
    {
     "data": {
      "text/plain": [
       "(342.37013284470913, 0.25)"
      ]
     },
     "execution_count": 217,
     "metadata": {},
     "output_type": "execute_result"
    },
    {
     "data": {
      "image/png": "[encoded data removed]",
      "text/plain": [
       "<Figure size 432x288 with 1 Axes>"
      ]
     },
     "metadata": {
      "needs_background": "light"
     },
     "output_type": "display_data"
    }
   ],
   "source": [
    "colors = ['r', 'b']\n",
    "# labels = kmeans.labels_\n",
    "a = lives[:,1].mean()\n",
    "a += lives[:, 1][lives[:,1] < a].max()\n",
    "b = 0.25#lives[:,0].mean()\n",
    "labels = ((lives[:,1] > a) & (lives[:,0] < b)).astype(np.int8)\n",
    "# labels\n",
    "for i, color in enumerate(colors):\n",
    "    livs = lives[labels == i]\n",
    "    plt.scatter(livs[:,1], livs[:,0], color=color)\n",
    "    \n",
    "a, b"
   ]
  },
  {
   "cell_type": "code",
   "execution_count": 203,
   "metadata": {},
   "outputs": [
    {
     "ename": "IndexError",
     "evalue": "only integers, slices (`:`), ellipsis (`...`), numpy.newaxis (`None`) and integer or boolean arrays are valid indices",
     "output_type": "error",
     "traceback": [
      "\u001b[1;31m---------------------------------------------------------------------------\u001b[0m",
      "\u001b[1;31mIndexError\u001b[0m                                Traceback (most recent call last)",
      "\u001b[1;32m<ipython-input-203-e6f9907f44f3>\u001b[0m in \u001b[0;36m<module>\u001b[1;34m\u001b[0m\n\u001b[1;32m----> 1\u001b[1;33m \u001b[0mlives\u001b[0m\u001b[1;33m[\u001b[0m\u001b[0mlives\u001b[0m\u001b[1;33m[\u001b[0m\u001b[1;33m:\u001b[0m\u001b[1;33m,\u001b[0m\u001b[1;36m1\u001b[0m\u001b[1;33m]\u001b[0m\u001b[1;33m.\u001b[0m\u001b[0mmean\u001b[0m\u001b[1;33m(\u001b[0m\u001b[1;33m)\u001b[0m \u001b[1;33m+\u001b[0m \u001b[0mlives\u001b[0m\u001b[1;33m[\u001b[0m\u001b[1;33m:\u001b[0m\u001b[1;33m,\u001b[0m\u001b[1;36m1\u001b[0m\u001b[1;33m]\u001b[0m\u001b[1;33m.\u001b[0m\u001b[0mmin\u001b[0m\u001b[1;33m(\u001b[0m\u001b[1;33m)\u001b[0m\u001b[1;33m]\u001b[0m\u001b[1;33m\u001b[0m\u001b[1;33m\u001b[0m\u001b[0m\n\u001b[0m",
      "\u001b[1;31mIndexError\u001b[0m: only integers, slices (`:`), ellipsis (`...`), numpy.newaxis (`None`) and integer or boolean arrays are valid indices"
     ]
    }
   ],
   "source": [
    "lives[]"
   ]
  },
  {
   "cell_type": "code",
   "execution_count": null,
   "metadata": {},
   "outputs": [],
   "source": []
  }
 ],
 "metadata": {
  "kernelspec": {
   "display_name": "GHOST_env",
   "language": "python",
   "name": "ghost_env"
  },
  "language_info": {
   "codemirror_mode": {
    "name": "ipython",
    "version": 3
   },
   "file_extension": ".py",
   "mimetype": "text/x-python",
   "name": "python",
   "nbconvert_exporter": "python",
   "pygments_lexer": "ipython3",
   "version": "3.7.2"
  }
 },
 "nbformat": 4,
 "nbformat_minor": 2
}
