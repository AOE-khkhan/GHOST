{
 "cells": [
  {
   "cell_type": "code",
   "execution_count": 57,
   "metadata": {},
   "outputs": [],
   "source": [
    "import json\n",
    "from math import factorial\n",
    "from itertools import combinations\n",
    "\n",
    "import numpy as np\n",
    "from matplotlib import pyplot as plt"
   ]
  },
  {
   "cell_type": "code",
   "execution_count": 45,
   "metadata": {},
   "outputs": [],
   "source": [
    "def read_json(filepath):\n",
    "    with open(filepath) as f:\n",
    "        return json.load(f)\n",
    "\n",
    "def c(n , r):\n",
    "    return factorial(n) // (factorial(n - r) * factorial(r))"
   ]
  },
  {
   "cell_type": "code",
   "execution_count": 51,
   "metadata": {},
   "outputs": [],
   "source": [
    "size = 3\n",
    "\n",
    "graph = []\n",
    "graph_life = []\n",
    "\n",
    "size_range = range(size)\n",
    "combs = [combination for count in size_range for combination in combinations(size_range, count+1)]\n",
    "combination_size = len(combs)\n",
    "\n",
    "for i in range(combination_size):\n",
    "    graph.append(read_json(f'cache/graph_{i}.json'))\n",
    "    graph_life.append(read_json(f'cache/graph_life_{i}.json'))"
   ]
  },
  {
   "cell_type": "code",
   "execution_count": 52,
   "metadata": {},
   "outputs": [
    {
     "data": {
      "text/plain": [
       "(7, [(0,), (1,), (2,), (0, 1), (0, 2), (1, 2), (0, 1, 2)])"
      ]
     },
     "execution_count": 52,
     "metadata": {},
     "output_type": "execute_result"
    }
   ],
   "source": [
    "len(graph), combs"
   ]
  },
  {
   "cell_type": "code",
   "execution_count": 83,
   "metadata": {},
   "outputs": [
    {
     "name": "stdout",
     "output_type": "stream",
     "text": [
      "cu [1.0, 11]\n",
      "on [1.0, 11]\n",
      "ut [1.0, 11]\n",
      "n_ [0.9090909090909091, 11]\n",
      "t1 [1.0, 10]\n",
      "__ [1.0, 11]\n",
      "1t [1.0, 10]\n",
      "_o [1.0, 11]\n",
      "t_ [0.45454545454545453, 11]\n",
      "o3 [1.0, 1]\n",
      "_~ [1.0, 3]\n",
      "31 [0.6666666666666666, 6]\n",
      "~~ [0.11764705882352941, 85]\n",
      "12 [0.7142857142857143, 14]\n",
      "23 [1.0, 10]\n",
      "3c [1.0, 2]\n",
      "~o [1.0, 10]\n",
      "o8 [1.0, 2]\n",
      "81 [0.5714285714285714, 7]\n",
      "34 [1.0, 9]\n",
      "45 [1.0, 9]\n",
      "56 [1.0, 9]\n",
      "67 [1.0, 9]\n",
      "78 [1.0, 10]\n",
      "8c [1.0, 3]\n",
      "o1 [1.0, 4]\n",
      "_0 [1.0, 4]\n",
      "1~ [0.8297872340425532, 47]\n",
      "01 [0.5714285714285714, 7]\n",
      "89 [1.0, 8]\n",
      "91 [1.0, 8]\n",
      "~0 [1.0, 11]\n",
      "0c [1.0, 3]\n",
      "o2 [0.25, 4]\n",
      "_3 [1.0, 1]\n",
      "2~ [0.7037037037037037, 27]\n",
      "~1 [1.0, 8]\n",
      "11 [1.0, 4]\n",
      "~2 [1.0, 8]\n",
      "21 [0.8, 5]\n",
      "~3 [1.0, 7]\n",
      "~4 [1.0, 6]\n",
      "41 [1.0, 4]\n",
      "~5 [1.0, 6]\n",
      "51 [1.0, 4]\n",
      "~6 [1.0, 6]\n",
      "61 [0.8, 5]\n",
      "~7 [1.0, 5]\n",
      "71 [1.0, 4]\n",
      "~8 [1.0, 5]\n",
      "~9 [1.0, 4]\n",
      "92 [1.0, 4]\n",
      "02 [1.0, 4]\n",
      "22 [1.0, 3]\n",
      "_6 [1.0, 1]\n",
      "32 [1.0, 2]\n",
      "42 [1.0, 2]\n",
      "52 [1.0, 2]\n",
      "6c [1.0, 1]\n",
      "_8 [1.0, 1]\n",
      "62 [1.0, 1]\n",
      "72 [1.0, 1]\n",
      "_2 [1.0, 1]\n",
      "2c [1.0, 1]\n",
      "t7 [1.0, 1]\n",
      "7t [1.0, 1]\n",
      "07 [1.0, 1]\n"
     ]
    }
   ],
   "source": [
    "i = 4\n",
    "for key, life in graph_life[i].items():\n",
    "    print(key, life)"
   ]
  },
  {
   "cell_type": "code",
   "execution_count": 84,
   "metadata": {
    "scrolled": true
   },
   "outputs": [
    {
     "data": {
      "text/plain": [
       "<matplotlib.collections.PathCollection at 0x1c45357fa58>"
      ]
     },
     "execution_count": 84,
     "metadata": {},
     "output_type": "execute_result"
    },
    {
     "data": {
      "image/png": "[encoded data removed]",
      "text/plain": [
       "<Figure size 432x288 with 1 Axes>"
      ]
     },
     "metadata": {
      "needs_background": "light"
     },
     "output_type": "display_data"
    }
   ],
   "source": [
    "lives = np.array(list(graph_life[i].values()))\n",
    "plt.scatter(lives[:,1], lives[:,0])"
   ]
  },
  {
   "cell_type": "code",
   "execution_count": 85,
   "metadata": {},
   "outputs": [
    {
     "data": {
      "text/plain": [
       "array([0, 0, 0, 0, 0, 0, 0, 0, 0, 0, 0, 0, 1, 0, 0, 0, 0, 0, 0, 0, 0, 0,\n",
       "       0, 0, 0, 0, 0, 1, 0, 0, 0, 0, 0, 0, 0, 0, 0, 0, 0, 0, 0, 0, 0, 0,\n",
       "       0, 0, 0, 0, 0, 0, 0, 0, 0, 0, 0, 0, 0, 0, 0, 0, 0, 0, 0, 0, 0, 0,\n",
       "       0])"
      ]
     },
     "execution_count": 85,
     "metadata": {},
     "output_type": "execute_result"
    }
   ],
   "source": [
    "from sklearn.cluster import KMeans\n",
    "\n",
    "kmeans = KMeans(n_clusters=2, init='k-means++')\n",
    "kmeans.fit(lives)\n",
    "kmeans.labels_"
   ]
  },
  {
   "cell_type": "code",
   "execution_count": null,
   "metadata": {},
   "outputs": [],
   "source": []
  }
 ],
 "metadata": {
  "kernelspec": {
   "display_name": "GHOST_env",
   "language": "python",
   "name": "ghost_env"
  },
  "language_info": {
   "codemirror_mode": {
    "name": "ipython",
    "version": 3
   },
   "file_extension": ".py",
   "mimetype": "text/x-python",
   "name": "python",
   "nbconvert_exporter": "python",
   "pygments_lexer": "ipython3",
   "version": "3.7.2"
  }
 },
 "nbformat": 4,
 "nbformat_minor": 2
}
