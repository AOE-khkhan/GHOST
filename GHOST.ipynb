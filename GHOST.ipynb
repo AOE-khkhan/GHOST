{
 "cells": [
  {
   "cell_type": "code",
   "execution_count": 246,
   "metadata": {},
   "outputs": [],
   "source": [
    "import json\n",
    "from math import factorial\n",
    "from itertools import combinations\n",
    "\n",
    "# first neural network with keras make predictions\n",
    "from keras.models import Sequential\n",
    "from keras.layers import Dense, Conv1D, Flatten\n",
    "\n",
    "import numpy as np\n",
    "from sklearn.model_selection import train_test_split"
   ]
  },
  {
   "cell_type": "code",
   "execution_count": 2,
   "metadata": {},
   "outputs": [],
   "source": [
    "def read_json(filepath):\n",
    "    with open(filepath) as f:\n",
    "        return json.load(f)\n",
    "\n",
    "def c(n , r):\n",
    "    return factorial(n) // (factorial(n - r) * factorial(r))"
   ]
  },
  {
   "cell_type": "code",
   "execution_count": 4,
   "metadata": {},
   "outputs": [
    {
     "data": {
      "text/plain": [
       "(7, [(0,), (1,), (2,), (0, 1), (0, 2), (1, 2), (0, 1, 2)])"
      ]
     },
     "execution_count": 4,
     "metadata": {},
     "output_type": "execute_result"
    }
   ],
   "source": [
    "len(pgraphs), combs"
   ]
  },
  {
   "cell_type": "code",
   "execution_count": 3,
   "metadata": {},
   "outputs": [],
   "source": [
    "size = 3\n",
    "pgraphs = []\n",
    "\n",
    "size_range = range(size)\n",
    "combs = [combination for count in size_range for combination in combinations(size_range, count+1)]\n",
    "combination_size = len(combs)\n",
    "\n",
    "for i in range(combination_size):\n",
    "    pgraphs.append(\n",
    "        {\n",
    "            'graph':read_json(f'graph_{i}.json'),\n",
    "            'graph_data':read_json(f'graph_data_{i}.json'),\n",
    "            'graph_score':read_json(f'graph_score_{i}.json'),\n",
    "            'graph_accuracy':read_json(f'graph_accuracy_{i}.json')\n",
    "        }\n",
    "    )"
   ]
  },
  {
   "cell_type": "code",
   "execution_count": 5,
   "metadata": {},
   "outputs": [
    {
     "name": "stdout",
     "output_type": "stream",
     "text": [
      "0 ~ 0.8782051282051282 {'~': 138, 'u': 10, '6': 1, '7': 1, '8': 2, '9': 2, '1': 2}\n",
      "1 7 0.25806451612903225 {'t': 2, '~': 11, '_': 2, '5': 3, '8': 2, '1': 2, '2': 2, '3': 2, '4': 2, 'c': 1, '6': 1, '7': 1}\n",
      "2 ~ 0.10256410256410256 {'8': 10, '9': 7, 'c': 10, '5': 21, '6': 19, '7': 12, '1': 17, '2': 20, '3': 20, '4': 20}\n",
      "3 ~7 0.6666666666666666 {'8': 2, '~': 10}\n",
      "4 ~~ 0.0 {'6': 1, '7': 1, '8': 2, '9': 2, '1': 2}\n",
      "5 7~ 0.125 {'5': 3, '8': 2, '1': 2, '2': 2, '3': 2, '4': 2, 'c': 1, '6': 1, '7': 1}\n",
      "6 ~7~ 0.5 {'8': 2}\n"
     ]
    }
   ],
   "source": [
    "for i, ch in enumerate(['~', '7', '~', '~7', '~~', '7~', '~7~']):\n",
    "    print(i, ch, pgraphs[i]['graph_accuracy'][ch], pgraphs[i]['graph'][ch])"
   ]
  },
  {
   "cell_type": "code",
   "execution_count": 6,
   "metadata": {
    "scrolled": true
   },
   "outputs": [
    {
     "name": "stdout",
     "output_type": "stream",
     "text": [
      "[['~co', '~co', '~co', '~co', '~5~', '~6~', '~7~', '~8~', '~9~', '~co', '~co', '~co', '~co', '~co', '~co', '~7~', '~8~', '~9~'], ['~89', '~90', '~91', '~92', '~93', '~94', '~10', '~11', '~12', '~13', '~14', '~15', '~16', '~17', '~18', '~19', '~20', '~21', '~22', '~23', '~24', '~25', '~26', '~27', '~28', '~29', '~30', '~31', '~32', '~33', '~34', '~35', '~36', '~37', '~38', '~39', '~40', '~41', '~42', '~43', '~44', '~45', '~46', '~47', '~48', '~49', '~50', '~51', '~52', '~53', '~54', '~55', '~56', '~57', '~58', '~59', '~60', '~61', '~62', '~63', '~64', '~65', '~66', '~67', '~14', '~15', '~16', '~17', '~18', '~19', '~20', '~21', '~22', '~23', '~24', '~25', '~26', '~27', '~28', '~29', '~30', '~31', '~32', '~33', '~34', '~35', '~36', '~37', '~38', '~39', '~40', '~41', '~42', '~43', '~44', '~45', '~46', '~47', '~48', '~49', '~50', '~51', '~52', '~53', '~54', '~55', '~56', '~57', '~58', '~59', '~60', '~61', '~62', '~63', '~64', '~65', '~66', '~67', '~68', '~69', '~70', '~71', '~72', '~73', '~74', '~75', '~76', '~77', '~78', '~79', '~80', '~81', '~82', '~83', '~84', '~85', '~10']]\n"
     ]
    }
   ],
   "source": [
    "print()"
   ]
  },
  {
   "cell_type": "code",
   "execution_count": 309,
   "metadata": {},
   "outputs": [],
   "source": [
    "class Modeler:\n",
    "    def __init__(self):\n",
    "        # the input data\n",
    "        self.x = []\n",
    "        \n",
    "        # the output data\n",
    "        self.y = []\n",
    "        \n",
    "        #initialize model for training\n",
    "        self.initialize_model()\n",
    "        \n",
    "    def initialize_classifier(self):\n",
    "        # define model\n",
    "        self.classifier = LogisticRegression(solver='liblinear')\n",
    "        \n",
    "    def initialize_predictor(self):\n",
    "        # define model\n",
    "        self.predictor = LogisticRegression(solver='liblinear')\n",
    "    \n",
    "    def add_data(self, context, label):\n",
    "        self.x.append(list(map(ord, context)))\n",
    "        self.y.append(label)\n",
    "        \n",
    "    def train(self):\n",
    "        x, y = np.array(self.x), np.array(self.y)\n",
    "        X_train, X_test, y_train, y_test = train_test_split(x, y, test_size=0.2)\n",
    "        \n",
    "        # fit the keras model on the dataset\n",
    "        self.classifier.fit(X_train, y_train)\n",
    "        \n",
    "        # make class predictions with the model\n",
    "        y_pred = self.classifier.predict(X_test)\n",
    "        \n",
    "        # calc accuracy\n",
    "        accuracy = self.classifier.score(X_test, y_test)\n",
    "        \n",
    "        return accuracy"
   ]
  },
  {
   "cell_type": "code",
   "execution_count": 316,
   "metadata": {},
   "outputs": [
    {
     "data": {
      "text/plain": [
       "1.0"
      ]
     },
     "execution_count": 316,
     "metadata": {},
     "output_type": "execute_result"
    }
   ],
   "source": [
    "data = pgraphs[0]['graph_data']['~']\n",
    "\n",
    "modeler = Modeler()\n",
    "\n",
    "for index, li in enumerate(data):\n",
    "    for value in li:\n",
    "        modeler.add_data(value, index)\n",
    "        \n",
    "modeler.add_data('~x9', 0)\n",
    "modeler.train()"
   ]
  },
  {
   "cell_type": "code",
   "execution_count": 318,
   "metadata": {},
   "outputs": [],
   "source": [
    "# make class predictions with the model\n",
    "predictions = modeler.model.predict(X_test)\n",
    "\n",
    "# # summarize the first 5 cases\n",
    "# for i in range(len(X_test)):\n",
    "#     print('%s => %d (expected %d)' % (X_test[i].tolist(), predictions[i] > 0.5, y_test[i]))"
   ]
  },
  {
   "cell_type": "code",
   "execution_count": 336,
   "metadata": {},
   "outputs": [
    {
     "ename": "AttributeError",
     "evalue": "'Modeler' object has no attribute 'classifier'",
     "output_type": "error",
     "traceback": [
      "\u001b[1;31m---------------------------------------------------------------------------\u001b[0m",
      "\u001b[1;31mAttributeError\u001b[0m                            Traceback (most recent call last)",
      "\u001b[1;32m<ipython-input-336-6f204a15b3bb>\u001b[0m in \u001b[0;36m<module>\u001b[1;34m\u001b[0m\n\u001b[0;32m      1\u001b[0m \u001b[0mtrial\u001b[0m \u001b[1;33m=\u001b[0m \u001b[1;34m'~z9'\u001b[0m\u001b[1;33m\u001b[0m\u001b[1;33m\u001b[0m\u001b[0m\n\u001b[1;32m----> 2\u001b[1;33m \u001b[0mmodeler\u001b[0m\u001b[1;33m.\u001b[0m\u001b[0mclassifier\u001b[0m\u001b[1;33m.\u001b[0m\u001b[0mpredict\u001b[0m\u001b[1;33m(\u001b[0m\u001b[0mnp\u001b[0m\u001b[1;33m.\u001b[0m\u001b[0marray\u001b[0m\u001b[1;33m(\u001b[0m\u001b[1;33m[\u001b[0m\u001b[0mlist\u001b[0m\u001b[1;33m(\u001b[0m\u001b[0mmap\u001b[0m\u001b[1;33m(\u001b[0m\u001b[0mord\u001b[0m\u001b[1;33m,\u001b[0m \u001b[0mtrial\u001b[0m\u001b[1;33m)\u001b[0m\u001b[1;33m)\u001b[0m\u001b[1;33m]\u001b[0m\u001b[1;33m)\u001b[0m\u001b[1;33m)\u001b[0m\u001b[1;33m,\u001b[0m \u001b[0mtrial\u001b[0m \u001b[1;32min\u001b[0m \u001b[0mdata\u001b[0m\u001b[1;33m[\u001b[0m\u001b[1;36m0\u001b[0m\u001b[1;33m]\u001b[0m\u001b[1;33m,\u001b[0m \u001b[0mtrial\u001b[0m \u001b[1;32min\u001b[0m \u001b[0mdata\u001b[0m\u001b[1;33m[\u001b[0m\u001b[1;36m1\u001b[0m\u001b[1;33m]\u001b[0m\u001b[1;33m\u001b[0m\u001b[1;33m\u001b[0m\u001b[0m\n\u001b[0m",
      "\u001b[1;31mAttributeError\u001b[0m: 'Modeler' object has no attribute 'classifier'"
     ]
    }
   ],
   "source": [
    "trial = '~z9'\n",
    "modeler.classifier.predict(np.array([list(map(ord, trial))])), trial in data[0], trial in data[1]"
   ]
  },
  {
   "cell_type": "code",
   "execution_count": 334,
   "metadata": {},
   "outputs": [
    {
     "name": "stdout",
     "output_type": "stream",
     "text": [
      "[126, 99, 111] 0\n",
      "[126, 99, 111] 0\n",
      "[126, 99, 111] 0\n",
      "[126, 99, 111] 0\n",
      "[126, 53, 126] 0\n",
      "[126, 54, 126] 0\n",
      "[126, 55, 126] 0\n",
      "[126, 56, 126] 0\n",
      "[126, 57, 126] 0\n",
      "[126, 99, 111] 0\n",
      "[126, 99, 111] 0\n",
      "[126, 99, 111] 0\n",
      "[126, 99, 111] 0\n",
      "[126, 99, 111] 0\n",
      "[126, 99, 111] 0\n",
      "[126, 55, 126] 0\n",
      "[126, 56, 126] 0\n",
      "[126, 57, 126] 0\n",
      "[126, 56, 57] 1\n",
      "[126, 57, 48] 1\n",
      "[126, 57, 49] 1\n",
      "[126, 57, 50] 1\n",
      "[126, 57, 51] 1\n",
      "[126, 57, 52] 1\n",
      "[126, 49, 48] 1\n",
      "[126, 49, 49] 1\n",
      "[126, 49, 50] 1\n",
      "[126, 49, 51] 1\n",
      "[126, 49, 52] 1\n",
      "[126, 49, 53] 1\n",
      "[126, 49, 54] 1\n",
      "[126, 49, 55] 1\n",
      "[126, 49, 56] 1\n",
      "[126, 49, 57] 1\n",
      "[126, 50, 48] 1\n",
      "[126, 50, 49] 1\n",
      "[126, 50, 50] 1\n",
      "[126, 50, 51] 1\n",
      "[126, 50, 52] 1\n",
      "[126, 50, 53] 1\n",
      "[126, 50, 54] 1\n",
      "[126, 50, 55] 1\n",
      "[126, 50, 56] 1\n",
      "[126, 50, 57] 1\n",
      "[126, 51, 48] 1\n",
      "[126, 51, 49] 1\n",
      "[126, 51, 50] 1\n",
      "[126, 51, 51] 1\n",
      "[126, 51, 52] 1\n",
      "[126, 51, 53] 1\n",
      "[126, 51, 54] 1\n",
      "[126, 51, 55] 1\n",
      "[126, 51, 56] 1\n",
      "[126, 51, 57] 1\n",
      "[126, 52, 48] 1\n",
      "[126, 52, 49] 1\n",
      "[126, 52, 50] 1\n",
      "[126, 52, 51] 1\n",
      "[126, 52, 52] 1\n",
      "[126, 52, 53] 1\n",
      "[126, 52, 54] 1\n",
      "[126, 52, 55] 1\n",
      "[126, 52, 56] 1\n",
      "[126, 52, 57] 1\n",
      "[126, 53, 48] 1\n",
      "[126, 53, 49] 1\n",
      "[126, 53, 50] 1\n",
      "[126, 53, 51] 1\n",
      "[126, 53, 52] 1\n",
      "[126, 53, 53] 1\n",
      "[126, 53, 54] 1\n",
      "[126, 53, 55] 1\n",
      "[126, 53, 56] 1\n",
      "[126, 53, 57] 1\n",
      "[126, 54, 48] 1\n",
      "[126, 54, 49] 1\n",
      "[126, 54, 50] 1\n",
      "[126, 54, 51] 1\n",
      "[126, 54, 52] 1\n",
      "[126, 54, 53] 1\n",
      "[126, 54, 54] 1\n",
      "[126, 54, 55] 1\n",
      "[126, 49, 52] 1\n",
      "[126, 49, 53] 1\n",
      "[126, 49, 54] 1\n",
      "[126, 49, 55] 1\n",
      "[126, 49, 56] 1\n",
      "[126, 49, 57] 1\n",
      "[126, 50, 48] 1\n",
      "[126, 50, 49] 1\n",
      "[126, 50, 50] 1\n",
      "[126, 50, 51] 1\n",
      "[126, 50, 52] 1\n",
      "[126, 50, 53] 1\n",
      "[126, 50, 54] 1\n",
      "[126, 50, 55] 1\n",
      "[126, 50, 56] 1\n",
      "[126, 50, 57] 1\n",
      "[126, 51, 48] 1\n",
      "[126, 51, 49] 1\n",
      "[126, 51, 50] 1\n",
      "[126, 51, 51] 1\n",
      "[126, 51, 52] 1\n",
      "[126, 51, 53] 1\n",
      "[126, 51, 54] 1\n",
      "[126, 51, 55] 1\n",
      "[126, 51, 56] 1\n",
      "[126, 51, 57] 1\n",
      "[126, 52, 48] 1\n",
      "[126, 52, 49] 1\n",
      "[126, 52, 50] 1\n",
      "[126, 52, 51] 1\n",
      "[126, 52, 52] 1\n",
      "[126, 52, 53] 1\n",
      "[126, 52, 54] 1\n",
      "[126, 52, 55] 1\n",
      "[126, 52, 56] 1\n",
      "[126, 52, 57] 1\n",
      "[126, 53, 48] 1\n",
      "[126, 53, 49] 1\n",
      "[126, 53, 50] 1\n",
      "[126, 53, 51] 1\n",
      "[126, 53, 52] 1\n",
      "[126, 53, 53] 1\n",
      "[126, 53, 54] 1\n",
      "[126, 53, 55] 1\n",
      "[126, 53, 56] 1\n",
      "[126, 53, 57] 1\n",
      "[126, 54, 48] 1\n",
      "[126, 54, 49] 1\n",
      "[126, 54, 50] 1\n",
      "[126, 54, 51] 1\n",
      "[126, 54, 52] 1\n",
      "[126, 54, 53] 1\n",
      "[126, 54, 54] 1\n",
      "[126, 54, 55] 1\n",
      "[126, 54, 56] 1\n",
      "[126, 54, 57] 1\n",
      "[126, 55, 48] 1\n",
      "[126, 55, 49] 1\n",
      "[126, 55, 50] 1\n",
      "[126, 55, 51] 1\n",
      "[126, 55, 52] 1\n",
      "[126, 55, 53] 1\n",
      "[126, 55, 54] 1\n",
      "[126, 55, 55] 1\n",
      "[126, 55, 56] 1\n",
      "[126, 55, 57] 1\n",
      "[126, 56, 48] 1\n",
      "[126, 56, 49] 1\n",
      "[126, 56, 50] 1\n",
      "[126, 56, 51] 1\n",
      "[126, 56, 52] 1\n",
      "[126, 56, 53] 1\n",
      "[126, 49, 48] 1\n",
      "[126, 120, 57] 0\n"
     ]
    }
   ],
   "source": [
    "for i in range(len(modeler.x)):\n",
    "    print(modeler.x[i], modeler.y[i])"
   ]
  },
  {
   "cell_type": "code",
   "execution_count": null,
   "metadata": {},
   "outputs": [],
   "source": []
  }
 ],
 "metadata": {
  "kernelspec": {
   "display_name": "GHOST_env",
   "language": "python",
   "name": "ghost_env"
  },
  "language_info": {
   "codemirror_mode": {
    "name": "ipython",
    "version": 3
   },
   "file_extension": ".py",
   "mimetype": "text/x-python",
   "name": "python",
   "nbconvert_exporter": "python",
   "pygments_lexer": "ipython3",
   "version": "3.7.2"
  }
 },
 "nbformat": 4,
 "nbformat_minor": 2
}
