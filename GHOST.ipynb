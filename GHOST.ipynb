{
 "cells": [
  {
   "cell_type": "code",
   "execution_count": 86,
   "metadata": {},
   "outputs": [],
   "source": [
    "import json\n",
    "from math import factorial\n",
    "from itertools import combinations\n",
    "\n",
    "import numpy as np\n",
    "from matplotlib import pyplot as plt"
   ]
  },
  {
   "cell_type": "code",
   "execution_count": 87,
   "metadata": {},
   "outputs": [],
   "source": [
    "def read_json(filepath):\n",
    "    with open(filepath) as f:\n",
    "        return json.load(f)\n",
    "\n",
    "def c(n , r):\n",
    "    return factorial(n) // (factorial(n - r) * factorial(r))"
   ]
  },
  {
   "cell_type": "code",
   "execution_count": 122,
   "metadata": {},
   "outputs": [
    {
     "name": "stdout",
     "output_type": "stream",
     "text": [
      "[0] 1\n",
      "[0 1 2] 7\n"
     ]
    }
   ],
   "source": [
    "num_of_processes = 2\n",
    "done = set([0])\n",
    "\n",
    "while len(done) < num_of_processes + 1:\n",
    "    indices = np.where(np.random.randint(2, size=3) == 1)[0]\n",
    "    idx = (2**indices).sum()\n",
    "    \n",
    "    if idx in done:\n",
    "        continue\n",
    "        \n",
    "    done.add(idx)\n",
    "    print(indices, idx)"
   ]
  },
  {
   "cell_type": "code",
   "execution_count": 106,
   "metadata": {},
   "outputs": [
    {
     "data": {
      "text/plain": [
       "array([  0,   6,   8,   9,  11,  12,  13,  14,  15,  17,  18,  19,  21,\n",
       "        22,  23,  24,  25,  29,  30,  31,  34,  35,  41,  42,  44,  45,\n",
       "        46,  48,  50,  51,  52,  53,  54,  56,  58,  65,  67,  69,  70,\n",
       "        71,  73,  74,  76,  77,  80,  82,  84,  86,  90,  93,  95,  97,\n",
       "        98, 100, 102, 105, 106, 110, 111, 113, 116, 118, 119, 121, 122,\n",
       "       123, 126, 127, 128, 131, 132, 133, 137, 141, 143, 148, 149, 150,\n",
       "       152, 157, 158, 159, 162, 167, 168, 171, 172, 173, 174, 175, 176,\n",
       "       178, 180, 181, 185, 186, 190, 192, 193, 196, 198, 201, 202, 204,\n",
       "       206, 208, 210, 213, 215, 216, 217, 218, 220, 223, 225, 228, 230,\n",
       "       232, 234, 236, 237, 239, 242, 244, 245, 246, 248, 252, 254, 255],\n",
       "      dtype=int64)"
      ]
     },
     "execution_count": 106,
     "metadata": {},
     "output_type": "execute_result"
    }
   ],
   "source": [
    "context_index"
   ]
  },
  {
   "cell_type": "code",
   "execution_count": null,
   "metadata": {},
   "outputs": [],
   "source": [
    "graph = []\n",
    "graph_life = []\n",
    "\n",
    "for i in range(combination_size):\n",
    "    graph.append(read_json(f'cache/graph_{i}.json'))\n",
    "    graph_life.append(read_json(f'cache/graph_life_{i}.json'))"
   ]
  },
  {
   "cell_type": "code",
   "execution_count": null,
   "metadata": {},
   "outputs": [],
   "source": [
    "len(graph)"
   ]
  },
  {
   "cell_type": "code",
   "execution_count": 90,
   "metadata": {},
   "outputs": [
    {
     "name": "stdout",
     "output_type": "stream",
     "text": [
      "cu [1.0, 21]\n",
      "on [1.0, 21]\n",
      "ut [1.0, 21]\n",
      "n_ [0.6190476190476191, 21]\n",
      "t1 [0.8461538461538461, 13]\n",
      "__ [1.0, 12]\n",
      "1t [1.0, 14]\n",
      "_o [1.0, 21]\n",
      "t_ [0.2857142857142857, 21]\n",
      "o3 [0.25, 4]\n",
      "_6 [1.0, 2]\n",
      "3~ [0.82, 50]\n",
      "61 [0.25, 120]\n",
      "~~ [0.2, 455]\n",
      "12 [0.5344827586206896, 58]\n",
      "23 [0.5614035087719298, 57]\n",
      "34 [0.5636363636363636, 55]\n",
      "45 [0.5454545454545454, 55]\n",
      "56 [0.5454545454545454, 55]\n",
      "67 [0.5660377358490566, 53]\n",
      "78 [0.5769230769230769, 52]\n",
      "89 [0.6, 50]\n",
      "91 [0.3125, 160]\n",
      "~0 [0.588477366255144, 243]\n",
      "1~ [0.343030303030303, 825]\n",
      "01 [0.14388489208633093, 139]\n",
      "~1 [1.0, 145]\n",
      "11 [0.4838709677419355, 62]\n",
      "~2 [1.0, 133]\n",
      "21 [0.37037037037037035, 81]\n",
      "~3 [1.0, 122]\n",
      "31 [0.32967032967032966, 91]\n",
      "~4 [1.0, 113]\n",
      "41 [0.29411764705882354, 102]\n",
      "~5 [1.0, 101]\n",
      "51 [0.27522935779816515, 109]\n",
      "~6 [1.0, 90]\n",
      "~7 [1.0, 78]\n",
      "71 [0.23255813953488372, 129]\n",
      "~8 [1.0, 68]\n",
      "81 [0.2158273381294964, 139]\n",
      "~9 [1.0, 54]\n",
      "92 [0.37037037037037035, 27]\n",
      "2~ [0.7721518987341772, 79]\n",
      "02 [0.2702702702702703, 37]\n",
      "22 [0.5882352941176471, 17]\n",
      "32 [0.37037037037037035, 27]\n",
      "42 [0.37037037037037035, 27]\n",
      "52 [0.37037037037037035, 27]\n",
      "62 [0.37037037037037035, 27]\n",
      "72 [0.38461538461538464, 26]\n",
      "82 [0.38461538461538464, 26]\n",
      "93 [0.38461538461538464, 26]\n",
      "03 [0.38461538461538464, 26]\n",
      "13 [0.5405405405405406, 37]\n",
      "33 [0.6666666666666666, 15]\n",
      "43 [0.4166666666666667, 24]\n",
      "53 [0.4166666666666667, 24]\n",
      "6c [1.0, 2]\n",
      "~o [1.0, 20]\n",
      "_~ [0.6666666666666666, 3]\n",
      "3c [1.0, 1]\n",
      "o7 [0.6666666666666666, 3]\n",
      "_1 [0.5, 4]\n",
      "7~ [0.7941176470588235, 34]\n",
      "63 [0.43478260869565216, 23]\n",
      "73 [0.43478260869565216, 23]\n",
      "83 [0.4166666666666667, 24]\n",
      "94 [0.4166666666666667, 24]\n",
      "4~ [0.8723404255319149, 47]\n",
      "04 [0.4166666666666667, 24]\n",
      "14 [0.5882352941176471, 34]\n",
      "24 [0.5882352941176471, 34]\n",
      "44 [0.6666666666666666, 15]\n",
      "54 [0.4, 25]\n",
      "64 [0.4, 25]\n",
      "74 [0.4, 25]\n",
      "84 [0.38461538461538464, 26]\n",
      "95 [0.4, 25]\n",
      "5~ [0.88, 50]\n",
      "05 [0.4, 25]\n",
      "15 [0.5714285714285714, 35]\n",
      "25 [0.5714285714285714, 35]\n",
      "35 [0.5714285714285714, 35]\n",
      "55 [0.6666666666666666, 15]\n",
      "65 [0.4, 25]\n",
      "75 [0.4, 25]\n",
      "85 [0.4166666666666667, 24]\n",
      "96 [0.4166666666666667, 24]\n",
      "6~ [0.8979591836734694, 49]\n",
      "06 [0.4166666666666667, 24]\n",
      "16 [0.5714285714285714, 35]\n",
      "26 [0.5714285714285714, 35]\n",
      "36 [0.5714285714285714, 35]\n",
      "46 [0.5714285714285714, 35]\n",
      "66 [0.6666666666666666, 15]\n",
      "76 [0.4, 25]\n",
      "86 [0.4, 25]\n",
      "97 [0.4166666666666667, 24]\n",
      "07 [0.4166666666666667, 24]\n",
      "1c [1.0, 2]\n",
      "o4 [0.5, 2]\n",
      "4c [1.0, 3]\n",
      "o1 [0.3333333333333333, 6]\n",
      "_5 [0.6666666666666666, 3]\n",
      "5c [1.0, 2]\n",
      "_8 [0.8333333333333334, 6]\n",
      "17 [0.6060606060606061, 33]\n",
      "27 [0.6060606060606061, 33]\n",
      "37 [0.6060606060606061, 33]\n",
      "47 [0.6060606060606061, 33]\n",
      "57 [0.6060606060606061, 33]\n",
      "77 [0.7692307692307693, 13]\n",
      "8c [1.0, 5]\n",
      "o9 [0.3333333333333333, 3]\n",
      "9~ [0.6363636363636364, 11]\n",
      "87 [0.45454545454545453, 22]\n",
      "98 [0.45454545454545453, 22]\n",
      "8~ [0.9, 20]\n",
      "08 [0.45454545454545453, 22]\n",
      "18 [0.625, 32]\n",
      "28 [0.625, 32]\n",
      "38 [0.625, 32]\n",
      "48 [0.625, 32]\n",
      "58 [0.625, 32]\n",
      "68 [0.625, 32]\n",
      "88 [0.8333333333333334, 12]\n",
      "99 [0.8333333333333334, 12]\n",
      "09 [0.45454545454545453, 22]\n",
      "19 [0.6451612903225806, 31]\n",
      "29 [0.6451612903225806, 31]\n",
      "39 [0.6451612903225806, 31]\n",
      "49 [0.6451612903225806, 31]\n",
      "59 [0.6451612903225806, 31]\n",
      "_4 [0.6, 5]\n",
      "t4 [0.3333333333333333, 3]\n",
      "_3 [1.0, 1]\n",
      "4_ [1.0, 3]\n",
      "3t [1.0, 2]\n",
      "_2 [1.0, 2]\n",
      "2c [1.0, 1]\n",
      "t8 [1.0, 1]\n",
      "8_ [1.0, 1]\n",
      "4t [1.0, 3]\n",
      "t6 [1.0, 1]\n",
      "6_ [1.0, 1]\n",
      "o6 [1.0, 1]\n",
      "_0 [0.5, 2]\n",
      "0_ [1.0, 1]\n",
      "t3 [0.5, 2]\n",
      "3_ [1.0, 1]\n",
      "8t [1.0, 1]\n",
      "t9 [1.0, 1]\n",
      "9_ [1.0, 1]\n",
      "_9 [1.0, 1]\n",
      "9c [1.0, 2]\n",
      "5t [1.0, 1]\n",
      "1_ [1.0, 1]\n",
      "o2 [1.0, 1]\n",
      "_7 [1.0, 1]\n",
      "7c [1.0, 1]\n",
      "o5 [1.0, 1]\n",
      "~+ [0.2, 900]\n",
      "+~ [0.6011111111111112, 900]\n",
      "+0 [1.0, 100]\n",
      "79 [0.6666666666666666, 30]\n",
      "69 [0.6666666666666666, 30]\n",
      "1+ [0.2, 100]\n",
      "0c [1.0, 1]\n"
     ]
    }
   ],
   "source": [
    "i = 4\n",
    "for key, life in graph_life[i].items():\n",
    "    print(key, life)"
   ]
  },
  {
   "cell_type": "code",
   "execution_count": 91,
   "metadata": {
    "scrolled": true
   },
   "outputs": [
    {
     "data": {
      "text/plain": [
       "<matplotlib.collections.PathCollection at 0x1c45362d3c8>"
      ]
     },
     "execution_count": 91,
     "metadata": {},
     "output_type": "execute_result"
    },
    {
     "data": {
      "image/png": "[encoded data removed]",
      "text/plain": [
       "<Figure size 432x288 with 1 Axes>"
      ]
     },
     "metadata": {
      "needs_background": "light"
     },
     "output_type": "display_data"
    }
   ],
   "source": [
    "lives = np.array(list(graph_life[i].values()))\n",
    "plt.scatter(lives[:,1], lives[:,0])"
   ]
  },
  {
   "cell_type": "code",
   "execution_count": 93,
   "metadata": {},
   "outputs": [
    {
     "data": {
      "text/plain": [
       "array([0, 0, 0, 0, 0, 0, 0, 0, 0, 0, 0, 0, 2, 2, 0, 0, 0, 0, 0, 0, 0, 0,\n",
       "       2, 2, 1, 2, 2, 0, 2, 0, 2, 2, 2, 2, 2, 2, 2, 0, 2, 0, 2, 0, 0, 0,\n",
       "       0, 0, 0, 0, 0, 0, 0, 0, 0, 0, 0, 0, 0, 0, 0, 0, 0, 0, 0, 0, 0, 0,\n",
       "       0, 0, 0, 0, 0, 0, 0, 0, 0, 0, 0, 0, 0, 0, 0, 0, 0, 0, 0, 0, 0, 0,\n",
       "       0, 0, 0, 0, 0, 0, 0, 0, 0, 0, 0, 0, 0, 0, 0, 0, 0, 0, 0, 0, 0, 0,\n",
       "       0, 0, 0, 0, 0, 0, 0, 0, 0, 0, 0, 0, 0, 0, 0, 0, 0, 0, 0, 0, 0, 0,\n",
       "       0, 0, 0, 0, 0, 0, 0, 0, 0, 0, 0, 0, 0, 0, 0, 0, 0, 0, 0, 0, 0, 0,\n",
       "       0, 0, 0, 0, 0, 0, 0, 0, 1, 1, 2, 0, 0, 2, 0])"
      ]
     },
     "execution_count": 93,
     "metadata": {},
     "output_type": "execute_result"
    }
   ],
   "source": [
    "from sklearn.cluster import KMeans\n",
    "\n",
    "kmeans = KMeans(n_clusters=3, init='k-means++')\n",
    "kmeans.fit(lives)\n",
    "kmeans.labels_"
   ]
  },
  {
   "cell_type": "code",
   "execution_count": null,
   "metadata": {},
   "outputs": [],
   "source": []
  },
  {
   "cell_type": "code",
   "execution_count": null,
   "metadata": {},
   "outputs": [],
   "source": []
  },
  {
   "cell_type": "code",
   "execution_count": null,
   "metadata": {},
   "outputs": [],
   "source": []
  }
 ],
 "metadata": {
  "kernelspec": {
   "display_name": "GHOST_env",
   "language": "python",
   "name": "ghost_env"
  },
  "language_info": {
   "codemirror_mode": {
    "name": "ipython",
    "version": 3
   },
   "file_extension": ".py",
   "mimetype": "text/x-python",
   "name": "python",
   "nbconvert_exporter": "python",
   "pygments_lexer": "ipython3",
   "version": "3.7.2"
  }
 },
 "nbformat": 4,
 "nbformat_minor": 2
}
