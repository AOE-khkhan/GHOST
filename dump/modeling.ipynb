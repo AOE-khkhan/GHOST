{
 "cells": [
  {
   "cell_type": "code",
   "execution_count": 10,
   "metadata": {},
   "outputs": [],
   "source": [
    "from collections import defaultdict\n",
    "\n",
    "import numpy as np\n",
    "import matplotlib.pyplot as plt\n",
    "from scipy.optimize import minimize\n",
    "\n",
    "import os\n",
    "\n",
    "import cv2\n",
    "from matplotlib import pyplot as plt\n",
    "import numpy as np"
   ]
  },
  {
   "cell_type": "code",
   "execution_count": 11,
   "metadata": {},
   "outputs": [],
   "source": [
    "h, w = 5, 5\n",
    "size = (h, w)"
   ]
  },
  {
   "cell_type": "code",
   "execution_count": 12,
   "metadata": {},
   "outputs": [],
   "source": [
    "image1 = np.zeros(size, dtype=np.int8)\n",
    "image2 = np.zeros(size, dtype=np.int8)\n",
    "\n",
    "image1[1::2, 1:4:2] = 1\n",
    "image1[2, 2] = 1\n",
    "for i in range(w):\n",
    "    image2[i, i] = 1\n",
    "    image2[w-i-1, i] = 1\n",
    "\n",
    "image1 = image2.copy()\n",
    "image1[0::4, 0::4] = 0\n",
    "image1[0, 4] = 1"
   ]
  },
  {
   "cell_type": "code",
   "execution_count": 1144,
   "metadata": {},
   "outputs": [],
   "source": [
    "li = []\n",
    "# nums = [3, 2, 7, 9, 9, 0, 3, 3, 2, 9, 9, 1, 1]\n",
    "# nums.reverse()\n",
    "nums = [9, 9, 1, 1]"
   ]
  },
  {
   "cell_type": "code",
   "execution_count": 1199,
   "metadata": {},
   "outputs": [],
   "source": [
    "sample_image1 = toGrey(load_image('dump/old_test/1.jpg'))\n",
    "\n",
    "# sample_image2 = toGrey(load_image('dump/old_test/img_213.jpg'))\n",
    "# sample_image2 = toGrey(load_image('dump/old_test/x.jpg'))\n",
    "# sample_image2 = toGrey(load_image('dump/img_12.jpg'))\n",
    "# sample_image2 = toGrey(load_image('dump/img_3.jpg'))\n",
    "# sample_image2 = toGrey(load_image('dump/old_test/img_202.jpg'))\n",
    "# sample_image2 = toGrey(load_image('dump/old_test/img_231.jpg'))\n",
    "# sample_image2 = toGrey(load_image('dump/old_test/img_215.jpg'))\n",
    "# sample_image2 = toGrey(load_image('dump/old_test/img_5.jpg'))\n",
    "# sample_image2 = toGrey(load_image('dump/old_test/img_225.jpg'))\n",
    "sample_image2 = toGrey(load_image('dump/old_test/9.jpg'))\n",
    "sample_image2 = toGrey(load_image('dump/old_test/img_204.jpg'))\n",
    "sample_image2 = toGrey(load_image('dump/old_test/img_229.jpg'))\n",
    "sample_image2 = toGrey(load_image('dump/old_test/img_217.jpg'))"
   ]
  },
  {
   "cell_type": "code",
   "execution_count": null,
   "metadata": {},
   "outputs": [],
   "source": [
    "plt.imshow(sample_image1.astype(np.uint8), cmap='gray', vmin=0)"
   ]
  },
  {
   "cell_type": "code",
   "execution_count": null,
   "metadata": {},
   "outputs": [],
   "source": [
    "plt.imshow(sample_image2.astype(np.uint8), cmap='gray', vmin=0)"
   ]
  },
  {
   "cell_type": "code",
   "execution_count": 1202,
   "metadata": {},
   "outputs": [],
   "source": [
    "def segment(y):\n",
    "    y_unique = np.unique(y)\n",
    "\n",
    "    cls, cx = [], 0\n",
    "    last_b = -1\n",
    "    for i in y_unique:\n",
    "        m = abs(i - y_unique).flatten()\n",
    "        m = m.mean() - m.std()/2\n",
    "\n",
    "        a = i - m;a = 0 if a < 0 else a\n",
    "        b = i + m;b = 255 if b > 255 else b\n",
    "\n",
    "        img = ((y >= a) & (y <= b)).astype(np.int8)\n",
    "\n",
    "        display = False\n",
    "        if len(cls) == 0:\n",
    "            cls = np.array([img], dtype=np.int8)\n",
    "            last_a, last_b = a, b\n",
    "            display = True\n",
    "\n",
    "        else:\n",
    "            if abs(a - last_a) > .25*y_unique.std() and (not is_row_in_array(img, cls)):\n",
    "                cls = np.concatenate((cls, [img]))\n",
    "                last_a, last_b = a, b\n",
    "                display = True\n",
    "\n",
    "        if display:\n",
    "            imgx = img.copy()\n",
    "            cx+=1\n",
    "\n",
    "            fig=plt.figure(figsize=(10, 10))\n",
    "            w, h, rows, columns = 10, 10, 1, 3\n",
    "\n",
    "            ret, labels = cv2.connectedComponents(img)\n",
    "    #         labeled_img = imshow_components(labels)\n",
    "\n",
    "            li = [0, img, y]#, labeled_img]\n",
    "\n",
    "            print(f'n_classes = {len(cls)}, ret = {ret}')\n",
    "            for k in range(1, columns*rows):\n",
    "                ax = fig.add_subplot(rows, columns, k)\n",
    "                ax.set_title('{}: ({:.2f}-{:.2f}) +/- {:.2f}'.format(np.amax(labels), a, b, m))\n",
    "\n",
    "                if k == 2:\n",
    "                    img1 = li[k]\n",
    "                    plt.imshow(li[k], cmap='gray', vmax=255)\n",
    "\n",
    "                if k == 1:\n",
    "                    img1 = np.zeros(tuple(list(img.shape)+[3]))\n",
    "                    for i in range(3):\n",
    "                        img1[:,:,i] = 255*img\n",
    "                    plt.imshow(li[k], cmap='gray', vmin=0)\n",
    "\n",
    "                    cv2.imwrite('dump/{}-{}.png'.format(len(cls), k), img1)\n",
    "            plt.show()\n",
    "\n",
    "\n",
    "        if cx == -1:\n",
    "            break\n",
    "            \n",
    "    label = 1\n",
    "    pos = np.where(labels == label)\n",
    "    ar1, ar2 = pos\n",
    "\n",
    "    x1, x2 = min(ar1), max(ar1)+1\n",
    "    y1, y2 = min(ar2), max(ar2)+1\n",
    "    return labels[x1:x2, y1:y2]\n"
   ]
  },
  {
   "cell_type": "code",
   "execution_count": 1203,
   "metadata": {},
   "outputs": [
    {
     "name": "stdout",
     "output_type": "stream",
     "text": [
      "n_classes = 1, ret = 2\n"
     ]
    },
    {
     "data": {
      "image/png": "[encoded data removed]",
      "text/plain": [
       "<Figure size 720x720 with 2 Axes>"
      ]
     },
     "metadata": {
      "needs_background": "light"
     },
     "output_type": "display_data"
    },
    {
     "name": "stdout",
     "output_type": "stream",
     "text": [
      "n_classes = 2, ret = 7\n"
     ]
    },
    {
     "data": {
      "image/png": "[encoded data removed]",
      "text/plain": [
       "<Figure size 720x720 with 2 Axes>"
      ]
     },
     "metadata": {
      "needs_background": "light"
     },
     "output_type": "display_data"
    },
    {
     "name": "stdout",
     "output_type": "stream",
     "text": [
      "n_classes = 3, ret = 7\n"
     ]
    },
    {
     "data": {
      "image/png": "[encoded data removed]",
      "text/plain": [
       "<Figure size 720x720 with 2 Axes>"
      ]
     },
     "metadata": {
      "needs_background": "light"
     },
     "output_type": "display_data"
    },
    {
     "name": "stdout",
     "output_type": "stream",
     "text": [
      "n_classes = 4, ret = 6\n"
     ]
    },
    {
     "data": {
      "image/png": "[encoded data removed]",
      "text/plain": [
       "<Figure size 720x720 with 2 Axes>"
      ]
     },
     "metadata": {
      "needs_background": "light"
     },
     "output_type": "display_data"
    },
    {
     "name": "stdout",
     "output_type": "stream",
     "text": [
      "n_classes = 5, ret = 2\n"
     ]
    },
    {
     "data": {
      "image/png": "[encoded data removed]",
      "text/plain": [
       "<Figure size 720x720 with 2 Axes>"
      ]
     },
     "metadata": {
      "needs_background": "light"
     },
     "output_type": "display_data"
    },
    {
     "name": "stdout",
     "output_type": "stream",
     "text": [
      "n_classes = 6, ret = 2\n"
     ]
    },
    {
     "data": {
      "image/png": "[encoded data removed]",
      "text/plain": [
       "<Figure size 720x720 with 2 Axes>"
      ]
     },
     "metadata": {
      "needs_background": "light"
     },
     "output_type": "display_data"
    }
   ],
   "source": [
    "image1 = segment(sample_image1)"
   ]
  },
  {
   "cell_type": "code",
   "execution_count": 1204,
   "metadata": {},
   "outputs": [
    {
     "name": "stdout",
     "output_type": "stream",
     "text": [
      "n_classes = 1, ret = 2\n"
     ]
    },
    {
     "data": {
      "image/png": "[encoded data removed]",
      "text/plain": [
       "<Figure size 720x720 with 2 Axes>"
      ]
     },
     "metadata": {
      "needs_background": "light"
     },
     "output_type": "display_data"
    },
    {
     "name": "stdout",
     "output_type": "stream",
     "text": [
      "n_classes = 2, ret = 10\n"
     ]
    },
    {
     "data": {
      "image/png": "[encoded data removed]",
      "text/plain": [
       "<Figure size 720x720 with 2 Axes>"
      ]
     },
     "metadata": {
      "needs_background": "light"
     },
     "output_type": "display_data"
    },
    {
     "name": "stdout",
     "output_type": "stream",
     "text": [
      "n_classes = 3, ret = 9\n"
     ]
    },
    {
     "data": {
      "image/png": "[encoded data removed]",
      "text/plain": [
       "<Figure size 720x720 with 2 Axes>"
      ]
     },
     "metadata": {
      "needs_background": "light"
     },
     "output_type": "display_data"
    },
    {
     "name": "stdout",
     "output_type": "stream",
     "text": [
      "n_classes = 4, ret = 10\n"
     ]
    },
    {
     "data": {
      "image/png": "[encoded data removed]",
      "text/plain": [
       "<Figure size 720x720 with 2 Axes>"
      ]
     },
     "metadata": {
      "needs_background": "light"
     },
     "output_type": "display_data"
    },
    {
     "name": "stdout",
     "output_type": "stream",
     "text": [
      "n_classes = 5, ret = 2\n"
     ]
    },
    {
     "data": {
      "image/png": "[encoded data removed]",
      "text/plain": [
       "<Figure size 720x720 with 2 Axes>"
      ]
     },
     "metadata": {
      "needs_background": "light"
     },
     "output_type": "display_data"
    },
    {
     "name": "stdout",
     "output_type": "stream",
     "text": [
      "n_classes = 6, ret = 2\n"
     ]
    },
    {
     "data": {
      "image/png": "[encoded data removed]",
      "text/plain": [
       "<Figure size 720x720 with 2 Axes>"
      ]
     },
     "metadata": {
      "needs_background": "light"
     },
     "output_type": "display_data"
    }
   ],
   "source": [
    "image2 = segment(sample_image2)"
   ]
  },
  {
   "cell_type": "code",
   "execution_count": 1205,
   "metadata": {
    "scrolled": true
   },
   "outputs": [
    {
     "data": {
      "text/plain": [
       "<matplotlib.image.AxesImage at 0x1cf9abfc7f0>"
      ]
     },
     "execution_count": 1205,
     "metadata": {},
     "output_type": "execute_result"
    },
    {
     "data": {
      "image/png": "[encoded data removed]",
      "text/plain": [
       "<Figure size 432x288 with 1 Axes>"
      ]
     },
     "metadata": {
      "needs_background": "light"
     },
     "output_type": "display_data"
    }
   ],
   "source": [
    "plt.imshow(image1, cmap='gray', vmin=0, vmax=1)"
   ]
  },
  {
   "cell_type": "code",
   "execution_count": 1206,
   "metadata": {},
   "outputs": [
    {
     "data": {
      "text/plain": [
       "<matplotlib.image.AxesImage at 0x1cf9ac38518>"
      ]
     },
     "execution_count": 1206,
     "metadata": {},
     "output_type": "execute_result"
    },
    {
     "data": {
      "image/png": "[encoded data removed]",
      "text/plain": [
       "<Figure size 432x288 with 1 Axes>"
      ]
     },
     "metadata": {
      "needs_background": "light"
     },
     "output_type": "display_data"
    }
   ],
   "source": [
    "plt.imshow(image2, cmap='gray', vmin=0, vmax=1)"
   ]
  },
  {
   "cell_type": "code",
   "execution_count": 13,
   "metadata": {},
   "outputs": [],
   "source": [
    "def image2coord(image, w):\n",
    "    img = np.array(np.where(image==1))\n",
    "    return img\n",
    "\n",
    "def centralize(img):\n",
    "    res = []\n",
    "    for row in img:\n",
    "        res.append(row - row.mean())\n",
    "    return np.array(res, dtype=np.float16)"
   ]
  },
  {
   "cell_type": "code",
   "execution_count": 15,
   "metadata": {},
   "outputs": [
    {
     "name": "stdout",
     "output_type": "stream",
     "text": [
      "[[0 1 1 2 3 3]\n",
      " [4 1 3 2 1 3]]\n",
      "[[0 0 1 1 2 3 3 4 4]\n",
      " [0 4 1 3 2 1 3 0 4]]\n"
     ]
    }
   ],
   "source": [
    "img1 = image2coord(image1, h)\n",
    "img2 = image2coord(image2, h)\n",
    "\n",
    "print(img1)\n",
    "print(img2)"
   ]
  },
  {
   "cell_type": "code",
   "execution_count": 16,
   "metadata": {},
   "outputs": [
    {
     "name": "stdout",
     "output_type": "stream",
     "text": [
      "[1.66666667 2.33333333]\n",
      "[2. 2.]\n"
     ]
    }
   ],
   "source": [
    "centroid1 = img1.mean(1)\n",
    "centroid2 = img2.mean(1)\n",
    "\n",
    "print(centroid1)\n",
    "print(centroid2)"
   ]
  },
  {
   "cell_type": "code",
   "execution_count": 113,
   "metadata": {},
   "outputs": [
    {
     "name": "stdout",
     "output_type": "stream",
     "text": [
      "[[-1.667  -0.6665 -0.6665  0.3333  1.333   1.333 ]\n",
      " [ 1.667  -1.333   0.6665 -0.3333 -1.333   0.6665]]\n",
      "[[-2. -2. -1. -1.  0.  1.  1.  2.  2.]\n",
      " [-2.  2. -1.  1.  0. -1.  1. -2.  2.]]\n"
     ]
    },
    {
     "ename": "ValueError",
     "evalue": "operands could not be broadcast together with shapes (2,6) (2,) ",
     "output_type": "error",
     "traceback": [
      "\u001b[1;31m---------------------------------------------------------------------------\u001b[0m",
      "\u001b[1;31mValueError\u001b[0m                                Traceback (most recent call last)",
      "\u001b[1;32m<ipython-input-113-796fe0583bc5>\u001b[0m in \u001b[0;36m<module>\u001b[1;34m\u001b[0m\n\u001b[0;32m      4\u001b[0m \u001b[0mprint\u001b[0m\u001b[1;33m(\u001b[0m\u001b[0mcentral1\u001b[0m\u001b[1;33m)\u001b[0m\u001b[1;33m\u001b[0m\u001b[1;33m\u001b[0m\u001b[0m\n\u001b[0;32m      5\u001b[0m \u001b[0mprint\u001b[0m\u001b[1;33m(\u001b[0m\u001b[0mcentral2\u001b[0m\u001b[1;33m)\u001b[0m\u001b[1;33m\u001b[0m\u001b[1;33m\u001b[0m\u001b[0m\n\u001b[1;32m----> 6\u001b[1;33m \u001b[0mimg1\u001b[0m \u001b[1;33m-\u001b[0m \u001b[0mcentroid1\u001b[0m\u001b[1;33m\u001b[0m\u001b[1;33m\u001b[0m\u001b[0m\n\u001b[0m",
      "\u001b[1;31mValueError\u001b[0m: operands could not be broadcast together with shapes (2,6) (2,) "
     ]
    }
   ],
   "source": [
    "central1 = centralize(img1)\n",
    "central2 = centralize(img2)\n",
    "\n",
    "print(central1)\n",
    "print(central2)\n",
    "img1 - centroid1"
   ]
  },
  {
   "cell_type": "code",
   "execution_count": 1211,
   "metadata": {},
   "outputs": [],
   "source": [
    "# ratio = np.reshape((np.array(image1.shape) - 1) / (np.array(image2.shape) - 1), (2, 1))\n",
    "# if img2.size < img1.size:\n",
    "#     central1, central2 = central2, central1\n",
    "#     ratio = np.reshape((np.array(image2.shape) - 1) / (np.array(image1.shape) - 1), (2, 1))\n",
    "\n",
    "# a = central1.mean(0)\n",
    "# b = (ratio * central2).mean(0)\n",
    "\n",
    "# # print(central1)\n",
    "# # print(central2)\n",
    "# ratio"
   ]
  },
  {
   "cell_type": "code",
   "execution_count": 1212,
   "metadata": {},
   "outputs": [],
   "source": [
    "a, b = central1.mean(0), central2.mean(0)"
   ]
  },
  {
   "cell_type": "code",
   "execution_count": 1213,
   "metadata": {
    "scrolled": false
   },
   "outputs": [
    {
     "name": "stdout",
     "output_type": "stream",
     "text": [
      "1.264 -0.263671875\n"
     ]
    }
   ],
   "source": [
    "a_values = b_values = delta = 0\n",
    "count = 0\n",
    "a_max_dev = 0\n",
    "\n",
    "az_temp = list(a)\n",
    "deltas = []\n",
    "\n",
    "while len(az_temp):\n",
    "    track_index = 0\n",
    "    az = np.array(az_temp)\n",
    "    \n",
    "    for value_index, value in enumerate(az):\n",
    "        dev = abs(b[track_index:] - value)\n",
    "        if not len(dev):\n",
    "            break\n",
    "\n",
    "        if dev.mean() > a_max_dev:\n",
    "            a_max_dev = dev.mean()\n",
    "        \n",
    "        az_temp.remove(value)\n",
    "        deltas.append(dev[dev.argmin()])\n",
    "        track_index += dev.argmin() + 1\n",
    "\n",
    "error = np.array(deltas).mean()\n",
    "\n",
    "sim = (1 - error)\n",
    "print(error, sim)\n",
    "\n",
    "# factor = (len(a) + len(b)) / (len(b) * len(a))\n",
    "factor = 1 / np.array(range(len(deltas)+1, 0, -1))\n",
    "\n",
    "li.append([float(f'{x:.5f}') for x in (np.array(deltas).sum(), error, (error * factor).mean(), sim)])"
   ]
  },
  {
   "cell_type": "code",
   "execution_count": 1214,
   "metadata": {
    "scrolled": true
   },
   "outputs": [
    {
     "name": "stdout",
     "output_type": "stream",
     "text": [
      "9 [30.79688, 0.76953, 0.08076, 0.23047]\n",
      "9 [60.625, 1.51562, 0.15906, -0.51562]\n",
      "1 [37.03125, 0.92578, 0.09716, 0.07422]\n",
      "1 [50.53125, 1.26367, 0.13262, -0.26367]\n"
     ]
    }
   ],
   "source": [
    "for ind in range(len(li)):\n",
    "    print(nums[ind], li[ind])"
   ]
  },
  {
   "cell_type": "code",
   "execution_count": 1215,
   "metadata": {},
   "outputs": [
    {
     "name": "stdout",
     "output_type": "stream",
     "text": [
      "9 0.750770298757445 0.0787912223404562\n",
      "9 1.478653777513002 0.15518050029111394\n",
      "1 0.9032000297441608 0.09479024702406906\n",
      "1 1.23283952726445 0.12938439474373162\n"
     ]
    }
   ],
   "source": [
    "trust = lambda x: x/(x+1)\n",
    "for ind, lix in enumerate(li):\n",
    "    n = lix[0]/lix[1]\n",
    "    print(nums[ind], lix[1]*trust(n), lix[2]*trust(n))"
   ]
  },
  {
   "cell_type": "code",
   "execution_count": 84,
   "metadata": {},
   "outputs": [],
   "source": [
    "A = np.array(\n",
    "    [\n",
    "        [-2, 2],\n",
    "        [-1, -2],\n",
    "        [0, 3],\n",
    "        [2, 0]\n",
    "    ], dtype=np.float64\n",
    ")\n",
    "\n",
    "B = np.array(\n",
    "    [\n",
    "        [1, 3],\n",
    "        [-4, 7],\n",
    "        [1, -2],\n",
    "        [-1, 0]\n",
    "    ], dtype=np.float64\n",
    ")"
   ]
  },
  {
   "cell_type": "code",
   "execution_count": 85,
   "metadata": {},
   "outputs": [
    {
     "data": {
      "text/plain": [
       "(array([[-2.,  2.],\n",
       "        [-1., -2.],\n",
       "        [ 0.,  3.],\n",
       "        [ 2.,  0.]]), array([5., 7.]))"
      ]
     },
     "execution_count": 85,
     "metadata": {},
     "output_type": "execute_result"
    }
   ],
   "source": [
    "A, abs(A).sum(0)"
   ]
  },
  {
   "cell_type": "code",
   "execution_count": 86,
   "metadata": {},
   "outputs": [
    {
     "data": {
      "text/plain": [
       "(array([[ 1.,  3.],\n",
       "        [-4.,  7.],\n",
       "        [ 1., -2.],\n",
       "        [-1.,  0.]]), array([ 7., 12.]))"
      ]
     },
     "execution_count": 86,
     "metadata": {},
     "output_type": "execute_result"
    }
   ],
   "source": [
    "B, abs(B).sum(0)"
   ]
  },
  {
   "cell_type": "code",
   "execution_count": 87,
   "metadata": {},
   "outputs": [
    {
     "data": {
      "text/plain": [
       "array([[-2.,  2.],\n",
       "       [-2., -1.],\n",
       "       [ 0.,  3.],\n",
       "       [ 0.,  2.]])"
      ]
     },
     "execution_count": 87,
     "metadata": {},
     "output_type": "execute_result"
    }
   ],
   "source": [
    "np.sort(A)"
   ]
  },
  {
   "cell_type": "code",
   "execution_count": 88,
   "metadata": {},
   "outputs": [
    {
     "data": {
      "text/plain": [
       "array([[-1., -2.],\n",
       "       [-2.,  2.],\n",
       "       [ 2.,  0.],\n",
       "       [ 0.,  3.]])"
      ]
     },
     "execution_count": 88,
     "metadata": {},
     "output_type": "execute_result"
    }
   ],
   "source": [
    "sorted_A = A[np.lexsort((range(len(A)), A.mean(1)))]\n",
    "sorted_A"
   ]
  },
  {
   "cell_type": "code",
   "execution_count": 89,
   "metadata": {},
   "outputs": [
    {
     "data": {
      "text/plain": [
       "array([[ 1., -2.],\n",
       "       [-1.,  0.],\n",
       "       [-4.,  7.],\n",
       "       [ 1.,  3.]])"
      ]
     },
     "execution_count": 89,
     "metadata": {},
     "output_type": "execute_result"
    }
   ],
   "source": [
    "sorted_B = B[np.lexsort((range(len(B)), B.mean(1)))]\n",
    "sorted_B"
   ]
  },
  {
   "cell_type": "code",
   "execution_count": 90,
   "metadata": {},
   "outputs": [],
   "source": [
    "from itertools import permutations"
   ]
  },
  {
   "cell_type": "code",
   "execution_count": 112,
   "metadata": {},
   "outputs": [
    {
     "name": "stdout",
     "output_type": "stream",
     "text": [
      "38 [7]\n",
      "18 [7, 0]\n",
      "38 [7, 0, 24]\n",
      "33 [7, 0, 24, 11]\n",
      "38 [7, 0, 24, 11, 26]\n",
      "68 [7, 0, 24, 11, 26, 20]\n",
      "51 [7, 0, 24, 11, 26, 20, 2]\n",
      "8 [7, 0, 24, 11, 26, 20, 2, 13]\n",
      "39 [7, 0, 24, 11, 26, 20, 2, 13, 15]\n",
      "64 [7, 0, 24, 11, 26, 20, 2, 13, 15, 8]\n",
      "16 [7, 0, 24, 11, 26, 20, 2, 13, 15, 8, 14]\n",
      "48 [7, 0, 24, 11, 26, 20, 2, 13, 15, 8, 14, 1]\n",
      "30 [7, 0, 24, 11, 26, 20, 2, 13, 15, 8, 14, 1, 21]\n",
      "53 [7, 0, 24, 11, 26, 20, 2, 13, 15, 8, 14, 1, 21, 10]\n",
      "28 [7, 0, 24, 11, 26, 20, 2, 13, 15, 8, 14, 1, 21, 10, 16]\n",
      "68 [7, 0, 24, 11, 26, 20, 2, 13, 15, 8, 14, 1, 21, 10, 16, 9]\n",
      "75 [7, 0, 24, 11, 26, 20, 2, 13, 15, 8, 14, 1, 21, 10, 16, 9, 27]\n",
      "83 [7, 0, 24, 11, 26, 20, 2, 13, 15, 8, 14, 1, 21, 10, 16, 9, 27, 17]\n",
      "60 [7, 0, 24, 11, 26, 20, 2, 13, 15, 8, 14, 1, 21, 10, 16, 9, 27, 17, 5]\n",
      "36 [7, 0, 24, 11, 26, 20, 2, 13, 15, 8, 14, 1, 21, 10, 16, 9, 27, 17, 5, 12]\n",
      "90 [7, 0, 24, 11, 26, 20, 2, 13, 15, 8, 14, 1, 21, 10, 16, 9, 27, 17, 5, 12, 22]\n",
      "36 [7, 0, 24, 11, 26, 20, 2, 13, 15, 8, 14, 1, 21, 10, 16, 9, 27, 17, 5, 12, 22, 3]\n",
      "72 [7, 0, 24, 11, 26, 20, 2, 13, 15, 8, 14, 1, 21, 10, 16, 9, 27, 17, 5, 12, 22, 3, 25]\n",
      "132 [7, 0, 24, 11, 26, 20, 2, 13, 15, 8, 14, 1, 21, 10, 16, 9, 27, 17, 5, 12, 22, 3, 25, 23]\n",
      "30 [7, 0, 24, 11, 26, 20, 2, 13, 15, 8, 14, 1, 21, 10, 16, 9, 27, 17, 5, 12, 22, 3, 25, 23, 4]\n",
      "84 [7, 0, 24, 11, 26, 20, 2, 13, 15, 8, 14, 1, 21, 10, 16, 9, 27, 17, 5, 12, 22, 3, 25, 23, 4, 6]\n",
      "109 [7, 0, 24, 11, 26, 20, 2, 13, 15, 8, 14, 1, 21, 10, 16, 9, 27, 17, 5, 12, 22, 3, 25, 23, 4, 6, 18]\n",
      "203 [7, 0, 24, 11, 26, 20, 2, 13, 15, 8, 14, 1, 21, 10, 16, 9, 27, 17, 5, 12, 22, 3, 25, 23, 4, 6, 18, 19]\n",
      "min1 = 1648, min2 = 3102\n"
     ]
    }
   ],
   "source": [
    "sortArray = lambda matrix: matrix[np.lexsort((range(len(matrix)), matrix.mean(1)))]\n",
    "\n",
    "num_of_iterations = 1\n",
    "\n",
    "for _ in range(num_of_iterations):\n",
    "    rows = 28\n",
    "    columns = 2\n",
    "    \n",
    "    A = np.random.randint(255, size=(rows, columns))\n",
    "    B = np.random.randint(255, size=(rows, columns))\n",
    "\n",
    "    X, Y = (A, B) if len(A) <= len(B) else (B, A)\n",
    "    indices = np.array(range(len(X)))\n",
    "\n",
    "    base = Y.copy()\n",
    "    cost, other_indices = 0, []\n",
    "\n",
    "    for xx in X:\n",
    "        diff = abs(xx - base).sum(1)\n",
    "        cost += diff.min()\n",
    "\n",
    "        other_indices.append(diff.argmin())\n",
    "        base[diff.argmin()] = 10e5\n",
    "\n",
    "        print(diff.min(), other_indices)\n",
    "    print(f\"min1 = {cost}, min2 = {abs(sortArray(A) - sortArray(B)).sum()}\")"
   ]
  },
  {
   "cell_type": "code",
   "execution_count": 95,
   "metadata": {},
   "outputs": [
    {
     "data": {
      "text/plain": [
       "array([[ 72, 227],\n",
       "       [ 72,  48],\n",
       "       [163, 115],\n",
       "       [ 50,  27]])"
      ]
     },
     "execution_count": 95,
     "metadata": {},
     "output_type": "execute_result"
    }
   ],
   "source": [
    "A"
   ]
  },
  {
   "cell_type": "code",
   "execution_count": 100,
   "metadata": {},
   "outputs": [
    {
     "data": {
      "text/plain": [
       "550"
      ]
     },
     "execution_count": 100,
     "metadata": {},
     "output_type": "execute_result"
    }
   ],
   "source": [
    "abs(sortArray(A)-sortArray(B)).sum()"
   ]
  },
  {
   "cell_type": "code",
   "execution_count": 97,
   "metadata": {},
   "outputs": [
    {
     "data": {
      "text/plain": [
       "array([[ 33,  29],\n",
       "       [ 60,  99],\n",
       "       [  7, 176],\n",
       "       [208, 112]])"
      ]
     },
     "execution_count": 97,
     "metadata": {},
     "output_type": "execute_result"
    }
   ],
   "source": [
    "sortArray(B)"
   ]
  },
  {
   "cell_type": "code",
   "execution_count": null,
   "metadata": {},
   "outputs": [],
   "source": []
  }
 ],
 "metadata": {
  "kernelspec": {
   "display_name": "Python 3",
   "language": "python",
   "name": "python3"
  },
  "language_info": {
   "codemirror_mode": {
    "name": "ipython",
    "version": 3
   },
   "file_extension": ".py",
   "mimetype": "text/x-python",
   "name": "python",
   "nbconvert_exporter": "python",
   "pygments_lexer": "ipython3",
   "version": "3.7.2"
  }
 },
 "nbformat": 4,
 "nbformat_minor": 2
}
