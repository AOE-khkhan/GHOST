{
 "cells": [
  {
   "cell_type": "code",
   "execution_count": null,
   "metadata": {},
   "outputs": [],
   "source": []
  }
 ],
 "metadata": {
  "kernelspec": {
   "display_name": "'Python Interactive'",
   "language": "python",
   "name": "13daf823-6110-4dff-a16b-2b73086f10ad"
  }
 },
 "nbformat": 4,
 "nbformat_minor": 2
}
